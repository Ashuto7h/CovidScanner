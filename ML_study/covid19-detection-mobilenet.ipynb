{
 "cells": [
  {
   "cell_type": "code",
   "execution_count": 1,
   "id": "56ebc466",
   "metadata": {
    "_cell_guid": "c84e3114-c6d5-41c8-8717-90eaf744f3ea",
    "_uuid": "7245dc27-5719-4db1-b993-8b47df2d6ef4",
    "collapsed": false,
    "execution": {
     "iopub.execute_input": "2021-11-13T04:54:20.354140Z",
     "iopub.status.busy": "2021-11-13T04:54:20.352642Z",
     "iopub.status.idle": "2021-11-13T04:54:33.884858Z",
     "shell.execute_reply": "2021-11-13T04:54:33.888102Z",
     "shell.execute_reply.started": "2021-10-20T09:42:32.038319Z"
    },
    "jupyter": {
     "outputs_hidden": false
    },
    "papermill": {
     "duration": 13.557542,
     "end_time": "2021-11-13T04:54:33.888576",
     "exception": false,
     "start_time": "2021-11-13T04:54:20.331034",
     "status": "completed"
    },
    "tags": []
   },
   "outputs": [
    {
     "name": "stderr",
     "output_type": "stream",
     "text": [
      "\u001b[34m\u001b[1mwandb\u001b[0m: W&B API key is configured (use `wandb login --relogin` to force relogin)\n",
      "\u001b[34m\u001b[1mwandb\u001b[0m: \u001b[33mWARNING\u001b[0m If you're specifying your api key in code, ensure this code is not shared publically.\n",
      "\u001b[34m\u001b[1mwandb\u001b[0m: \u001b[33mWARNING\u001b[0m Consider setting the WANDB_API_KEY environment variable, or running `wandb login` from the command line.\n",
      "\u001b[34m\u001b[1mwandb\u001b[0m: Appending key for api.wandb.ai to your netrc file: /root/.netrc\n",
      "\u001b[34m\u001b[1mwandb\u001b[0m: Currently logged in as: \u001b[33mashuto7h\u001b[0m (use `wandb login --relogin` to force relogin)\n",
      "\u001b[34m\u001b[1mwandb\u001b[0m: wandb version 0.12.6 is available!  To upgrade, please run:\n",
      "\u001b[34m\u001b[1mwandb\u001b[0m:  $ pip install wandb --upgrade\n",
      "\n",
      "CondaEnvException: Unable to determine environment\n",
      "\n",
      "Please re-run this command with one of the following options:\n",
      "\n",
      "* Provide an environment name via --name or -n\n",
      "* Re-run this command inside an activated conda environment.\n",
      "\n"
     ]
    },
    {
     "data": {
      "text/html": [
       "\n",
       "                    Syncing run <strong><a href=\"https://wandb.ai/ashuto7h/covid19/runs/3779qshy\" target=\"_blank\">volcanic-grass-106</a></strong> to <a href=\"https://wandb.ai/ashuto7h/covid19\" target=\"_blank\">Weights & Biases</a> (<a href=\"https://docs.wandb.com/integrations/jupyter.html\" target=\"_blank\">docs</a>).<br/>\n",
       "\n",
       "                "
      ],
      "text/plain": [
       "<IPython.core.display.HTML object>"
      ]
     },
     "metadata": {},
     "output_type": "display_data"
    }
   ],
   "source": [
    "import os\n",
    "from sklearn.metrics import confusion_matrix\n",
    "from sklearn.metrics import classification_report\n",
    "import seaborn\n",
    "import matplotlib.pyplot as pyplot\n",
    "from tensorflow.keras import layers\n",
    "from tensorflow import keras\n",
    "import tensorflow as tf\n",
    "from sklearn.utils.class_weight import compute_class_weight\n",
    "import pandas\n",
    "import numpy\n",
    "import wandb\n",
    "from wandb.keras import WandbCallback\n",
    "\n",
    "wandb.login(key='ea1404a9d16ac9056181f111599286f24c65e0e9')\n",
    "wandb.init(project='covid19', entity='ashuto7h')\n",
    "config = wandb.config\n"
   ]
  },
  {
   "cell_type": "code",
   "execution_count": 2,
   "id": "c8e65f3a",
   "metadata": {
    "_cell_guid": "1e459001-35ae-454e-a72c-2287829b0a05",
    "_uuid": "aa712a9e-fb0a-4dc1-af76-627d8079a9a1",
    "collapsed": false,
    "execution": {
     "iopub.execute_input": "2021-11-13T04:54:33.954849Z",
     "iopub.status.busy": "2021-11-13T04:54:33.954046Z",
     "iopub.status.idle": "2021-11-13T04:54:34.286937Z",
     "shell.execute_reply": "2021-11-13T04:54:34.286345Z",
     "shell.execute_reply.started": "2021-10-19T13:59:37.289802Z"
    },
    "jupyter": {
     "outputs_hidden": false
    },
    "papermill": {
     "duration": 0.360571,
     "end_time": "2021-11-13T04:54:34.287248",
     "exception": false,
     "start_time": "2021-11-13T04:54:33.926677",
     "status": "completed"
    },
    "tags": []
   },
   "outputs": [],
   "source": [
    "# ! pip install tensorflow --upgrade\n"
   ]
  },
  {
   "cell_type": "code",
   "execution_count": 3,
   "id": "26b0fd2d",
   "metadata": {
    "_cell_guid": "f3415c8d-618f-4f86-a7b2-90d4a9c624ff",
    "_uuid": "322d4b3d-09c4-4218-b6be-a5ae57cb343e",
    "collapsed": false,
    "execution": {
     "iopub.execute_input": "2021-11-13T04:54:34.332990Z",
     "iopub.status.busy": "2021-11-13T04:54:34.332461Z",
     "iopub.status.idle": "2021-11-13T04:54:35.936513Z",
     "shell.execute_reply": "2021-11-13T04:54:35.937156Z",
     "shell.execute_reply.started": "2021-10-20T09:42:48.12613Z"
    },
    "jupyter": {
     "outputs_hidden": false
    },
    "papermill": {
     "duration": 1.632494,
     "end_time": "2021-11-13T04:54:35.937346",
     "exception": false,
     "start_time": "2021-11-13T04:54:34.304852",
     "status": "completed"
    },
    "tags": []
   },
   "outputs": [
    {
     "name": "stdout",
     "output_type": "stream",
     "text": [
      "2COVID       7593\n",
      "1NonCOVID    6893\n",
      "3CAP         2618\n",
      "Name: labels, dtype: int64\n"
     ]
    }
   ],
   "source": [
    "sdir = r'../input/large-covid19-ct-slice-dataset/curated_data/curated_data'\n",
    "filepaths = []\n",
    "labels = []\n",
    "classlist = os.listdir(sdir)\n",
    "for item in classlist:\n",
    "    classpath = os.path.join(sdir, item)\n",
    "    flist = os.listdir(classpath)\n",
    "    for f in flist:\n",
    "        fpath = os.path.join(classpath, f)\n",
    "        filepaths.append(fpath)\n",
    "        labels.append(item)\n",
    "\n",
    "df = pandas.DataFrame()\n",
    "df['filepath'] = filepaths\n",
    "df['labels'] = labels\n",
    "print(df['labels'].value_counts())\n",
    "df = df.sample(frac=1).reset_index(drop=True)\n"
   ]
  },
  {
   "cell_type": "code",
   "execution_count": 4,
   "id": "864210ea",
   "metadata": {
    "_cell_guid": "054c8f1c-60ef-4b04-9d9b-26eeb7aea7b3",
    "_uuid": "c094d62c-e8bf-4a3d-9ff1-d1d1f706ce34",
    "collapsed": false,
    "execution": {
     "iopub.execute_input": "2021-11-13T04:54:35.988144Z",
     "iopub.status.busy": "2021-11-13T04:54:35.987444Z",
     "iopub.status.idle": "2021-11-13T04:54:36.400211Z",
     "shell.execute_reply": "2021-11-13T04:54:36.402175Z",
     "shell.execute_reply.started": "2021-10-20T09:42:49.476764Z"
    },
    "jupyter": {
     "outputs_hidden": false
    },
    "papermill": {
     "duration": 0.446446,
     "end_time": "2021-11-13T04:54:36.402423",
     "exception": false,
     "start_time": "2021-11-13T04:54:35.955977",
     "status": "completed"
    },
    "tags": []
   },
   "outputs": [
    {
     "data": {
      "text/html": [
       "<div>\n",
       "<style scoped>\n",
       "    .dataframe tbody tr th:only-of-type {\n",
       "        vertical-align: middle;\n",
       "    }\n",
       "\n",
       "    .dataframe tbody tr th {\n",
       "        vertical-align: top;\n",
       "    }\n",
       "\n",
       "    .dataframe thead th {\n",
       "        text-align: right;\n",
       "    }\n",
       "</style>\n",
       "<table border=\"1\" class=\"dataframe\">\n",
       "  <thead>\n",
       "    <tr style=\"text-align: right;\">\n",
       "      <th></th>\n",
       "      <th>filepath</th>\n",
       "      <th>labels</th>\n",
       "    </tr>\n",
       "  </thead>\n",
       "  <tbody>\n",
       "    <tr>\n",
       "      <th>0</th>\n",
       "      <td>../input/large-covid19-ct-slice-dataset/curate...</td>\n",
       "      <td>3CAP</td>\n",
       "    </tr>\n",
       "    <tr>\n",
       "      <th>1</th>\n",
       "      <td>../input/large-covid19-ct-slice-dataset/curate...</td>\n",
       "      <td>1NonCOVID</td>\n",
       "    </tr>\n",
       "    <tr>\n",
       "      <th>2</th>\n",
       "      <td>../input/large-covid19-ct-slice-dataset/curate...</td>\n",
       "      <td>3CAP</td>\n",
       "    </tr>\n",
       "    <tr>\n",
       "      <th>3</th>\n",
       "      <td>../input/large-covid19-ct-slice-dataset/curate...</td>\n",
       "      <td>2COVID</td>\n",
       "    </tr>\n",
       "    <tr>\n",
       "      <th>4</th>\n",
       "      <td>../input/large-covid19-ct-slice-dataset/curate...</td>\n",
       "      <td>2COVID</td>\n",
       "    </tr>\n",
       "    <tr>\n",
       "      <th>...</th>\n",
       "      <td>...</td>\n",
       "      <td>...</td>\n",
       "    </tr>\n",
       "    <tr>\n",
       "      <th>17099</th>\n",
       "      <td>../input/large-covid19-ct-slice-dataset/curate...</td>\n",
       "      <td>2COVID</td>\n",
       "    </tr>\n",
       "    <tr>\n",
       "      <th>17100</th>\n",
       "      <td>../input/large-covid19-ct-slice-dataset/curate...</td>\n",
       "      <td>2COVID</td>\n",
       "    </tr>\n",
       "    <tr>\n",
       "      <th>17101</th>\n",
       "      <td>../input/large-covid19-ct-slice-dataset/curate...</td>\n",
       "      <td>2COVID</td>\n",
       "    </tr>\n",
       "    <tr>\n",
       "      <th>17102</th>\n",
       "      <td>../input/large-covid19-ct-slice-dataset/curate...</td>\n",
       "      <td>1NonCOVID</td>\n",
       "    </tr>\n",
       "    <tr>\n",
       "      <th>17103</th>\n",
       "      <td>../input/large-covid19-ct-slice-dataset/curate...</td>\n",
       "      <td>2COVID</td>\n",
       "    </tr>\n",
       "  </tbody>\n",
       "</table>\n",
       "<p>17104 rows × 2 columns</p>\n",
       "</div>"
      ],
      "text/plain": [
       "                                                filepath     labels\n",
       "0      ../input/large-covid19-ct-slice-dataset/curate...       3CAP\n",
       "1      ../input/large-covid19-ct-slice-dataset/curate...  1NonCOVID\n",
       "2      ../input/large-covid19-ct-slice-dataset/curate...       3CAP\n",
       "3      ../input/large-covid19-ct-slice-dataset/curate...     2COVID\n",
       "4      ../input/large-covid19-ct-slice-dataset/curate...     2COVID\n",
       "...                                                  ...        ...\n",
       "17099  ../input/large-covid19-ct-slice-dataset/curate...     2COVID\n",
       "17100  ../input/large-covid19-ct-slice-dataset/curate...     2COVID\n",
       "17101  ../input/large-covid19-ct-slice-dataset/curate...     2COVID\n",
       "17102  ../input/large-covid19-ct-slice-dataset/curate...  1NonCOVID\n",
       "17103  ../input/large-covid19-ct-slice-dataset/curate...     2COVID\n",
       "\n",
       "[17104 rows x 2 columns]"
      ]
     },
     "execution_count": 4,
     "metadata": {},
     "output_type": "execute_result"
    }
   ],
   "source": [
    "df\n"
   ]
  },
  {
   "cell_type": "code",
   "execution_count": 5,
   "id": "5e604e23",
   "metadata": {
    "_cell_guid": "d6e97bea-9046-40cd-90b3-44a6166f06c9",
    "_uuid": "fe55e73a-b073-42f4-82f0-062212a85eb4",
    "collapsed": false,
    "execution": {
     "iopub.execute_input": "2021-11-13T04:54:36.483427Z",
     "iopub.status.busy": "2021-11-13T04:54:36.465221Z",
     "iopub.status.idle": "2021-11-13T04:54:36.885182Z",
     "shell.execute_reply": "2021-11-13T04:54:36.885824Z",
     "shell.execute_reply.started": "2021-10-19T13:59:37.444891Z"
    },
    "jupyter": {
     "outputs_hidden": false
    },
    "papermill": {
     "duration": 0.451341,
     "end_time": "2021-11-13T04:54:36.886056",
     "exception": false,
     "start_time": "2021-11-13T04:54:36.434715",
     "status": "completed"
    },
    "tags": []
   },
   "outputs": [
    {
     "name": "stdout",
     "output_type": "stream",
     "text": [
      "[2.17774382 0.8271193  0.75086703] ['3CAP' '1NonCOVID' '2COVID']\n"
     ]
    }
   ],
   "source": [
    "cw = compute_class_weight('balanced', classes=df.labels.unique(), y=df.labels)\n",
    "print(cw, df.labels.unique())\n"
   ]
  },
  {
   "cell_type": "code",
   "execution_count": 6,
   "id": "a45d947a",
   "metadata": {
    "_cell_guid": "4c33796d-64c6-4994-8a87-9f1ea4643755",
    "_uuid": "c4753261-ed5d-4f0c-8945-6967e5f7d604",
    "collapsed": false,
    "execution": {
     "iopub.execute_input": "2021-11-13T04:54:36.964941Z",
     "iopub.status.busy": "2021-11-13T04:54:36.964168Z",
     "iopub.status.idle": "2021-11-13T04:54:37.365434Z",
     "shell.execute_reply": "2021-11-13T04:54:37.366576Z",
     "shell.execute_reply.started": "2021-10-19T13:59:37.476427Z"
    },
    "jupyter": {
     "outputs_hidden": false
    },
    "papermill": {
     "duration": 0.443652,
     "end_time": "2021-11-13T04:54:37.366752",
     "exception": false,
     "start_time": "2021-11-13T04:54:36.923100",
     "status": "completed"
    },
    "tags": []
   },
   "outputs": [],
   "source": [
    "class_weights = {2: 2.17774382, 0: 0.8271193, 1: 0.75086703}\n",
    "class_map = {'2COVID': 1, '1NonCOVID': 0, '3CAP': 2}\n"
   ]
  },
  {
   "cell_type": "code",
   "execution_count": 7,
   "id": "30cafb17",
   "metadata": {
    "_cell_guid": "17e2a9da-5acb-4539-b41c-c9db1acdc5c0",
    "_uuid": "c53f83a7-0332-4ce0-933f-3de7bff8aa3e",
    "collapsed": false,
    "execution": {
     "iopub.execute_input": "2021-11-13T04:54:37.425236Z",
     "iopub.status.busy": "2021-11-13T04:54:37.424453Z",
     "iopub.status.idle": "2021-11-13T04:54:37.855219Z",
     "shell.execute_reply": "2021-11-13T04:54:37.854634Z",
     "shell.execute_reply.started": "2021-10-19T13:59:37.489899Z"
    },
    "jupyter": {
     "outputs_hidden": false
    },
    "papermill": {
     "duration": 0.466458,
     "end_time": "2021-11-13T04:54:37.855389",
     "exception": false,
     "start_time": "2021-11-13T04:54:37.388931",
     "status": "completed"
    },
    "tags": []
   },
   "outputs": [],
   "source": [
    "class DataGenerator(tf.keras.utils.Sequence):\n",
    "    def __init__(self, df, batch_size=32, shuffle=True, color_mode=\"rgb\"):\n",
    "        self.batch_size = batch_size\n",
    "        self.df = df\n",
    "        self.indices = self.df.index.tolist()\n",
    "        self.shuffle = shuffle\n",
    "        self.on_epoch_end()\n",
    "        self.color_mode = color_mode\n",
    "        self.augmentor = keras.preprocessing.image.ImageDataGenerator(\n",
    "            width_shift_range=0.1,\n",
    "            height_shift_range=0.1,\n",
    "            zoom_range=0.1,\n",
    "            horizontal_flip=True,\n",
    "            brightness_range=[0, 0.2])\n",
    "\n",
    "    def __len__(self):\n",
    "        return len(self.indices) // self.batch_size\n",
    "\n",
    "    def __getitem__(self, index):\n",
    "        index = self.index[index *\n",
    "                           self.batch_size:(index + 1) *\n",
    "                           self.batch_size]\n",
    "        batch = [self.indices[k] for k in index]\n",
    "\n",
    "        X, y = self.__get_data(batch)\n",
    "        return X, y\n",
    "\n",
    "    def on_epoch_end(self):\n",
    "        self.index = numpy.arange(len(self.indices))\n",
    "        if self.shuffle == True:\n",
    "            numpy.random.shuffle(self.index)\n",
    "\n",
    "    def __get_data(self, batch):\n",
    "        X = []\n",
    "        y = []\n",
    "        for i, id in enumerate(batch):\n",
    "            img = tf.keras.preprocessing.image.load_img(\n",
    "                self.df.loc[id, 'filepath'],\n",
    "                color_mode=self.color_mode,\n",
    "                target_size=(256, 256),\n",
    "                interpolation=\"nearest\")\n",
    "            img_array = tf.keras.preprocessing.image.img_to_array(img)\n",
    "            X.append(img_array/255)\n",
    "            ylist = [0, 0, 0]\n",
    "            ylist[class_map[self.df.loc[id, 'labels']]] = 1\n",
    "            ylist = numpy.array(ylist)\n",
    "            y.append(ylist)\n",
    "        X = numpy.array(X)\n",
    "        X = self.augmentor.flow(\n",
    "            X, batch_size=self.batch_size, shuffle=False).next()\n",
    "        y = numpy.array(y)\n",
    "        return X, y\n"
   ]
  },
  {
   "cell_type": "code",
   "execution_count": 8,
   "id": "31d9d500",
   "metadata": {
    "_cell_guid": "efc71176-9efd-406a-92aa-fce6955857e8",
    "_uuid": "85a1f9c1-0c94-4691-8bc0-98e144927a5c",
    "collapsed": false,
    "execution": {
     "iopub.execute_input": "2021-11-13T04:54:37.912117Z",
     "iopub.status.busy": "2021-11-13T04:54:37.905219Z",
     "iopub.status.idle": "2021-11-13T04:54:38.271013Z",
     "shell.execute_reply": "2021-11-13T04:54:38.270473Z",
     "shell.execute_reply.started": "2021-10-19T13:59:37.515979Z"
    },
    "jupyter": {
     "outputs_hidden": false
    },
    "papermill": {
     "duration": 0.395008,
     "end_time": "2021-11-13T04:54:38.271166",
     "exception": false,
     "start_time": "2021-11-13T04:54:37.876158",
     "status": "completed"
    },
    "tags": []
   },
   "outputs": [],
   "source": [
    "train_data = DataGenerator(df[:13684].reset_index(drop=True))  # 80%\n",
    "valid_data = DataGenerator(df[13684:15394].reset_index(drop=True))  # 80 - 90%\n",
    "test_data = DataGenerator(df[15394:].reset_index(\n",
    "    drop=True), shuffle=False)  # 90 - 100%\n",
    "\n",
    "# train_data = DataGenerator(df[:200].reset_index(drop=True))  # 80%\n",
    "# valid_data = DataGenerator(df[200:300].reset_index(drop=True))  # 80 - 90%\n",
    "# test_data = DataGenerator(df[300:400].reset_index(drop=True), shuffle=False)  # 90 - 100%\n"
   ]
  },
  {
   "cell_type": "code",
   "execution_count": 9,
   "id": "28060b4b",
   "metadata": {
    "_cell_guid": "d4ed4d9f-5fd7-4aa6-8782-362e184449ba",
    "_uuid": "45d5ce27-1d8d-4fd6-8d08-917822f919c6",
    "collapsed": false,
    "execution": {
     "iopub.execute_input": "2021-11-13T04:54:38.327260Z",
     "iopub.status.busy": "2021-11-13T04:54:38.325492Z",
     "iopub.status.idle": "2021-11-13T04:54:38.643950Z",
     "shell.execute_reply": "2021-11-13T04:54:38.644439Z",
     "shell.execute_reply.started": "2021-10-19T13:59:37.531072Z"
    },
    "jupyter": {
     "outputs_hidden": false
    },
    "papermill": {
     "duration": 0.346943,
     "end_time": "2021-11-13T04:54:38.644735",
     "exception": false,
     "start_time": "2021-11-13T04:54:38.297792",
     "status": "completed"
    },
    "tags": []
   },
   "outputs": [],
   "source": [
    "\n",
    "\n",
    "def conv_block(filters, inputs):\n",
    "    x = layers.SeparableConv2D(\n",
    "        filters, 3,\n",
    "        activation=\"relu\",\n",
    "        padding=\"same\")(inputs)\n",
    "    x = layers.SeparableConv2D(\n",
    "        filters, 3,\n",
    "        activation=\"relu\",\n",
    "        padding=\"same\")(x)\n",
    "    x = layers.BatchNormalization()(x)\n",
    "    outputs = layers.MaxPool2D()(x)\n",
    "    return outputs\n",
    "\n",
    "\n",
    "def dense_block(units, dropout_rate, inputs):\n",
    "    x = layers.Dense(units, activation=\"relu\")(inputs)\n",
    "    x = layers.BatchNormalization()(x)\n",
    "    outputs = layers.Dropout(dropout_rate)(x)\n",
    "    return outputs\n"
   ]
  },
  {
   "cell_type": "code",
   "execution_count": 10,
   "id": "261c24be",
   "metadata": {
    "_cell_guid": "7abcfcf4-01c0-411c-bd98-606f2458a4db",
    "_uuid": "bca345de-b25f-463d-9bd3-b4775403978b",
    "collapsed": false,
    "execution": {
     "iopub.execute_input": "2021-11-13T04:54:38.702041Z",
     "iopub.status.busy": "2021-11-13T04:54:38.701043Z",
     "iopub.status.idle": "2021-11-13T04:54:39.034050Z",
     "shell.execute_reply": "2021-11-13T04:54:39.034681Z",
     "shell.execute_reply.started": "2021-10-19T13:59:37.548221Z"
    },
    "jupyter": {
     "outputs_hidden": false
    },
    "papermill": {
     "duration": 0.364173,
     "end_time": "2021-11-13T04:54:39.034846",
     "exception": false,
     "start_time": "2021-11-13T04:54:38.670673",
     "status": "completed"
    },
    "tags": []
   },
   "outputs": [],
   "source": [
    "from tensorflow.keras.applications import MobileNet\n",
    "from tensorflow.keras.layers import GlobalAveragePooling2D, GlobalMaxPooling2D, Dropout, BatchNormalization\n",
    "\n",
    "\n",
    "def build_model():\n",
    "    inputs = layers.Input(shape=(256, 256, 3))\n",
    "    x = tf.keras.applications.mobilenet.preprocess_input(inputs)\n",
    "    x = MobileNet(include_top=False, weights='imagenet',\n",
    "                  input_shape=(256, 256, 3))(x)\n",
    "    x = GlobalAveragePooling2D()(x)\n",
    "    x = Dropout(0.3)(x)\n",
    "    x = BatchNormalization()(x)\n",
    "    outputs = layers.Dense(3, activation=\"softmax\")(x)\n",
    "    model = keras.Model(inputs=inputs, outputs=outputs)\n",
    "    return model\n"
   ]
  },
  {
   "cell_type": "code",
   "execution_count": 11,
   "id": "0083a258",
   "metadata": {
    "_cell_guid": "3d0a015a-0d94-4dab-8a22-628002035942",
    "_uuid": "090a51a0-a67b-4dbe-9b6e-4eb244b6e41a",
    "collapsed": false,
    "execution": {
     "iopub.execute_input": "2021-11-13T04:54:39.084668Z",
     "iopub.status.busy": "2021-11-13T04:54:39.083804Z",
     "iopub.status.idle": "2021-11-13T04:54:39.460462Z",
     "shell.execute_reply": "2021-11-13T04:54:39.461187Z",
     "shell.execute_reply.started": "2021-10-19T13:59:37.563131Z"
    },
    "jupyter": {
     "outputs_hidden": false
    },
    "papermill": {
     "duration": 0.405517,
     "end_time": "2021-11-13T04:54:39.461389",
     "exception": false,
     "start_time": "2021-11-13T04:54:39.055872",
     "status": "completed"
    },
    "tags": []
   },
   "outputs": [],
   "source": [
    "initial_learning_rate = 0.015\n",
    "epochs = 100\n",
    "model_name = \"MobileNet_v3.h5\"\n",
    "patience = 10\n",
    "decay_steps = 100000\n",
    "decay_rate = 0.96\n",
    "\n",
    "lr_schedule = tf.keras.optimizers.schedules.ExponentialDecay(\n",
    "    initial_learning_rate,\n",
    "    decay_steps=decay_steps,\n",
    "    decay_rate=decay_rate,\n",
    "    staircase=True)\n",
    "checkpoint_cb = tf.keras.callbacks.ModelCheckpoint(\n",
    "    model_name,\n",
    "    save_best_only=True)\n",
    "early_stopping_cb = tf.keras.callbacks.EarlyStopping(\n",
    "    patience=patience,\n",
    "    restore_best_weights=True)\n"
   ]
  },
  {
   "cell_type": "code",
   "execution_count": 12,
   "id": "2404eae2",
   "metadata": {
    "_cell_guid": "dabe5bc1-d3ac-4a06-bd6a-25ffc7c9ddda",
    "_uuid": "6bc781ac-170b-4551-9a47-a6a3469b842f",
    "collapsed": false,
    "execution": {
     "iopub.execute_input": "2021-11-13T04:54:39.515918Z",
     "iopub.status.busy": "2021-11-13T04:54:39.514560Z",
     "iopub.status.idle": "2021-11-13T04:54:39.852774Z",
     "shell.execute_reply": "2021-11-13T04:54:39.851624Z",
     "shell.execute_reply.started": "2021-10-19T13:59:37.57833Z"
    },
    "jupyter": {
     "outputs_hidden": false
    },
    "papermill": {
     "duration": 0.370313,
     "end_time": "2021-11-13T04:54:39.852922",
     "exception": false,
     "start_time": "2021-11-13T04:54:39.482609",
     "status": "completed"
    },
    "tags": []
   },
   "outputs": [],
   "source": [
    "config.class_weights = class_weights\n",
    "config.class_map = class_map\n",
    "config.initial_learning_rate = initial_learning_rate\n",
    "config.epochs = epochs\n",
    "config.model_name = model_name\n",
    "config.patience = patience\n",
    "config.decay_steps = decay_steps\n",
    "config.decay_rate = decay_rate\n",
    "# config.pooling = 'max'\n"
   ]
  },
  {
   "cell_type": "code",
   "execution_count": 13,
   "id": "3fde354e",
   "metadata": {
    "_cell_guid": "418eb5de-c2d0-4c61-9411-1d64924db3ee",
    "_uuid": "d3af20ba-9590-4953-b186-8fb047b2217b",
    "collapsed": false,
    "execution": {
     "iopub.execute_input": "2021-11-13T04:54:39.907539Z",
     "iopub.status.busy": "2021-11-13T04:54:39.903695Z",
     "iopub.status.idle": "2021-11-13T05:37:54.333129Z",
     "shell.execute_reply": "2021-11-13T05:37:54.333928Z",
     "shell.execute_reply.started": "2021-10-19T13:59:37.597213Z"
    },
    "jupyter": {
     "outputs_hidden": false
    },
    "papermill": {
     "duration": 2594.459542,
     "end_time": "2021-11-13T05:37:54.334111",
     "exception": false,
     "start_time": "2021-11-13T04:54:39.874569",
     "status": "completed"
    },
    "tags": []
   },
   "outputs": [
    {
     "name": "stderr",
     "output_type": "stream",
     "text": [
      "2021-11-13 04:54:39.992063: I tensorflow/stream_executor/cuda/cuda_gpu_executor.cc:937] successful NUMA node read from SysFS had negative value (-1), but there must be at least one NUMA node, so returning NUMA node zero\n",
      "2021-11-13 04:54:40.094623: I tensorflow/stream_executor/cuda/cuda_gpu_executor.cc:937] successful NUMA node read from SysFS had negative value (-1), but there must be at least one NUMA node, so returning NUMA node zero\n",
      "2021-11-13 04:54:40.095517: I tensorflow/stream_executor/cuda/cuda_gpu_executor.cc:937] successful NUMA node read from SysFS had negative value (-1), but there must be at least one NUMA node, so returning NUMA node zero\n",
      "2021-11-13 04:54:40.096867: I tensorflow/core/platform/cpu_feature_guard.cc:142] This TensorFlow binary is optimized with oneAPI Deep Neural Network Library (oneDNN) to use the following CPU instructions in performance-critical operations:  AVX2 AVX512F FMA\n",
      "To enable them in other operations, rebuild TensorFlow with the appropriate compiler flags.\n",
      "2021-11-13 04:54:40.097667: I tensorflow/stream_executor/cuda/cuda_gpu_executor.cc:937] successful NUMA node read from SysFS had negative value (-1), but there must be at least one NUMA node, so returning NUMA node zero\n",
      "2021-11-13 04:54:40.098480: I tensorflow/stream_executor/cuda/cuda_gpu_executor.cc:937] successful NUMA node read from SysFS had negative value (-1), but there must be at least one NUMA node, so returning NUMA node zero\n",
      "2021-11-13 04:54:40.099201: I tensorflow/stream_executor/cuda/cuda_gpu_executor.cc:937] successful NUMA node read from SysFS had negative value (-1), but there must be at least one NUMA node, so returning NUMA node zero\n",
      "2021-11-13 04:54:41.976460: I tensorflow/stream_executor/cuda/cuda_gpu_executor.cc:937] successful NUMA node read from SysFS had negative value (-1), but there must be at least one NUMA node, so returning NUMA node zero\n",
      "2021-11-13 04:54:41.977300: I tensorflow/stream_executor/cuda/cuda_gpu_executor.cc:937] successful NUMA node read from SysFS had negative value (-1), but there must be at least one NUMA node, so returning NUMA node zero\n",
      "2021-11-13 04:54:41.977999: I tensorflow/stream_executor/cuda/cuda_gpu_executor.cc:937] successful NUMA node read from SysFS had negative value (-1), but there must be at least one NUMA node, so returning NUMA node zero\n",
      "2021-11-13 04:54:41.978616: I tensorflow/core/common_runtime/gpu/gpu_device.cc:1510] Created device /job:localhost/replica:0/task:0/device:GPU:0 with 15403 MB memory:  -> device: 0, name: Tesla P100-PCIE-16GB, pci bus id: 0000:00:04.0, compute capability: 6.0\n"
     ]
    },
    {
     "name": "stdout",
     "output_type": "stream",
     "text": [
      "Downloading data from https://storage.googleapis.com/tensorflow/keras-applications/mobilenet/mobilenet_1_0_224_tf_no_top.h5\n",
      "17227776/17225924 [==============================] - 0s 0us/step\n",
      "17235968/17225924 [==============================] - 0s 0us/step\n",
      "Model: \"model\"\n",
      "_________________________________________________________________\n",
      "Layer (type)                 Output Shape              Param #   \n",
      "=================================================================\n",
      "input_1 (InputLayer)         [(None, 256, 256, 3)]     0         \n",
      "_________________________________________________________________\n",
      "tf.math.truediv (TFOpLambda) (None, 256, 256, 3)       0         \n",
      "_________________________________________________________________\n",
      "tf.math.subtract (TFOpLambda (None, 256, 256, 3)       0         \n",
      "_________________________________________________________________\n",
      "mobilenet_1.00_224 (Function (None, 8, 8, 1024)        3228864   \n",
      "_________________________________________________________________\n",
      "global_average_pooling2d (Gl (None, 1024)              0         \n",
      "_________________________________________________________________\n",
      "dropout (Dropout)            (None, 1024)              0         \n",
      "_________________________________________________________________\n",
      "batch_normalization (BatchNo (None, 1024)              4096      \n",
      "_________________________________________________________________\n",
      "dense (Dense)                (None, 3)                 3075      \n",
      "=================================================================\n",
      "Total params: 3,236,035\n",
      "Trainable params: 3,212,099\n",
      "Non-trainable params: 23,936\n",
      "_________________________________________________________________\n"
     ]
    },
    {
     "name": "stderr",
     "output_type": "stream",
     "text": [
      "2021-11-13 04:54:44.139707: I tensorflow/compiler/mlir/mlir_graph_optimization_pass.cc:185] None of the MLIR Optimization Passes are enabled (registered 2)\n"
     ]
    },
    {
     "name": "stdout",
     "output_type": "stream",
     "text": [
      "Epoch 1/100\n"
     ]
    },
    {
     "name": "stderr",
     "output_type": "stream",
     "text": [
      "2021-11-13 04:54:48.612178: I tensorflow/stream_executor/cuda/cuda_dnn.cc:369] Loaded cuDNN version 8005\n"
     ]
    },
    {
     "name": "stdout",
     "output_type": "stream",
     "text": [
      "427/427 [==============================] - 140s 304ms/step - loss: 0.9303 - accuracy: 0.7167 - precision: 0.7220 - recall: 0.7095 - val_loss: 2.5695 - val_accuracy: 0.3909 - val_precision: 0.3912 - val_recall: 0.3909\n",
      "Epoch 2/100\n",
      "427/427 [==============================] - 94s 219ms/step - loss: 0.3426 - accuracy: 0.8643 - precision: 0.8666 - recall: 0.8623 - val_loss: 8.0189 - val_accuracy: 0.1539 - val_precision: 0.1539 - val_recall: 0.1539\n",
      "Epoch 3/100\n",
      "427/427 [==============================] - 96s 223ms/step - loss: 0.2104 - accuracy: 0.9109 - precision: 0.9128 - recall: 0.9094 - val_loss: 1.8870 - val_accuracy: 0.4581 - val_precision: 0.4584 - val_recall: 0.4581\n",
      "Epoch 4/100\n",
      "427/427 [==============================] - 95s 222ms/step - loss: 0.1735 - accuracy: 0.9284 - precision: 0.9297 - recall: 0.9275 - val_loss: 8.4437 - val_accuracy: 0.4617 - val_precision: 0.4617 - val_recall: 0.4617\n",
      "Epoch 5/100\n",
      "427/427 [==============================] - 94s 220ms/step - loss: 0.1325 - accuracy: 0.9441 - precision: 0.9449 - recall: 0.9434 - val_loss: 1.7622 - val_accuracy: 0.4505 - val_precision: 0.4544 - val_recall: 0.4434\n",
      "Epoch 6/100\n",
      "427/427 [==============================] - 95s 221ms/step - loss: 0.1262 - accuracy: 0.9488 - precision: 0.9493 - recall: 0.9477 - val_loss: 5.4275 - val_accuracy: 0.4617 - val_precision: 0.4617 - val_recall: 0.4617\n",
      "Epoch 7/100\n",
      "427/427 [==============================] - 96s 223ms/step - loss: 0.1450 - accuracy: 0.9450 - precision: 0.9458 - recall: 0.9442 - val_loss: 2.5577 - val_accuracy: 0.4788 - val_precision: 0.4798 - val_recall: 0.4770\n",
      "Epoch 8/100\n",
      "427/427 [==============================] - 96s 223ms/step - loss: 0.1267 - accuracy: 0.9494 - precision: 0.9499 - recall: 0.9485 - val_loss: 1.6830 - val_accuracy: 0.4988 - val_precision: 0.5033 - val_recall: 0.4965\n",
      "Epoch 9/100\n",
      "427/427 [==============================] - 94s 220ms/step - loss: 0.1116 - accuracy: 0.9545 - precision: 0.9551 - recall: 0.9538 - val_loss: 6.7428 - val_accuracy: 0.4640 - val_precision: 0.4640 - val_recall: 0.4640\n",
      "Epoch 10/100\n",
      "427/427 [==============================] - 96s 223ms/step - loss: 0.1095 - accuracy: 0.9563 - precision: 0.9565 - recall: 0.9557 - val_loss: 2.0683 - val_accuracy: 0.4558 - val_precision: 0.4592 - val_recall: 0.4511\n",
      "Epoch 11/100\n",
      "427/427 [==============================] - 96s 224ms/step - loss: 0.1319 - accuracy: 0.9480 - precision: 0.9485 - recall: 0.9475 - val_loss: 3.2571 - val_accuracy: 0.4705 - val_precision: 0.4705 - val_recall: 0.4705\n",
      "Epoch 12/100\n",
      "427/427 [==============================] - 96s 224ms/step - loss: 0.0692 - accuracy: 0.9712 - precision: 0.9717 - recall: 0.9708 - val_loss: 1.2747 - val_accuracy: 0.5666 - val_precision: 0.5695 - val_recall: 0.5578\n",
      "Epoch 13/100\n",
      "427/427 [==============================] - 96s 224ms/step - loss: 0.0799 - accuracy: 0.9700 - precision: 0.9703 - recall: 0.9698 - val_loss: 6.8728 - val_accuracy: 0.3921 - val_precision: 0.3921 - val_recall: 0.3921\n",
      "Epoch 14/100\n",
      "427/427 [==============================] - 95s 222ms/step - loss: 0.1172 - accuracy: 0.9602 - precision: 0.9605 - recall: 0.9596 - val_loss: 4.6598 - val_accuracy: 0.3909 - val_precision: 0.3909 - val_recall: 0.3909\n",
      "Epoch 15/100\n",
      "427/427 [==============================] - 98s 228ms/step - loss: 0.1493 - accuracy: 0.9472 - precision: 0.9479 - recall: 0.9469 - val_loss: 5.1026 - val_accuracy: 0.3868 - val_precision: 0.3868 - val_recall: 0.3868\n",
      "Epoch 16/100\n",
      "427/427 [==============================] - 96s 225ms/step - loss: 0.1436 - accuracy: 0.9521 - precision: 0.9527 - recall: 0.9517 - val_loss: 4.1873 - val_accuracy: 0.3821 - val_precision: 0.3821 - val_recall: 0.3821\n",
      "Epoch 17/100\n",
      "427/427 [==============================] - 97s 226ms/step - loss: 0.0730 - accuracy: 0.9741 - precision: 0.9744 - recall: 0.9735 - val_loss: 2.5520 - val_accuracy: 0.4634 - val_precision: 0.4634 - val_recall: 0.4634\n",
      "Epoch 18/100\n",
      "427/427 [==============================] - 96s 225ms/step - loss: 0.0519 - accuracy: 0.9797 - precision: 0.9800 - recall: 0.9796 - val_loss: 5.3760 - val_accuracy: 0.3844 - val_precision: 0.3844 - val_recall: 0.3844\n",
      "Epoch 19/100\n",
      "427/427 [==============================] - 99s 231ms/step - loss: 0.1328 - accuracy: 0.9573 - precision: 0.9579 - recall: 0.9567 - val_loss: 1.7800 - val_accuracy: 0.5908 - val_precision: 0.5908 - val_recall: 0.5908\n",
      "Epoch 20/100\n",
      "427/427 [==============================] - 100s 234ms/step - loss: 0.1029 - accuracy: 0.9629 - precision: 0.9632 - recall: 0.9629 - val_loss: 6.5646 - val_accuracy: 0.4617 - val_precision: 0.4617 - val_recall: 0.4617\n",
      "Epoch 21/100\n",
      "427/427 [==============================] - 107s 250ms/step - loss: 0.1003 - accuracy: 0.9696 - precision: 0.9697 - recall: 0.9695 - val_loss: 4.0769 - val_accuracy: 0.5189 - val_precision: 0.5189 - val_recall: 0.5189\n",
      "Epoch 22/100\n",
      "427/427 [==============================] - 101s 235ms/step - loss: 0.0552 - accuracy: 0.9788 - precision: 0.9788 - recall: 0.9786 - val_loss: 5.8775 - val_accuracy: 0.4623 - val_precision: 0.4623 - val_recall: 0.4623\n"
     ]
    }
   ],
   "source": [
    "model = build_model()\n",
    "wandb.log({'model_summary': model.summary()})\n",
    "METRICS = [\n",
    "    tf.keras.metrics.CategoricalAccuracy(name=\"accuracy\"),\n",
    "    tf.keras.metrics.Precision(name=\"precision\"),\n",
    "    tf.keras.metrics.Recall(name=\"recall\"),\n",
    "]\n",
    "\n",
    "model.compile(\n",
    "    optimizer=tf.keras.optimizers.Adam(learning_rate=lr_schedule),\n",
    "    loss=tf.keras.losses.CategoricalCrossentropy(),\n",
    "    metrics=METRICS\n",
    ")\n",
    "\n",
    "history = model.fit(\n",
    "    train_data,\n",
    "    epochs=epochs,\n",
    "    class_weight=class_weights,\n",
    "    verbose=1,\n",
    "    validation_data=valid_data,\n",
    "    workers=2,\n",
    "    callbacks=[checkpoint_cb, early_stopping_cb, WandbCallback()],\n",
    ")\n"
   ]
  },
  {
   "cell_type": "code",
   "execution_count": 14,
   "id": "50ee2d2e",
   "metadata": {
    "_cell_guid": "adfd2311-254d-4869-a39b-cabf57bbfa2d",
    "_uuid": "e7ef5667-43b5-4a05-b39b-90545d0d17a1",
    "collapsed": false,
    "execution": {
     "iopub.execute_input": "2021-11-13T05:37:59.591223Z",
     "iopub.status.busy": "2021-11-13T05:37:59.590257Z",
     "iopub.status.idle": "2021-11-13T05:38:36.563978Z",
     "shell.execute_reply": "2021-11-13T05:38:36.564786Z",
     "shell.execute_reply.started": "2021-10-19T14:08:20.072757Z"
    },
    "jupyter": {
     "outputs_hidden": false
    },
    "papermill": {
     "duration": 39.618335,
     "end_time": "2021-11-13T05:38:36.564975",
     "exception": false,
     "start_time": "2021-11-13T05:37:56.946640",
     "status": "completed"
    },
    "tags": []
   },
   "outputs": [
    {
     "data": {
      "image/png": "[encoded data removed]",
      "text/plain": [
       "<Figure size 1080x1080 with 4 Axes>"
      ]
     },
     "metadata": {},
     "output_type": "display_data"
    }
   ],
   "source": [
    "pyplot.style.use('fivethirtyeight')\n",
    "fig, ax = pyplot.subplots(2, 2, figsize=(15, 15))\n",
    "ax = ax.ravel()\n",
    "\n",
    "for i, met in enumerate([\"precision\", \"recall\", \"accuracy\", \"loss\"]):\n",
    "    ax[i].plot(history.history[met])\n",
    "    ax[i].plot(history.history[\"val_\" + met])\n",
    "    ax[i].set_title(\"Model {}\".format(met))\n",
    "    ax[i].set_xlabel(\"epochs\")\n",
    "    ax[i].set_ylabel(met)\n",
    "    ax[i].legend([\"train\", \"val\"])\n",
    "try:\n",
    "    wandb.log({'training log img': wandb.Image(fig)})\n",
    "except:\n",
    "    pass\n"
   ]
  },
  {
   "cell_type": "code",
   "execution_count": 15,
   "id": "2cba6984",
   "metadata": {
    "_cell_guid": "e0544ee4-555c-4938-8bf0-0c104d16145f",
    "_uuid": "873f5228-eb40-46ba-a191-10fcefbe8559",
    "collapsed": false,
    "execution": {
     "iopub.execute_input": "2021-11-13T05:38:41.736793Z",
     "iopub.status.busy": "2021-11-13T05:38:41.735932Z",
     "iopub.status.idle": "2021-11-13T05:41:48.466993Z",
     "shell.execute_reply": "2021-11-13T05:41:48.467485Z",
     "shell.execute_reply.started": "2021-10-19T14:06:23.938086Z"
    },
    "jupyter": {
     "outputs_hidden": false
    },
    "papermill": {
     "duration": 189.301012,
     "end_time": "2021-11-13T05:41:48.467674",
     "exception": false,
     "start_time": "2021-11-13T05:38:39.166662",
     "status": "completed"
    },
    "tags": []
   },
   "outputs": [
    {
     "name": "stdout",
     "output_type": "stream",
     "text": [
      "427/427 [==============================] - 86s 202ms/step - loss: 1.2761 - accuracy: 0.5714 - precision: 0.5737 - recall: 0.5615\n"
     ]
    },
    {
     "data": {
      "text/plain": [
       "'train evaluation'"
      ]
     },
     "metadata": {},
     "output_type": "display_data"
    },
    {
     "data": {
      "text/plain": [
       "{'loss': 1.2761154174804688,\n",
       " 'accuracy': 0.5714285969734192,\n",
       " 'precision': 0.5736822485923767,\n",
       " 'recall': 0.5615485906600952}"
      ]
     },
     "metadata": {},
     "output_type": "display_data"
    },
    {
     "name": "stdout",
     "output_type": "stream",
     "text": [
      "53/53 [==============================] - 13s 237ms/step - loss: 1.2744 - accuracy: 0.5672 - precision: 0.5701 - recall: 0.5584\n"
     ]
    },
    {
     "data": {
      "text/plain": [
       "'valid evaluation'"
      ]
     },
     "metadata": {},
     "output_type": "display_data"
    },
    {
     "data": {
      "text/plain": [
       "{'loss': 1.274399757385254,\n",
       " 'accuracy': 0.5672169923782349,\n",
       " 'precision': 0.5701384544372559,\n",
       " 'recall': 0.5583726167678833}"
      ]
     },
     "metadata": {},
     "output_type": "display_data"
    },
    {
     "name": "stdout",
     "output_type": "stream",
     "text": [
      "53/53 [==============================] - 23s 434ms/step - loss: 1.2892 - accuracy: 0.5825 - precision: 0.5856 - recall: 0.5767\n"
     ]
    },
    {
     "data": {
      "text/plain": [
       "'test evaluation'"
      ]
     },
     "metadata": {},
     "output_type": "display_data"
    },
    {
     "data": {
      "text/plain": [
       "{'loss': 1.2891693115234375,\n",
       " 'accuracy': 0.5825471878051758,\n",
       " 'precision': 0.5856287479400635,\n",
       " 'recall': 0.5766509175300598}"
      ]
     },
     "metadata": {},
     "output_type": "display_data"
    }
   ],
   "source": [
    "train_eval = model.evaluate(train_data, return_dict=True)\n",
    "wandb.log({'train evaluation': train_eval})\n",
    "display('train evaluation', train_eval)\n",
    "\n",
    "valid_eval = model.evaluate(valid_data, return_dict=True)\n",
    "wandb.log({'valid evaluation': valid_eval})\n",
    "display('valid evaluation', valid_eval)\n",
    "\n",
    "test_eval = model.evaluate(test_data, return_dict=True)\n",
    "wandb.log({'test evaluation': test_eval})\n",
    "display('test evaluation', test_eval)\n"
   ]
  },
  {
   "cell_type": "code",
   "execution_count": 16,
   "id": "257dae46",
   "metadata": {
    "_cell_guid": "7ff8b98f-d8ad-4a7d-90e9-c01ccfce89b6",
    "_uuid": "c57b38e6-75f8-44b4-a89b-50a4b1e2fa5f",
    "collapsed": false,
    "execution": {
     "iopub.execute_input": "2021-11-13T05:41:54.274361Z",
     "iopub.status.busy": "2021-11-13T05:41:54.273518Z",
     "iopub.status.idle": "2021-11-13T05:41:54.762786Z",
     "shell.execute_reply": "2021-11-13T05:41:54.763739Z",
     "shell.execute_reply.started": "2021-10-19T14:06:23.940203Z"
    },
    "jupyter": {
     "outputs_hidden": false
    },
    "papermill": {
     "duration": 3.459773,
     "end_time": "2021-11-13T05:41:54.763910",
     "exception": false,
     "start_time": "2021-11-13T05:41:51.304137",
     "status": "completed"
    },
    "tags": []
   },
   "outputs": [
    {
     "data": {
      "text/plain": [
       "'3CAP'"
      ]
     },
     "execution_count": 16,
     "metadata": {},
     "output_type": "execute_result"
    }
   ],
   "source": [
    "def get_class(value):\n",
    "    for key in class_map.keys():\n",
    "        if class_map[key] == value:\n",
    "            return key\n",
    "\n",
    "\n",
    "get_class(2)\n"
   ]
  },
  {
   "cell_type": "markdown",
   "id": "cb5e9952",
   "metadata": {
    "_cell_guid": "7f62b137-4358-45d4-9e8c-7641ecaab454",
    "_uuid": "c9e41d9d-47b5-4308-a9dd-5e7fd67895f3",
    "papermill": {
     "duration": 2.760646,
     "end_time": "2021-11-13T05:42:00.284135",
     "exception": false,
     "start_time": "2021-11-13T05:41:57.523489",
     "status": "completed"
    },
    "tags": []
   },
   "source": [
    "### Confusion matrix - validation\n"
   ]
  },
  {
   "cell_type": "code",
   "execution_count": 17,
   "id": "4b60c6ee",
   "metadata": {
    "_cell_guid": "a45e545b-e2b7-4d9c-b402-549c2dd51a48",
    "_uuid": "9ba8f0ac-b278-493c-bf20-183b41a7391d",
    "collapsed": false,
    "execution": {
     "iopub.execute_input": "2021-11-13T05:42:06.055709Z",
     "iopub.status.busy": "2021-11-13T05:42:06.054582Z",
     "iopub.status.idle": "2021-11-13T05:42:27.238856Z",
     "shell.execute_reply": "2021-11-13T05:42:27.239522Z",
     "shell.execute_reply.started": "2021-10-19T14:06:23.942265Z"
    },
    "jupyter": {
     "outputs_hidden": false
    },
    "papermill": {
     "duration": 23.997776,
     "end_time": "2021-11-13T05:42:27.239711",
     "exception": false,
     "start_time": "2021-11-13T05:42:03.241935",
     "status": "completed"
    },
    "tags": []
   },
   "outputs": [
    {
     "name": "stdout",
     "output_type": "stream",
     "text": [
      "53/53 [==============================] - 11s 192ms/step\n",
      "              precision    recall  f1-score   support\n",
      "\n",
      "           0       0.51      0.78      0.61       652\n",
      "           1       0.66      0.58      0.62       785\n",
      "           2       0.00      0.00      0.00       259\n",
      "\n",
      "    accuracy                           0.57      1696\n",
      "   macro avg       0.39      0.45      0.41      1696\n",
      "weighted avg       0.50      0.57      0.52      1696\n",
      "\n"
     ]
    },
    {
     "name": "stderr",
     "output_type": "stream",
     "text": [
      "/opt/conda/lib/python3.7/site-packages/sklearn/metrics/_classification.py:1221: UndefinedMetricWarning: Precision and F-score are ill-defined and being set to 0.0 in labels with no predicted samples. Use `zero_division` parameter to control this behavior.\n",
      "  _warn_prf(average, modifier, msg_start, len(result))\n"
     ]
    },
    {
     "data": {
      "text/plain": [
       "<AxesSubplot:>"
      ]
     },
     "metadata": {},
     "output_type": "display_data"
    },
    {
     "data": {
      "image/png": "[encoded data removed]",
      "text/plain": [
       "<Figure size 432x288 with 2 Axes>"
      ]
     },
     "metadata": {},
     "output_type": "display_data"
    }
   ],
   "source": [
    "labels = []\n",
    "for image, label in valid_data:\n",
    "    labels.append(label)\n",
    "\n",
    "labels = numpy.array(labels).reshape(-1, 3)\n",
    "predictions = model.predict(valid_data, verbose=1)\n",
    "labels = numpy.argmax(labels, axis=-1)\n",
    "y_pred = numpy.argmax(predictions, axis=-1)\n",
    "\n",
    "# get the classification report\n",
    "cr = classification_report(labels, y_pred)\n",
    "print(cr)\n",
    "cm = confusion_matrix(labels, y_pred)\n",
    "x = seaborn.heatmap(cm, cmap='winter', annot=True, fmt='d')\n",
    "try:\n",
    "    wandb.log({'confusion matrix valid img': wandb.Image(x)})\n",
    "except:\n",
    "    pass\n",
    "display(x)\n"
   ]
  },
  {
   "cell_type": "code",
   "execution_count": 18,
   "id": "304f1687",
   "metadata": {
    "_cell_guid": "57996a24-916d-440b-80ed-5850a753564c",
    "_uuid": "0f550bc1-bf21-4481-b591-23103abd3609",
    "collapsed": false,
    "execution": {
     "iopub.execute_input": "2021-11-13T05:42:32.905581Z",
     "iopub.status.busy": "2021-11-13T05:42:32.904593Z",
     "iopub.status.idle": "2021-11-13T05:42:53.542428Z",
     "shell.execute_reply": "2021-11-13T05:42:53.543420Z",
     "shell.execute_reply.started": "2021-10-19T14:06:23.944179Z"
    },
    "jupyter": {
     "outputs_hidden": false
    },
    "papermill": {
     "duration": 23.402007,
     "end_time": "2021-11-13T05:42:53.543589",
     "exception": false,
     "start_time": "2021-11-13T05:42:30.141582",
     "status": "completed"
    },
    "tags": []
   },
   "outputs": [
    {
     "name": "stdout",
     "output_type": "stream",
     "text": [
      "53/53 [==============================] - 11s 202ms/step\n",
      "              precision    recall  f1-score   support\n",
      "\n",
      "           0       0.53      0.81      0.64       680\n",
      "           1       0.67      0.58      0.62       747\n",
      "           2       0.00      0.00      0.00       269\n",
      "\n",
      "    accuracy                           0.58      1696\n",
      "   macro avg       0.40      0.47      0.42      1696\n",
      "weighted avg       0.51      0.58      0.53      1696\n",
      "\n"
     ]
    }
   ],
   "source": [
    "\n",
    "labels = []\n",
    "for image, label in test_data:\n",
    "    labels.append(label)\n",
    "\n",
    "labels = numpy.array(labels).reshape(-1, 3)\n",
    "predictions = model.predict(test_data, verbose=1)\n",
    "labels = numpy.argmax(labels, axis=-1)\n",
    "y_pred = numpy.argmax(predictions, axis=-1)\n",
    "\n",
    "# get the classification report\n",
    "cr = classification_report(labels, y_pred)\n",
    "print(cr)\n"
   ]
  },
  {
   "cell_type": "code",
   "execution_count": 19,
   "id": "ac4ba634",
   "metadata": {
    "_cell_guid": "f47e75cc-719e-4795-bd1f-6b2872a53fc2",
    "_uuid": "7d619a91-5b0d-4f69-ac41-bfa16e5eb082",
    "collapsed": false,
    "execution": {
     "iopub.execute_input": "2021-11-13T05:42:59.501656Z",
     "iopub.status.busy": "2021-11-13T05:42:59.500829Z",
     "iopub.status.idle": "2021-11-13T05:43:00.224940Z",
     "shell.execute_reply": "2021-11-13T05:43:00.225844Z",
     "shell.execute_reply.started": "2021-10-19T14:06:23.946204Z"
    },
    "jupyter": {
     "outputs_hidden": false
    },
    "papermill": {
     "duration": 3.791444,
     "end_time": "2021-11-13T05:43:00.226020",
     "exception": false,
     "start_time": "2021-11-13T05:42:56.434576",
     "status": "completed"
    },
    "tags": []
   },
   "outputs": [
    {
     "data": {
      "text/plain": [
       "<AxesSubplot:>"
      ]
     },
     "metadata": {},
     "output_type": "display_data"
    },
    {
     "data": {
      "image/png": "[encoded data removed]",
      "text/plain": [
       "<Figure size 432x288 with 2 Axes>"
      ]
     },
     "metadata": {},
     "output_type": "display_data"
    }
   ],
   "source": [
    "cm = confusion_matrix(labels, y_pred)\n",
    "x = seaborn.heatmap(cm, cmap='winter', annot=True, fmt='d')\n",
    "try:\n",
    "    wandb.log({'confusion matrix test img': wandb.Image(x)})\n",
    "except:\n",
    "    pass\n",
    "display(x)\n"
   ]
  }
 ],
 "metadata": {
  "kernelspec": {
   "display_name": "Python 3",
   "language": "python",
   "name": "python3"
  },
  "language_info": {
   "codemirror_mode": {
    "name": "ipython",
    "version": 3
   },
   "file_extension": ".py",
   "mimetype": "text/x-python",
   "name": "python",
   "nbconvert_exporter": "python",
   "pygments_lexer": "ipython3",
   "version": "3.7.10"
  },
  "papermill": {
   "default_parameters": {},
   "duration": 2932.873686,
   "end_time": "2021-11-13T05:43:05.795647",
   "environment_variables": {},
   "exception": null,
   "input_path": "__notebook__.ipynb",
   "output_path": "__notebook__.ipynb",
   "parameters": {},
   "start_time": "2021-11-13T04:54:12.921961",
   "version": "2.3.3"
  },
  "widgets": {
   "application/vnd.jupyter.widget-state+json": {
    "state": {
     "149f0bf445c84c2d9dc50e0b70eb2077": {
      "model_module": "@jupyter-widgets/controls",
      "model_module_version": "1.5.0",
      "model_name": "DescriptionStyleModel",
      "state": {
       "_model_module": "@jupyter-widgets/controls",
       "_model_module_version": "1.5.0",
       "_model_name": "DescriptionStyleModel",
       "_view_count": null,
       "_view_module": "@jupyter-widgets/base",
       "_view_module_version": "1.2.0",
       "_view_name": "StyleView",
       "description_width": ""
      }
     },
     "21c15e010de843ada46e4e8fdeeb4b50": {
      "model_module": "@jupyter-widgets/base",
      "model_module_version": "1.2.0",
      "model_name": "LayoutModel",
      "state": {
       "_model_module": "@jupyter-widgets/base",
       "_model_module_version": "1.2.0",
       "_model_name": "LayoutModel",
       "_view_count": null,
       "_view_module": "@jupyter-widgets/base",
       "_view_module_version": "1.2.0",
       "_view_name": "LayoutView",
       "align_content": null,
       "align_items": null,
       "align_self": null,
       "border": null,
       "bottom": null,
       "display": null,
       "flex": null,
       "flex_flow": null,
       "grid_area": null,
       "grid_auto_columns": null,
       "grid_auto_flow": null,
       "grid_auto_rows": null,
       "grid_column": null,
       "grid_gap": null,
       "grid_row": null,
       "grid_template_areas": null,
       "grid_template_columns": null,
       "grid_template_rows": null,
       "height": null,
       "justify_content": null,
       "justify_items": null,
       "left": null,
       "margin": null,
       "max_height": null,
       "max_width": null,
       "min_height": null,
       "min_width": null,
       "object_fit": null,
       "object_position": null,
       "order": null,
       "overflow": null,
       "overflow_x": null,
       "overflow_y": null,
       "padding": null,
       "right": null,
       "top": null,
       "visibility": null,
       "width": null
      }
     },
     "3a3c72ba77a44b1b866486042c087698": {
      "model_module": "@jupyter-widgets/controls",
      "model_module_version": "1.5.0",
      "model_name": "FloatProgressModel",
      "state": {
       "_dom_classes": [],
       "_model_module": "@jupyter-widgets/controls",
       "_model_module_version": "1.5.0",
       "_model_name": "FloatProgressModel",
       "_view_count": null,
       "_view_module": "@jupyter-widgets/controls",
       "_view_module_version": "1.5.0",
       "_view_name": "ProgressView",
       "bar_style": "",
       "description": "",
       "description_tooltip": null,
       "layout": "IPY_MODEL_65adcb2b6e6b4b118e8294fdc53cd1f2",
       "max": 1,
       "min": 0,
       "orientation": "horizontal",
       "style": "IPY_MODEL_6ed5cfe8c2e841c3ae41c4b92017aef6",
       "value": 0
      }
     },
     "5e7a6df3974f4dc2bda6ddfb2e1a617f": {
      "model_module": "@jupyter-widgets/controls",
      "model_module_version": "1.5.0",
      "model_name": "LabelModel",
      "state": {
       "_dom_classes": [],
       "_model_module": "@jupyter-widgets/controls",
       "_model_module_version": "1.5.0",
       "_model_name": "LabelModel",
       "_view_count": null,
       "_view_module": "@jupyter-widgets/controls",
       "_view_module_version": "1.5.0",
       "_view_name": "LabelView",
       "description": "",
       "description_tooltip": null,
       "layout": "IPY_MODEL_736021aa07dc48ea816c8c0ce19657bb",
       "placeholder": "​",
       "style": "IPY_MODEL_149f0bf445c84c2d9dc50e0b70eb2077",
       "value": ""
      }
     },
     "65adcb2b6e6b4b118e8294fdc53cd1f2": {
      "model_module": "@jupyter-widgets/base",
      "model_module_version": "1.2.0",
      "model_name": "LayoutModel",
      "state": {
       "_model_module": "@jupyter-widgets/base",
       "_model_module_version": "1.2.0",
       "_model_name": "LayoutModel",
       "_view_count": null,
       "_view_module": "@jupyter-widgets/base",
       "_view_module_version": "1.2.0",
       "_view_name": "LayoutView",
       "align_content": null,
       "align_items": null,
       "align_self": null,
       "border": null,
       "bottom": null,
       "display": null,
       "flex": null,
       "flex_flow": null,
       "grid_area": null,
       "grid_auto_columns": null,
       "grid_auto_flow": null,
       "grid_auto_rows": null,
       "grid_column": null,
       "grid_gap": null,
       "grid_row": null,
       "grid_template_areas": null,
       "grid_template_columns": null,
       "grid_template_rows": null,
       "height": null,
       "justify_content": null,
       "justify_items": null,
       "left": null,
       "margin": null,
       "max_height": null,
       "max_width": null,
       "min_height": null,
       "min_width": null,
       "object_fit": null,
       "object_position": null,
       "order": null,
       "overflow": null,
       "overflow_x": null,
       "overflow_y": null,
       "padding": null,
       "right": null,
       "top": null,
       "visibility": null,
       "width": null
      }
     },
     "6ed5cfe8c2e841c3ae41c4b92017aef6": {
      "model_module": "@jupyter-widgets/controls",
      "model_module_version": "1.5.0",
      "model_name": "ProgressStyleModel",
      "state": {
       "_model_module": "@jupyter-widgets/controls",
       "_model_module_version": "1.5.0",
       "_model_name": "ProgressStyleModel",
       "_view_count": null,
       "_view_module": "@jupyter-widgets/base",
       "_view_module_version": "1.2.0",
       "_view_name": "StyleView",
       "bar_color": null,
       "description_width": ""
      }
     },
     "736021aa07dc48ea816c8c0ce19657bb": {
      "model_module": "@jupyter-widgets/base",
      "model_module_version": "1.2.0",
      "model_name": "LayoutModel",
      "state": {
       "_model_module": "@jupyter-widgets/base",
       "_model_module_version": "1.2.0",
       "_model_name": "LayoutModel",
       "_view_count": null,
       "_view_module": "@jupyter-widgets/base",
       "_view_module_version": "1.2.0",
       "_view_name": "LayoutView",
       "align_content": null,
       "align_items": null,
       "align_self": null,
       "border": null,
       "bottom": null,
       "display": null,
       "flex": null,
       "flex_flow": null,
       "grid_area": null,
       "grid_auto_columns": null,
       "grid_auto_flow": null,
       "grid_auto_rows": null,
       "grid_column": null,
       "grid_gap": null,
       "grid_row": null,
       "grid_template_areas": null,
       "grid_template_columns": null,
       "grid_template_rows": null,
       "height": null,
       "justify_content": null,
       "justify_items": null,
       "left": null,
       "margin": null,
       "max_height": null,
       "max_width": null,
       "min_height": null,
       "min_width": null,
       "object_fit": null,
       "object_position": null,
       "order": null,
       "overflow": null,
       "overflow_x": null,
       "overflow_y": null,
       "padding": null,
       "right": null,
       "top": null,
       "visibility": null,
       "width": null
      }
     },
     "d7171b03001b4a3aa213b9e216bf4d42": {
      "model_module": "@jupyter-widgets/controls",
      "model_module_version": "1.5.0",
      "model_name": "VBoxModel",
      "state": {
       "_dom_classes": [],
       "_model_module": "@jupyter-widgets/controls",
       "_model_module_version": "1.5.0",
       "_model_name": "VBoxModel",
       "_view_count": null,
       "_view_module": "@jupyter-widgets/controls",
       "_view_module_version": "1.5.0",
       "_view_name": "VBoxView",
       "box_style": "",
       "children": [
        "IPY_MODEL_5e7a6df3974f4dc2bda6ddfb2e1a617f",
        "IPY_MODEL_3a3c72ba77a44b1b866486042c087698"
       ],
       "layout": "IPY_MODEL_21c15e010de843ada46e4e8fdeeb4b50"
      }
     }
    },
    "version_major": 2,
    "version_minor": 0
   }
  }
 },
 "nbformat": 4,
 "nbformat_minor": 5
}
