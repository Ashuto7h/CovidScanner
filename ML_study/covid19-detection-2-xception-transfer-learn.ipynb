{
 "cells": [
  {
   "cell_type": "code",
   "execution_count": 1,
   "id": "11863fec",
   "metadata": {
    "_cell_guid": "d6214188-092f-4249-a6ab-3a77afd5f28d",
    "_uuid": "74cae951-87f2-4749-9f23-4aab4fed8ae7",
    "collapsed": false,
    "execution": {
     "iopub.execute_input": "2021-11-12T18:45:22.344414Z",
     "iopub.status.busy": "2021-11-12T18:45:22.343609Z",
     "iopub.status.idle": "2021-11-12T18:45:39.982018Z",
     "shell.execute_reply": "2021-11-12T18:45:39.982969Z",
     "shell.execute_reply.started": "2021-10-30T04:59:52.80268Z"
    },
    "jupyter": {
     "outputs_hidden": false
    },
    "papermill": {
     "duration": 17.742816,
     "end_time": "2021-11-12T18:45:39.983330",
     "exception": false,
     "start_time": "2021-11-12T18:45:22.240514",
     "status": "completed"
    },
    "tags": []
   },
   "outputs": [
    {
     "name": "stderr",
     "output_type": "stream",
     "text": [
      "2021-11-12 18:45:23.692897: I tensorflow/stream_executor/platform/default/dso_loader.cc:49] Successfully opened dynamic library libcudart.so.11.0\n",
      "\u001b[34m\u001b[1mwandb\u001b[0m: W&B API key is configured (use `wandb login --relogin` to force relogin)\n",
      "\u001b[34m\u001b[1mwandb\u001b[0m: \u001b[33mWARNING\u001b[0m If you're specifying your api key in code, ensure this code is not shared publically.\n",
      "\u001b[34m\u001b[1mwandb\u001b[0m: \u001b[33mWARNING\u001b[0m Consider setting the WANDB_API_KEY environment variable, or running `wandb login` from the command line.\n",
      "\u001b[34m\u001b[1mwandb\u001b[0m: Appending key for api.wandb.ai to your netrc file: /root/.netrc\n",
      "\u001b[34m\u001b[1mwandb\u001b[0m: Currently logged in as: \u001b[33mashuto7h\u001b[0m (use `wandb login --relogin` to force relogin)\n",
      "\u001b[34m\u001b[1mwandb\u001b[0m: wandb version 0.12.6 is available!  To upgrade, please run:\n",
      "\u001b[34m\u001b[1mwandb\u001b[0m:  $ pip install wandb --upgrade\n",
      "2021-11-12 18:45:32.857805: I tensorflow/stream_executor/platform/default/dso_loader.cc:49] Successfully opened dynamic library libcudart.so.11.0\n"
     ]
    },
    {
     "data": {
      "text/html": [
       "\n",
       "                Tracking run with wandb version 0.12.2<br/>\n",
       "                Syncing run <strong style=\"color:#cdcd00\">chocolate-monkey-104</strong> to <a href=\"https://wandb.ai\" target=\"_blank\">Weights & Biases</a> <a href=\"https://docs.wandb.com/integrations/jupyter.html\" target=\"_blank\">(Documentation)</a>.<br/>\n",
       "                Project page: <a href=\"https://wandb.ai/ashuto7h/covid19\" target=\"_blank\">https://wandb.ai/ashuto7h/covid19</a><br/>\n",
       "                Run page: <a href=\"https://wandb.ai/ashuto7h/covid19/runs/1e21eoiy\" target=\"_blank\">https://wandb.ai/ashuto7h/covid19/runs/1e21eoiy</a><br/>\n",
       "                Run data is saved locally in <code>/kaggle/working/wandb/run-20211112_184530-1e21eoiy</code><br/><br/>\n",
       "            "
      ],
      "text/plain": [
       "<IPython.core.display.HTML object>"
      ]
     },
     "metadata": {},
     "output_type": "display_data"
    },
    {
     "name": "stderr",
     "output_type": "stream",
     "text": [
      "\n",
      "CondaEnvException: Unable to determine environment\n",
      "\n",
      "Please re-run this command with one of the following options:\n",
      "\n",
      "* Provide an environment name via --name or -n\n",
      "* Re-run this command inside an activated conda environment.\n",
      "\n"
     ]
    }
   ],
   "source": [
    "import os\n",
    "from sklearn.metrics import confusion_matrix\n",
    "from sklearn.metrics import classification_report\n",
    "import seaborn\n",
    "import matplotlib.pyplot as pyplot\n",
    "from tensorflow.keras import layers\n",
    "from tensorflow import keras\n",
    "import tensorflow as tf\n",
    "from sklearn.utils.class_weight import compute_class_weight\n",
    "import pandas\n",
    "import numpy\n",
    "import wandb\n",
    "from wandb.keras import WandbCallback\n",
    "\n",
    "wandb.login(key='ea1404a9d16ac9056181f111599286f24c65e0e9')\n",
    "wandb.init(project='covid19', entity='ashuto7h')\n",
    "config = wandb.config"
   ]
  },
  {
   "cell_type": "code",
   "execution_count": 2,
   "id": "5a444092",
   "metadata": {
    "_cell_guid": "50df359e-4f40-4c4c-a1c9-494f024cef13",
    "_uuid": "587b1875-680e-42d4-8807-4d464de9976e",
    "collapsed": false,
    "execution": {
     "iopub.execute_input": "2021-11-12T18:45:40.023978Z",
     "iopub.status.busy": "2021-11-12T18:45:40.023058Z",
     "iopub.status.idle": "2021-11-12T18:45:41.176476Z",
     "shell.execute_reply": "2021-11-12T18:45:41.176909Z",
     "shell.execute_reply.started": "2021-10-30T05:00:05.939921Z"
    },
    "jupyter": {
     "outputs_hidden": false
    },
    "papermill": {
     "duration": 1.176105,
     "end_time": "2021-11-12T18:45:41.177071",
     "exception": false,
     "start_time": "2021-11-12T18:45:40.000966",
     "status": "completed"
    },
    "tags": []
   },
   "outputs": [],
   "source": [
    "# ! pip install tensorflow --upgrade"
   ]
  },
  {
   "cell_type": "code",
   "execution_count": 3,
   "id": "60f87be7",
   "metadata": {
    "_cell_guid": "951e1cf4-2167-4b6f-8c5b-2f3664f4197a",
    "_uuid": "f10adea4-b7a7-4b51-b449-1200dabb1f76",
    "collapsed": false,
    "execution": {
     "iopub.execute_input": "2021-11-12T18:45:41.216806Z",
     "iopub.status.busy": "2021-11-12T18:45:41.216302Z",
     "iopub.status.idle": "2021-11-12T18:45:42.854754Z",
     "shell.execute_reply": "2021-11-12T18:45:42.854266Z",
     "shell.execute_reply.started": "2021-10-30T05:00:06.270362Z"
    },
    "jupyter": {
     "outputs_hidden": false
    },
    "papermill": {
     "duration": 1.660691,
     "end_time": "2021-11-12T18:45:42.854884",
     "exception": false,
     "start_time": "2021-11-12T18:45:41.194193",
     "status": "completed"
    },
    "tags": []
   },
   "outputs": [
    {
     "name": "stdout",
     "output_type": "stream",
     "text": [
      "2COVID       7593\n",
      "1NonCOVID    6893\n",
      "3CAP         2618\n",
      "Name: labels, dtype: int64\n"
     ]
    }
   ],
   "source": [
    "sdir = r'../input/large-covid19-ct-slice-dataset/curated_data/curated_data'\n",
    "filepaths = []\n",
    "labels = []\n",
    "classlist = os.listdir(sdir)\n",
    "for item in classlist:\n",
    "    classpath = os.path.join(sdir, item)\n",
    "    flist = os.listdir(classpath)\n",
    "    for f in flist:\n",
    "        fpath = os.path.join(classpath, f)\n",
    "        filepaths.append(fpath)\n",
    "        labels.append(item)\n",
    "\n",
    "df = pandas.DataFrame()\n",
    "df['filepath'] = filepaths\n",
    "df['labels'] = labels\n",
    "print(df['labels'].value_counts())\n",
    "df = df.sample(frac=1).reset_index(drop=True)"
   ]
  },
  {
   "cell_type": "code",
   "execution_count": 4,
   "id": "89266c61",
   "metadata": {
    "_cell_guid": "86420787-d432-4eaf-9bed-27078d8a1f14",
    "_uuid": "89d82bfb-ac55-4839-a48f-a99d48cffbed",
    "collapsed": false,
    "execution": {
     "iopub.execute_input": "2021-11-12T18:45:42.895789Z",
     "iopub.status.busy": "2021-11-12T18:45:42.894999Z",
     "iopub.status.idle": "2021-11-12T18:45:44.064517Z",
     "shell.execute_reply": "2021-11-12T18:45:44.063958Z",
     "shell.execute_reply.started": "2021-10-30T05:00:07.260819Z"
    },
    "jupyter": {
     "outputs_hidden": false
    },
    "papermill": {
     "duration": 1.192815,
     "end_time": "2021-11-12T18:45:44.064668",
     "exception": false,
     "start_time": "2021-11-12T18:45:42.871853",
     "status": "completed"
    },
    "tags": []
   },
   "outputs": [
    {
     "name": "stdout",
     "output_type": "stream",
     "text": [
      "[2.17774382 0.75086703 0.8271193 ] ['3CAP' '2COVID' '1NonCOVID']\n"
     ]
    }
   ],
   "source": [
    "cw = compute_class_weight('balanced', classes=df.labels.unique(), y=df.labels)\n",
    "print(cw, df.labels.unique())"
   ]
  },
  {
   "cell_type": "code",
   "execution_count": 5,
   "id": "8079ae4f",
   "metadata": {
    "_cell_guid": "d023703c-dd35-4bc2-8387-d64f0e2a6540",
    "_uuid": "f2fdc33b-0859-40f5-ad88-6cab6ef48175",
    "collapsed": false,
    "execution": {
     "iopub.execute_input": "2021-11-12T18:45:44.105347Z",
     "iopub.status.busy": "2021-11-12T18:45:44.104509Z",
     "iopub.status.idle": "2021-11-12T18:45:45.283987Z",
     "shell.execute_reply": "2021-11-12T18:45:45.283460Z",
     "shell.execute_reply.started": "2021-10-30T05:00:07.522718Z"
    },
    "jupyter": {
     "outputs_hidden": false
    },
    "papermill": {
     "duration": 1.202033,
     "end_time": "2021-11-12T18:45:45.284125",
     "exception": false,
     "start_time": "2021-11-12T18:45:44.082092",
     "status": "completed"
    },
    "tags": []
   },
   "outputs": [],
   "source": [
    "class_weights = {2: 2.17774382, 0: 0.8271193, 1: 0.75086703}\n",
    "class_map = {'2COVID': 1, '1NonCOVID': 0, '3CAP': 2}"
   ]
  },
  {
   "cell_type": "code",
   "execution_count": 6,
   "id": "53d0cb37",
   "metadata": {
    "_cell_guid": "941f58e4-e308-485b-a8cb-8a7f49eaf5e8",
    "_uuid": "5a540f4c-78e5-4281-856f-7cffdecdcda4",
    "collapsed": false,
    "execution": {
     "iopub.execute_input": "2021-11-12T18:45:45.333970Z",
     "iopub.status.busy": "2021-11-12T18:45:45.323959Z",
     "iopub.status.idle": "2021-11-12T18:45:47.518465Z",
     "shell.execute_reply": "2021-11-12T18:45:47.517928Z",
     "shell.execute_reply.started": "2021-10-30T05:00:07.80054Z"
    },
    "jupyter": {
     "outputs_hidden": false
    },
    "papermill": {
     "duration": 2.215593,
     "end_time": "2021-11-12T18:45:47.518610",
     "exception": false,
     "start_time": "2021-11-12T18:45:45.303017",
     "status": "completed"
    },
    "tags": []
   },
   "outputs": [],
   "source": [
    "class DataGenerator(tf.keras.utils.Sequence):\n",
    "    def __init__(self, df, batch_size=32, shuffle=True, color_mode=\"rgb\"):\n",
    "        self.batch_size = batch_size\n",
    "        self.df = df\n",
    "        self.indices = self.df.index.tolist()\n",
    "        self.shuffle = shuffle\n",
    "        self.on_epoch_end()\n",
    "        self.color_mode = color_mode\n",
    "\n",
    "    def __len__(self):\n",
    "        return len(self.indices) // self.batch_size\n",
    "\n",
    "    def __getitem__(self, index):\n",
    "        index = self.index[index *\n",
    "                           self.batch_size:(index + 1) *\n",
    "                           self.batch_size]\n",
    "        batch = [self.indices[k] for k in index]\n",
    "\n",
    "        X, y = self.__get_data(batch)\n",
    "        return X, y\n",
    "\n",
    "    def on_epoch_end(self):\n",
    "        self.index = numpy.arange(len(self.indices))\n",
    "        if self.shuffle == True:\n",
    "            numpy.random.shuffle(self.index)\n",
    "\n",
    "    def __get_data(self, batch):\n",
    "        X = []\n",
    "        y = []\n",
    "        for i, id in enumerate(batch):\n",
    "            img = tf.keras.preprocessing.image.load_img(\n",
    "                self.df.loc[id, 'filepath'],\n",
    "                color_mode=self.color_mode,\n",
    "                target_size=(256, 256),\n",
    "                interpolation=\"nearest\")\n",
    "            img_array = tf.keras.preprocessing.image.img_to_array(img)\n",
    "            X.append(img_array/255)\n",
    "            ylist = [0, 0, 0]\n",
    "            ylist[class_map[self.df.loc[id, 'labels']]] = 1\n",
    "            ylist = numpy.array(ylist)\n",
    "            y.append(ylist)\n",
    "        X = numpy.array(X)\n",
    "        y = numpy.array(y)\n",
    "        return X, y"
   ]
  },
  {
   "cell_type": "code",
   "execution_count": 7,
   "id": "c9378410",
   "metadata": {
    "_cell_guid": "74bca715-0d41-4772-a213-b0b2b9f522a0",
    "_uuid": "6a71808b-5e1c-4840-ab67-90afe2db4918",
    "collapsed": false,
    "execution": {
     "iopub.execute_input": "2021-11-12T18:45:47.567045Z",
     "iopub.status.busy": "2021-11-12T18:45:47.566512Z",
     "iopub.status.idle": "2021-11-12T18:45:48.740902Z",
     "shell.execute_reply": "2021-11-12T18:45:48.739980Z",
     "shell.execute_reply.started": "2021-10-30T05:00:08.060319Z"
    },
    "jupyter": {
     "outputs_hidden": false
    },
    "papermill": {
     "duration": 1.204873,
     "end_time": "2021-11-12T18:45:48.741047",
     "exception": false,
     "start_time": "2021-11-12T18:45:47.536174",
     "status": "completed"
    },
    "tags": []
   },
   "outputs": [],
   "source": [
    "train_data = DataGenerator(df[:13684].reset_index(drop=True))  # 80%\n",
    "valid_data = DataGenerator(df[13684:15394].reset_index(drop=True))  # 80 - 90%\n",
    "test_data = DataGenerator(df[15394:].reset_index(drop=True), shuffle=False)  # 90 - 100%\n",
    "\n",
    "# train_data = DataGenerator(df[:200].reset_index(drop=True))  # 80%\n",
    "# valid_data = DataGenerator(df[200:300].reset_index(drop=True))  # 80 - 90%\n",
    "# test_data = DataGenerator(df[300:400].reset_index(drop=True), shuffle=False)  # 90 - 100%"
   ]
  },
  {
   "cell_type": "code",
   "execution_count": 8,
   "id": "f84ce2c6",
   "metadata": {
    "_cell_guid": "03dcacc8-e5bb-4967-b5d4-659aaff6e7ff",
    "_uuid": "07541d30-297e-4ebb-9e21-e69da0721241",
    "collapsed": false,
    "execution": {
     "iopub.execute_input": "2021-11-12T18:45:48.790340Z",
     "iopub.status.busy": "2021-11-12T18:45:48.788910Z",
     "iopub.status.idle": "2021-11-12T18:45:50.875919Z",
     "shell.execute_reply": "2021-11-12T18:45:50.875410Z",
     "shell.execute_reply.started": "2021-10-30T05:00:10.113038Z"
    },
    "jupyter": {
     "outputs_hidden": false
    },
    "papermill": {
     "duration": 2.116699,
     "end_time": "2021-11-12T18:45:50.876057",
     "exception": false,
     "start_time": "2021-11-12T18:45:48.759358",
     "status": "completed"
    },
    "tags": []
   },
   "outputs": [],
   "source": [
    "from tensorflow.keras.applications import Xception\n",
    "from tensorflow.keras.layers import GlobalAveragePooling2D, GlobalMaxPooling2D, Dropout, BatchNormalization\n",
    "def build_model():\n",
    "    inputs = layers.Input(shape=(256, 256, 3))\n",
    "    x = Xception(include_top=False, weights='imagenet', input_shape=(256,256,3))(inputs)\n",
    "    x = GlobalAveragePooling2D()(x)\n",
    "    x = Dropout(0.3)(x)\n",
    "    x = BatchNormalization()(x)\n",
    "#     x = Dropout(0.3)(x)\n",
    "#     x = BatchNormalization()(x)\n",
    "    outputs = layers.Dense(3, activation=\"softmax\")(x)\n",
    "    model = keras.Model(inputs=inputs, outputs=outputs)\n",
    "    return model"
   ]
  },
  {
   "cell_type": "code",
   "execution_count": 9,
   "id": "1fac4ff8",
   "metadata": {
    "_cell_guid": "3af4897c-d061-4705-86a1-6edf84048d2e",
    "_uuid": "3053b527-0a26-40a6-8eea-df9ffc3429f1",
    "collapsed": false,
    "execution": {
     "iopub.execute_input": "2021-11-12T18:45:50.917503Z",
     "iopub.status.busy": "2021-11-12T18:45:50.916715Z",
     "iopub.status.idle": "2021-11-12T18:45:51.928438Z",
     "shell.execute_reply": "2021-11-12T18:45:51.927923Z",
     "shell.execute_reply.started": "2021-10-30T05:00:10.472626Z"
    },
    "jupyter": {
     "outputs_hidden": false
    },
    "papermill": {
     "duration": 1.034931,
     "end_time": "2021-11-12T18:45:51.928576",
     "exception": false,
     "start_time": "2021-11-12T18:45:50.893645",
     "status": "completed"
    },
    "tags": []
   },
   "outputs": [],
   "source": [
    "initial_learning_rate = 0.015\n",
    "epochs = 100\n",
    "model_name = \"Xception_v10.h5\"\n",
    "patience = 10\n",
    "decay_steps = 100000\n",
    "decay_rate = 0.96\n",
    "\n",
    "lr_schedule = tf.keras.optimizers.schedules.ExponentialDecay(\n",
    "    initial_learning_rate,\n",
    "    decay_steps=decay_steps,\n",
    "    decay_rate=decay_rate,\n",
    "    staircase=True)\n",
    "checkpoint_cb = tf.keras.callbacks.ModelCheckpoint(\n",
    "    model_name,\n",
    "    save_best_only=True)\n",
    "early_stopping_cb = tf.keras.callbacks.EarlyStopping(\n",
    "    patience=patience,\n",
    "    restore_best_weights=True)"
   ]
  },
  {
   "cell_type": "code",
   "execution_count": 10,
   "id": "c431e4f1",
   "metadata": {
    "_cell_guid": "94ed4b6e-d040-4d9e-b667-8bdc22719153",
    "_uuid": "352fff23-6094-412a-8c46-c02a1bbcde9c",
    "collapsed": false,
    "execution": {
     "iopub.execute_input": "2021-11-12T18:45:51.974106Z",
     "iopub.status.busy": "2021-11-12T18:45:51.973300Z",
     "iopub.status.idle": "2021-11-12T18:45:53.140398Z",
     "shell.execute_reply": "2021-11-12T18:45:53.140876Z",
     "shell.execute_reply.started": "2021-10-30T05:00:10.721074Z"
    },
    "jupyter": {
     "outputs_hidden": false
    },
    "papermill": {
     "duration": 1.192148,
     "end_time": "2021-11-12T18:45:53.141035",
     "exception": false,
     "start_time": "2021-11-12T18:45:51.948887",
     "status": "completed"
    },
    "tags": []
   },
   "outputs": [],
   "source": [
    "config.class_weights = class_weights\n",
    "config.class_map = class_map\n",
    "config.initial_learning_rate = initial_learning_rate\n",
    "config.epochs = epochs\n",
    "config.model_name = model_name\n",
    "config.patience = patience\n",
    "config.decay_steps = decay_steps\n",
    "config.decay_rate = decay_rate\n",
    "# config.pooling = 'max'"
   ]
  },
  {
   "cell_type": "code",
   "execution_count": 11,
   "id": "668c9bae",
   "metadata": {
    "_cell_guid": "271759c1-5c9b-4b3a-bdfa-16c59f286164",
    "_uuid": "0d59b226-ba57-4fc5-8efe-950b96a23bcd",
    "collapsed": false,
    "execution": {
     "iopub.execute_input": "2021-11-12T18:45:53.189548Z",
     "iopub.status.busy": "2021-11-12T18:45:53.188650Z",
     "iopub.status.idle": "2021-11-12T20:51:48.458608Z",
     "shell.execute_reply": "2021-11-12T20:51:48.459054Z",
     "shell.execute_reply.started": "2021-10-30T05:00:11.069568Z"
    },
    "jupyter": {
     "outputs_hidden": false
    },
    "papermill": {
     "duration": 7555.29756,
     "end_time": "2021-11-12T20:51:48.459249",
     "exception": false,
     "start_time": "2021-11-12T18:45:53.161689",
     "status": "completed"
    },
    "tags": []
   },
   "outputs": [
    {
     "name": "stderr",
     "output_type": "stream",
     "text": [
      "2021-11-12 18:45:53.216861: I tensorflow/compiler/jit/xla_cpu_device.cc:41] Not creating XLA devices, tf_xla_enable_xla_devices not set\n",
      "2021-11-12 18:45:53.219942: I tensorflow/stream_executor/platform/default/dso_loader.cc:49] Successfully opened dynamic library libcuda.so.1\n",
      "2021-11-12 18:45:53.261257: I tensorflow/stream_executor/cuda/cuda_gpu_executor.cc:941] successful NUMA node read from SysFS had negative value (-1), but there must be at least one NUMA node, so returning NUMA node zero\n",
      "2021-11-12 18:45:53.261869: I tensorflow/core/common_runtime/gpu/gpu_device.cc:1720] Found device 0 with properties: \n",
      "pciBusID: 0000:00:04.0 name: Tesla P100-PCIE-16GB computeCapability: 6.0\n",
      "coreClock: 1.3285GHz coreCount: 56 deviceMemorySize: 15.90GiB deviceMemoryBandwidth: 681.88GiB/s\n",
      "2021-11-12 18:45:53.261929: I tensorflow/stream_executor/platform/default/dso_loader.cc:49] Successfully opened dynamic library libcudart.so.11.0\n",
      "2021-11-12 18:45:53.290198: I tensorflow/stream_executor/platform/default/dso_loader.cc:49] Successfully opened dynamic library libcublas.so.11\n",
      "2021-11-12 18:45:53.290286: I tensorflow/stream_executor/platform/default/dso_loader.cc:49] Successfully opened dynamic library libcublasLt.so.11\n",
      "2021-11-12 18:45:53.310786: I tensorflow/stream_executor/platform/default/dso_loader.cc:49] Successfully opened dynamic library libcufft.so.10\n",
      "2021-11-12 18:45:53.322730: I tensorflow/stream_executor/platform/default/dso_loader.cc:49] Successfully opened dynamic library libcurand.so.10\n",
      "2021-11-12 18:45:53.347256: I tensorflow/stream_executor/platform/default/dso_loader.cc:49] Successfully opened dynamic library libcusolver.so.10\n",
      "2021-11-12 18:45:53.354109: I tensorflow/stream_executor/platform/default/dso_loader.cc:49] Successfully opened dynamic library libcusparse.so.11\n",
      "2021-11-12 18:45:53.357697: I tensorflow/stream_executor/platform/default/dso_loader.cc:49] Successfully opened dynamic library libcudnn.so.8\n",
      "2021-11-12 18:45:53.357874: I tensorflow/stream_executor/cuda/cuda_gpu_executor.cc:941] successful NUMA node read from SysFS had negative value (-1), but there must be at least one NUMA node, so returning NUMA node zero\n",
      "2021-11-12 18:45:53.358567: I tensorflow/stream_executor/cuda/cuda_gpu_executor.cc:941] successful NUMA node read from SysFS had negative value (-1), but there must be at least one NUMA node, so returning NUMA node zero\n",
      "2021-11-12 18:45:53.360084: I tensorflow/core/common_runtime/gpu/gpu_device.cc:1862] Adding visible gpu devices: 0\n",
      "2021-11-12 18:45:53.360714: I tensorflow/core/platform/cpu_feature_guard.cc:142] This TensorFlow binary is optimized with oneAPI Deep Neural Network Library (oneDNN) to use the following CPU instructions in performance-critical operations:  AVX2 AVX512F FMA\n",
      "To enable them in other operations, rebuild TensorFlow with the appropriate compiler flags.\n",
      "2021-11-12 18:45:53.360949: I tensorflow/compiler/jit/xla_gpu_device.cc:99] Not creating XLA devices, tf_xla_enable_xla_devices not set\n",
      "2021-11-12 18:45:53.361097: I tensorflow/stream_executor/cuda/cuda_gpu_executor.cc:941] successful NUMA node read from SysFS had negative value (-1), but there must be at least one NUMA node, so returning NUMA node zero\n",
      "2021-11-12 18:45:53.361722: I tensorflow/core/common_runtime/gpu/gpu_device.cc:1720] Found device 0 with properties: \n",
      "pciBusID: 0000:00:04.0 name: Tesla P100-PCIE-16GB computeCapability: 6.0\n",
      "coreClock: 1.3285GHz coreCount: 56 deviceMemorySize: 15.90GiB deviceMemoryBandwidth: 681.88GiB/s\n",
      "2021-11-12 18:45:53.361771: I tensorflow/stream_executor/platform/default/dso_loader.cc:49] Successfully opened dynamic library libcudart.so.11.0\n",
      "2021-11-12 18:45:53.361795: I tensorflow/stream_executor/platform/default/dso_loader.cc:49] Successfully opened dynamic library libcublas.so.11\n",
      "2021-11-12 18:45:53.361813: I tensorflow/stream_executor/platform/default/dso_loader.cc:49] Successfully opened dynamic library libcublasLt.so.11\n",
      "2021-11-12 18:45:53.361831: I tensorflow/stream_executor/platform/default/dso_loader.cc:49] Successfully opened dynamic library libcufft.so.10\n",
      "2021-11-12 18:45:53.361853: I tensorflow/stream_executor/platform/default/dso_loader.cc:49] Successfully opened dynamic library libcurand.so.10\n",
      "2021-11-12 18:45:53.361881: I tensorflow/stream_executor/platform/default/dso_loader.cc:49] Successfully opened dynamic library libcusolver.so.10\n",
      "2021-11-12 18:45:53.361905: I tensorflow/stream_executor/platform/default/dso_loader.cc:49] Successfully opened dynamic library libcusparse.so.11\n",
      "2021-11-12 18:45:53.361923: I tensorflow/stream_executor/platform/default/dso_loader.cc:49] Successfully opened dynamic library libcudnn.so.8\n",
      "2021-11-12 18:45:53.362017: I tensorflow/stream_executor/cuda/cuda_gpu_executor.cc:941] successful NUMA node read from SysFS had negative value (-1), but there must be at least one NUMA node, so returning NUMA node zero\n",
      "2021-11-12 18:45:53.362700: I tensorflow/stream_executor/cuda/cuda_gpu_executor.cc:941] successful NUMA node read from SysFS had negative value (-1), but there must be at least one NUMA node, so returning NUMA node zero\n",
      "2021-11-12 18:45:53.363280: I tensorflow/core/common_runtime/gpu/gpu_device.cc:1862] Adding visible gpu devices: 0\n",
      "2021-11-12 18:45:53.364261: I tensorflow/stream_executor/platform/default/dso_loader.cc:49] Successfully opened dynamic library libcudart.so.11.0\n",
      "2021-11-12 18:45:54.995200: I tensorflow/core/common_runtime/gpu/gpu_device.cc:1261] Device interconnect StreamExecutor with strength 1 edge matrix:\n",
      "2021-11-12 18:45:54.995237: I tensorflow/core/common_runtime/gpu/gpu_device.cc:1267]      0 \n",
      "2021-11-12 18:45:54.995248: I tensorflow/core/common_runtime/gpu/gpu_device.cc:1280] 0:   N \n",
      "2021-11-12 18:45:54.997540: I tensorflow/stream_executor/cuda/cuda_gpu_executor.cc:941] successful NUMA node read from SysFS had negative value (-1), but there must be at least one NUMA node, so returning NUMA node zero\n",
      "2021-11-12 18:45:54.998269: I tensorflow/stream_executor/cuda/cuda_gpu_executor.cc:941] successful NUMA node read from SysFS had negative value (-1), but there must be at least one NUMA node, so returning NUMA node zero\n",
      "2021-11-12 18:45:54.998919: I tensorflow/stream_executor/cuda/cuda_gpu_executor.cc:941] successful NUMA node read from SysFS had negative value (-1), but there must be at least one NUMA node, so returning NUMA node zero\n",
      "2021-11-12 18:45:54.999721: I tensorflow/core/common_runtime/gpu/gpu_device.cc:1406] Created TensorFlow device (/job:localhost/replica:0/task:0/device:GPU:0 with 14957 MB memory) -> physical GPU (device: 0, name: Tesla P100-PCIE-16GB, pci bus id: 0000:00:04.0, compute capability: 6.0)\n"
     ]
    },
    {
     "name": "stdout",
     "output_type": "stream",
     "text": [
      "Downloading data from https://storage.googleapis.com/tensorflow/keras-applications/xception/xception_weights_tf_dim_ordering_tf_kernels_notop.h5\n",
      "83689472/83683744 [==============================] - 0s 0us/step\n",
      "Model: \"model\"\n",
      "_________________________________________________________________\n",
      "Layer (type)                 Output Shape              Param #   \n",
      "=================================================================\n",
      "input_1 (InputLayer)         [(None, 256, 256, 3)]     0         \n",
      "_________________________________________________________________\n",
      "xception (Functional)        (None, 8, 8, 2048)        20861480  \n",
      "_________________________________________________________________\n",
      "global_average_pooling2d (Gl (None, 2048)              0         \n",
      "_________________________________________________________________\n",
      "dropout (Dropout)            (None, 2048)              0         \n",
      "_________________________________________________________________\n",
      "batch_normalization_4 (Batch (None, 2048)              8192      \n",
      "_________________________________________________________________\n",
      "dense (Dense)                (None, 3)                 6147      \n",
      "=================================================================\n",
      "Total params: 20,875,819\n",
      "Trainable params: 20,817,195\n",
      "Non-trainable params: 58,624\n",
      "_________________________________________________________________\n"
     ]
    },
    {
     "name": "stderr",
     "output_type": "stream",
     "text": [
      "2021-11-12 18:45:58.094327: I tensorflow/compiler/mlir/mlir_graph_optimization_pass.cc:116] None of the MLIR optimization passes are enabled (registered 2)\n",
      "2021-11-12 18:45:58.098083: I tensorflow/core/platform/profile_utils/cpu_utils.cc:112] CPU Frequency: 2000189999 Hz\n"
     ]
    },
    {
     "name": "stdout",
     "output_type": "stream",
     "text": [
      "Epoch 1/100\n"
     ]
    },
    {
     "name": "stderr",
     "output_type": "stream",
     "text": [
      "2021-11-12 18:46:02.838937: I tensorflow/stream_executor/platform/default/dso_loader.cc:49] Successfully opened dynamic library libcublas.so.11\n",
      "2021-11-12 18:46:03.829537: I tensorflow/stream_executor/platform/default/dso_loader.cc:49] Successfully opened dynamic library libcublasLt.so.11\n",
      "2021-11-12 18:46:03.869756: I tensorflow/stream_executor/platform/default/dso_loader.cc:49] Successfully opened dynamic library libcudnn.so.8\n"
     ]
    },
    {
     "name": "stdout",
     "output_type": "stream",
     "text": [
      "427/427 [==============================] - 248s 554ms/step - loss: 1.3939 - accuracy: 0.4015 - precision: 0.4387 - recall: 0.2592 - val_loss: 42.0770 - val_accuracy: 0.2995 - val_precision: 0.3081 - val_recall: 0.2565\n",
      "Epoch 2/100\n",
      "427/427 [==============================] - 227s 531ms/step - loss: 1.0907 - accuracy: 0.5160 - precision: 0.5481 - recall: 0.4140 - val_loss: 519.2080 - val_accuracy: 0.3019 - val_precision: 0.2756 - val_recall: 0.1875\n",
      "Epoch 3/100\n",
      "427/427 [==============================] - 227s 532ms/step - loss: 1.0100 - accuracy: 0.5217 - precision: 0.5622 - recall: 0.4323 - val_loss: 311.8063 - val_accuracy: 0.3520 - val_precision: 0.3385 - val_recall: 0.2954\n",
      "Epoch 4/100\n",
      "427/427 [==============================] - 228s 534ms/step - loss: 0.8610 - accuracy: 0.5487 - precision: 0.6143 - recall: 0.4414 - val_loss: 1.0530 - val_accuracy: 0.4629 - val_precision: 0.4644 - val_recall: 0.4617\n",
      "Epoch 5/100\n",
      "427/427 [==============================] - 228s 533ms/step - loss: 0.7459 - accuracy: 0.6319 - precision: 0.6659 - recall: 0.5555 - val_loss: 0.8784 - val_accuracy: 0.5542 - val_precision: 0.5676 - val_recall: 0.5147\n",
      "Epoch 6/100\n",
      "427/427 [==============================] - 226s 529ms/step - loss: 0.6277 - accuracy: 0.7096 - precision: 0.7337 - recall: 0.6707 - val_loss: 5.5054 - val_accuracy: 0.4699 - val_precision: 0.4698 - val_recall: 0.4676\n",
      "Epoch 7/100\n",
      "427/427 [==============================] - 228s 532ms/step - loss: 0.5681 - accuracy: 0.7598 - precision: 0.7761 - recall: 0.7351 - val_loss: 6762.9829 - val_accuracy: 0.3420 - val_precision: 0.3420 - val_recall: 0.3420\n",
      "Epoch 8/100\n",
      "427/427 [==============================] - 227s 530ms/step - loss: 0.6536 - accuracy: 0.7274 - precision: 0.7423 - recall: 0.7094 - val_loss: 3.8698 - val_accuracy: 0.4876 - val_precision: 0.4926 - val_recall: 0.4688\n",
      "Epoch 9/100\n",
      "427/427 [==============================] - 227s 532ms/step - loss: 0.4219 - accuracy: 0.8108 - precision: 0.8203 - recall: 0.7992 - val_loss: 4.2799 - val_accuracy: 0.2571 - val_precision: 0.2596 - val_recall: 0.2541\n",
      "Epoch 10/100\n",
      "427/427 [==============================] - 227s 530ms/step - loss: 0.3397 - accuracy: 0.8526 - precision: 0.8575 - recall: 0.8476 - val_loss: 0.7734 - val_accuracy: 0.7742 - val_precision: 0.7748 - val_recall: 0.7689\n",
      "Epoch 11/100\n",
      "427/427 [==============================] - 227s 531ms/step - loss: 0.2886 - accuracy: 0.8734 - precision: 0.8764 - recall: 0.8699 - val_loss: 0.3328 - val_accuracy: 0.8785 - val_precision: 0.8842 - val_recall: 0.8691\n",
      "Epoch 12/100\n",
      "427/427 [==============================] - 226s 529ms/step - loss: 0.2656 - accuracy: 0.8879 - precision: 0.8902 - recall: 0.8859 - val_loss: 2.1016 - val_accuracy: 0.6492 - val_precision: 0.6495 - val_recall: 0.6480\n",
      "Epoch 13/100\n",
      "427/427 [==============================] - 228s 533ms/step - loss: 0.2366 - accuracy: 0.8995 - precision: 0.9014 - recall: 0.8957 - val_loss: 2.4988 - val_accuracy: 0.7011 - val_precision: 0.7021 - val_recall: 0.7005\n",
      "Epoch 14/100\n",
      "427/427 [==============================] - 227s 530ms/step - loss: 0.2427 - accuracy: 0.8976 - precision: 0.8986 - recall: 0.8961 - val_loss: 0.5116 - val_accuracy: 0.8320 - val_precision: 0.8352 - val_recall: 0.8308\n",
      "Epoch 15/100\n",
      "427/427 [==============================] - 228s 534ms/step - loss: 0.2171 - accuracy: 0.9092 - precision: 0.9098 - recall: 0.9084 - val_loss: 0.4330 - val_accuracy: 0.8379 - val_precision: 0.8383 - val_recall: 0.8379\n",
      "Epoch 16/100\n",
      "427/427 [==============================] - 229s 535ms/step - loss: 0.2020 - accuracy: 0.9124 - precision: 0.9135 - recall: 0.9119 - val_loss: 0.6456 - val_accuracy: 0.6958 - val_precision: 0.6972 - val_recall: 0.6952\n",
      "Epoch 17/100\n",
      "427/427 [==============================] - 228s 533ms/step - loss: 0.2389 - accuracy: 0.9040 - precision: 0.9057 - recall: 0.9022 - val_loss: 36.0429 - val_accuracy: 0.3213 - val_precision: 0.3209 - val_recall: 0.3202\n",
      "Epoch 18/100\n",
      "427/427 [==============================] - 227s 530ms/step - loss: 0.1536 - accuracy: 0.9314 - precision: 0.9319 - recall: 0.9307 - val_loss: 6.5122 - val_accuracy: 0.5920 - val_precision: 0.5934 - val_recall: 0.5920\n",
      "Epoch 19/100\n",
      "427/427 [==============================] - 230s 537ms/step - loss: 0.1534 - accuracy: 0.9320 - precision: 0.9322 - recall: 0.9315 - val_loss: 0.1740 - val_accuracy: 0.9292 - val_precision: 0.9292 - val_recall: 0.9287\n",
      "Epoch 20/100\n",
      "427/427 [==============================] - 227s 530ms/step - loss: 0.0941 - accuracy: 0.9560 - precision: 0.9564 - recall: 0.9560 - val_loss: 1.5120 - val_accuracy: 0.6256 - val_precision: 0.6284 - val_recall: 0.6221\n",
      "Epoch 21/100\n",
      "427/427 [==============================] - 228s 533ms/step - loss: 0.1205 - accuracy: 0.9483 - precision: 0.9487 - recall: 0.9481 - val_loss: 9.1032 - val_accuracy: 0.4151 - val_precision: 0.4184 - val_recall: 0.4110\n",
      "Epoch 22/100\n",
      "427/427 [==============================] - 227s 531ms/step - loss: 0.2444 - accuracy: 0.9142 - precision: 0.9148 - recall: 0.9136 - val_loss: 0.1168 - val_accuracy: 0.9546 - val_precision: 0.9557 - val_recall: 0.9534\n",
      "Epoch 23/100\n",
      "427/427 [==============================] - 228s 533ms/step - loss: 0.0816 - accuracy: 0.9617 - precision: 0.9620 - recall: 0.9614 - val_loss: 0.0577 - val_accuracy: 0.9800 - val_precision: 0.9800 - val_recall: 0.9800\n",
      "Epoch 24/100\n",
      "427/427 [==============================] - 226s 529ms/step - loss: 0.1550 - accuracy: 0.9466 - precision: 0.9471 - recall: 0.9460 - val_loss: 0.0670 - val_accuracy: 0.9758 - val_precision: 0.9758 - val_recall: 0.9758\n",
      "Epoch 25/100\n",
      "427/427 [==============================] - 230s 539ms/step - loss: 0.0849 - accuracy: 0.9707 - precision: 0.9710 - recall: 0.9704 - val_loss: 0.0945 - val_accuracy: 0.9729 - val_precision: 0.9729 - val_recall: 0.9729\n",
      "Epoch 26/100\n",
      "427/427 [==============================] - 226s 529ms/step - loss: 0.1754 - accuracy: 0.9474 - precision: 0.9479 - recall: 0.9474 - val_loss: 7.9357 - val_accuracy: 0.6215 - val_precision: 0.6216 - val_recall: 0.6209\n",
      "Epoch 27/100\n",
      "427/427 [==============================] - 228s 534ms/step - loss: 0.0633 - accuracy: 0.9733 - precision: 0.9733 - recall: 0.9733 - val_loss: 3.8198 - val_accuracy: 0.7311 - val_precision: 0.7320 - val_recall: 0.7311\n",
      "Epoch 28/100\n",
      "427/427 [==============================] - 227s 531ms/step - loss: 0.0372 - accuracy: 0.9848 - precision: 0.9848 - recall: 0.9848 - val_loss: 0.2022 - val_accuracy: 0.9328 - val_precision: 0.9327 - val_recall: 0.9316\n",
      "Epoch 29/100\n",
      "427/427 [==============================] - 228s 534ms/step - loss: 0.0323 - accuracy: 0.9880 - precision: 0.9880 - recall: 0.9880 - val_loss: 0.1133 - val_accuracy: 0.9705 - val_precision: 0.9705 - val_recall: 0.9705\n",
      "Epoch 30/100\n",
      "427/427 [==============================] - 226s 529ms/step - loss: 0.0921 - accuracy: 0.9713 - precision: 0.9716 - recall: 0.9711 - val_loss: 0.9431 - val_accuracy: 0.8166 - val_precision: 0.8195 - val_recall: 0.8166\n",
      "Epoch 31/100\n",
      "427/427 [==============================] - 228s 533ms/step - loss: 0.1032 - accuracy: 0.9675 - precision: 0.9675 - recall: 0.9675 - val_loss: 0.1702 - val_accuracy: 0.9452 - val_precision: 0.9452 - val_recall: 0.9452\n",
      "Epoch 32/100\n",
      "427/427 [==============================] - 226s 529ms/step - loss: 0.0518 - accuracy: 0.9800 - precision: 0.9800 - recall: 0.9799 - val_loss: 0.6294 - val_accuracy: 0.8909 - val_precision: 0.8914 - val_recall: 0.8903\n",
      "Epoch 33/100\n",
      "427/427 [==============================] - 229s 534ms/step - loss: 0.0518 - accuracy: 0.9823 - precision: 0.9823 - recall: 0.9823 - val_loss: 3.8262 - val_accuracy: 0.6333 - val_precision: 0.6328 - val_recall: 0.6309\n"
     ]
    }
   ],
   "source": [
    "model = build_model()\n",
    "wandb.log({'model_summary': model.summary()})\n",
    "METRICS = [\n",
    "    tf.keras.metrics.CategoricalAccuracy(name=\"accuracy\"),\n",
    "    tf.keras.metrics.Precision(name=\"precision\"),\n",
    "    tf.keras.metrics.Recall(name=\"recall\"),\n",
    "]\n",
    "\n",
    "model.compile(\n",
    "    optimizer=tf.keras.optimizers.Adam(learning_rate=lr_schedule),\n",
    "    loss=tf.keras.losses.CategoricalCrossentropy(),\n",
    "    metrics=METRICS\n",
    ")\n",
    "\n",
    "history = model.fit(\n",
    "    train_data,\n",
    "    epochs=epochs,\n",
    "    class_weight=class_weights,\n",
    "    verbose=1,\n",
    "    validation_data=valid_data,\n",
    "    workers=2,\n",
    "    callbacks=[checkpoint_cb, early_stopping_cb, WandbCallback()],\n",
    ")"
   ]
  },
  {
   "cell_type": "code",
   "execution_count": 12,
   "id": "9a9a8217",
   "metadata": {
    "_cell_guid": "af3f19f2-bbfa-47ac-8e50-7f7c03ef1e95",
    "_uuid": "49629a4c-6797-4c3c-8dc6-9dfd1735382c",
    "collapsed": false,
    "execution": {
     "iopub.execute_input": "2021-11-12T20:51:56.204678Z",
     "iopub.status.busy": "2021-11-12T20:51:56.203805Z",
     "iopub.status.idle": "2021-11-12T20:51:58.561653Z",
     "shell.execute_reply": "2021-11-12T20:51:58.562257Z",
     "shell.execute_reply.started": "2021-10-30T05:01:31.767287Z"
    },
    "jupyter": {
     "outputs_hidden": false
    },
    "papermill": {
     "duration": 6.028999,
     "end_time": "2021-11-12T20:51:58.562415",
     "exception": false,
     "start_time": "2021-11-12T20:51:52.533416",
     "status": "completed"
    },
    "tags": []
   },
   "outputs": [
    {
     "data": {
      "image/png": "[encoded data removed]",
      "text/plain": [
       "<Figure size 1080x1080 with 4 Axes>"
      ]
     },
     "metadata": {},
     "output_type": "display_data"
    }
   ],
   "source": [
    "pyplot.style.use('fivethirtyeight')\n",
    "fig, ax = pyplot.subplots(2, 2, figsize=(15, 15))\n",
    "ax = ax.ravel()\n",
    "\n",
    "for i, met in enumerate([\"precision\", \"recall\", \"accuracy\", \"loss\"]):\n",
    "    ax[i].plot(history.history[met])\n",
    "    ax[i].plot(history.history[\"val_\" + met])\n",
    "    ax[i].set_title(\"Model {}\".format(met))\n",
    "    ax[i].set_xlabel(\"epochs\")\n",
    "    ax[i].set_ylabel(met)\n",
    "    ax[i].legend([\"train\", \"val\"])\n",
    "try:\n",
    "    wandb.log({'training log img': wandb.Image(fig)})\n",
    "except:\n",
    "    pass"
   ]
  },
  {
   "cell_type": "code",
   "execution_count": 13,
   "id": "10291d9f",
   "metadata": {
    "_cell_guid": "b47b0d29-2a37-4654-8b32-ca1e9bc28eb5",
    "_uuid": "c4683d82-91ff-4ed4-949b-0f06d65a6ce8",
    "collapsed": false,
    "execution": {
     "iopub.execute_input": "2021-11-12T20:52:06.430218Z",
     "iopub.status.busy": "2021-11-12T20:52:06.423637Z",
     "iopub.status.idle": "2021-11-12T20:54:14.051415Z",
     "shell.execute_reply": "2021-11-12T20:54:14.052046Z",
     "shell.execute_reply.started": "2021-10-30T05:01:33.749972Z"
    },
    "jupyter": {
     "outputs_hidden": false
    },
    "papermill": {
     "duration": 131.321868,
     "end_time": "2021-11-12T20:54:14.052284",
     "exception": false,
     "start_time": "2021-11-12T20:52:02.730416",
     "status": "completed"
    },
    "tags": []
   },
   "outputs": [
    {
     "name": "stdout",
     "output_type": "stream",
     "text": [
      "427/427 [==============================] - 93s 218ms/step - loss: 0.0305 - accuracy: 0.9902 - precision: 0.9902 - recall: 0.9902\n"
     ]
    },
    {
     "data": {
      "text/plain": [
       "'train evaluation\\n'"
      ]
     },
     "metadata": {},
     "output_type": "display_data"
    },
    {
     "data": {
      "text/plain": [
       "{'loss': 0.03053981252014637,\n",
       " 'accuracy': 0.9901931881904602,\n",
       " 'precision': 0.9901931881904602,\n",
       " 'recall': 0.9901931881904602}"
      ]
     },
     "metadata": {},
     "output_type": "display_data"
    },
    {
     "name": "stdout",
     "output_type": "stream",
     "text": [
      "53/53 [==============================] - 11s 214ms/step - loss: 0.0575 - accuracy: 0.9800 - precision: 0.9800 - recall: 0.9800\n"
     ]
    },
    {
     "data": {
      "text/plain": [
       "'valid evaluation\\n'"
      ]
     },
     "metadata": {},
     "output_type": "display_data"
    },
    {
     "data": {
      "text/plain": [
       "{'loss': 0.05746038630604744,\n",
       " 'accuracy': 0.9799528121948242,\n",
       " 'precision': 0.9799528121948242,\n",
       " 'recall': 0.9799528121948242}"
      ]
     },
     "metadata": {},
     "output_type": "display_data"
    },
    {
     "name": "stdout",
     "output_type": "stream",
     "text": [
      "53/53 [==============================] - 21s 398ms/step - loss: 0.0617 - accuracy: 0.9776 - precision: 0.9776 - recall: 0.9776\n"
     ]
    },
    {
     "data": {
      "text/plain": [
       "'test evaluation\\n'"
      ]
     },
     "metadata": {},
     "output_type": "display_data"
    },
    {
     "data": {
      "text/plain": [
       "{'loss': 0.06172674149274826,\n",
       " 'accuracy': 0.9775943160057068,\n",
       " 'precision': 0.9775943160057068,\n",
       " 'recall': 0.9775943160057068}"
      ]
     },
     "metadata": {},
     "output_type": "display_data"
    }
   ],
   "source": [
    "train_eval = model.evaluate(train_data, return_dict=True)\n",
    "wandb.log({'train evaluation': train_eval})\n",
    "display('train evaluation\\n', train_eval)\n",
    "\n",
    "valid_eval = model.evaluate(valid_data, return_dict=True)\n",
    "wandb.log({'valid evaluation': valid_eval})\n",
    "display('valid evaluation\\n', valid_eval)\n",
    "\n",
    "test_eval = model.evaluate(test_data, return_dict=True)\n",
    "wandb.log({'test evaluation': test_eval})\n",
    "display('test evaluation\\n', test_eval)"
   ]
  },
  {
   "cell_type": "code",
   "execution_count": 14,
   "id": "a8fce4e0",
   "metadata": {
    "_cell_guid": "84f4c07d-beb0-482e-80b5-9628dfb85b12",
    "_uuid": "de7faf8a-cadd-414f-8bcf-a11b448324ca",
    "collapsed": false,
    "execution": {
     "iopub.execute_input": "2021-11-12T20:54:21.870941Z",
     "iopub.status.busy": "2021-11-12T20:54:21.870087Z",
     "iopub.status.idle": "2021-11-12T20:54:23.151896Z",
     "shell.execute_reply": "2021-11-12T20:54:23.153239Z",
     "shell.execute_reply.started": "2021-10-30T05:01:37.883486Z"
    },
    "jupyter": {
     "outputs_hidden": false
    },
    "papermill": {
     "duration": 5.140885,
     "end_time": "2021-11-12T20:54:23.153590",
     "exception": false,
     "start_time": "2021-11-12T20:54:18.012705",
     "status": "completed"
    },
    "tags": []
   },
   "outputs": [
    {
     "data": {
      "text/plain": [
       "'3CAP'"
      ]
     },
     "execution_count": 14,
     "metadata": {},
     "output_type": "execute_result"
    }
   ],
   "source": [
    "\n",
    "\n",
    "def get_class(value):\n",
    "    for key in class_map.keys():\n",
    "        if class_map[key] == value:\n",
    "            return key\n",
    "\n",
    "\n",
    "get_class(2)"
   ]
  },
  {
   "cell_type": "markdown",
   "id": "ebd4d1ba",
   "metadata": {
    "papermill": {
     "duration": 4.295467,
     "end_time": "2021-11-12T20:54:31.562892",
     "exception": false,
     "start_time": "2021-11-12T20:54:27.267425",
     "status": "completed"
    },
    "tags": []
   },
   "source": [
    "### Confusion matrix - validation"
   ]
  },
  {
   "cell_type": "code",
   "execution_count": 15,
   "id": "4d4d953a",
   "metadata": {
    "execution": {
     "iopub.execute_input": "2021-11-12T20:54:39.464376Z",
     "iopub.status.busy": "2021-11-12T20:54:39.463336Z",
     "iopub.status.idle": "2021-11-12T20:55:02.622351Z",
     "shell.execute_reply": "2021-11-12T20:55:02.623054Z",
     "shell.execute_reply.started": "2021-10-30T05:01:38.22696Z"
    },
    "papermill": {
     "duration": 27.002247,
     "end_time": "2021-11-12T20:55:02.623293",
     "exception": false,
     "start_time": "2021-11-12T20:54:35.621046",
     "status": "completed"
    },
    "tags": []
   },
   "outputs": [
    {
     "name": "stdout",
     "output_type": "stream",
     "text": [
      "53/53 [==============================] - 12s 221ms/step\n",
      "              precision    recall  f1-score   support\n",
      "\n",
      "           0       0.97      0.98      0.97       651\n",
      "           1       0.98      0.97      0.98       786\n",
      "           2       1.00      1.00      1.00       259\n",
      "\n",
      "    accuracy                           0.98      1696\n",
      "   macro avg       0.98      0.98      0.98      1696\n",
      "weighted avg       0.98      0.98      0.98      1696\n",
      "\n"
     ]
    },
    {
     "data": {
      "text/plain": [
       "<AxesSubplot:>"
      ]
     },
     "metadata": {},
     "output_type": "display_data"
    },
    {
     "data": {
      "image/png": "[encoded data removed]",
      "text/plain": [
       "<Figure size 432x288 with 2 Axes>"
      ]
     },
     "metadata": {},
     "output_type": "display_data"
    }
   ],
   "source": [
    "\n",
    "labels = []\n",
    "for image, label in valid_data:\n",
    "    labels.append(label)\n",
    "\n",
    "labels = numpy.array(labels).reshape(-1, 3)\n",
    "predictions = model.predict(valid_data, verbose=1)\n",
    "labels = numpy.argmax(labels, axis=-1)\n",
    "y_pred = numpy.argmax(predictions, axis=-1)\n",
    "\n",
    "# get the classification report\n",
    "cr = classification_report(labels, y_pred)\n",
    "print(cr)\n",
    "cm = confusion_matrix(labels, y_pred)\n",
    "x = seaborn.heatmap(cm, cmap='winter', annot=True, fmt='d')\n",
    "try:\n",
    "    wandb.log({'confusion matrix valid img': wandb.Image(x)})\n",
    "except:\n",
    "    pass\n",
    "display(x)"
   ]
  },
  {
   "cell_type": "code",
   "execution_count": 16,
   "id": "f1fd1b99",
   "metadata": {
    "_cell_guid": "9d19a9f5-7e2b-4d99-af8e-9e6d7cfe0321",
    "_uuid": "bf8967ab-1485-4178-a8b4-0efd801bb181",
    "collapsed": false,
    "execution": {
     "iopub.execute_input": "2021-11-12T20:55:10.695895Z",
     "iopub.status.busy": "2021-11-12T20:55:10.694912Z",
     "iopub.status.idle": "2021-11-12T20:55:32.803535Z",
     "shell.execute_reply": "2021-11-12T20:55:32.804817Z",
     "shell.execute_reply.started": "2021-10-30T05:01:41.285938Z"
    },
    "jupyter": {
     "outputs_hidden": false
    },
    "papermill": {
     "duration": 26.25608,
     "end_time": "2021-11-12T20:55:32.805149",
     "exception": false,
     "start_time": "2021-11-12T20:55:06.549069",
     "status": "completed"
    },
    "tags": []
   },
   "outputs": [
    {
     "name": "stdout",
     "output_type": "stream",
     "text": [
      "53/53 [==============================] - 11s 213ms/step\n",
      "              precision    recall  f1-score   support\n",
      "\n",
      "           0       0.96      0.99      0.97       684\n",
      "           1       0.98      0.96      0.97       741\n",
      "           2       1.00      0.99      1.00       271\n",
      "\n",
      "    accuracy                           0.98      1696\n",
      "   macro avg       0.98      0.98      0.98      1696\n",
      "weighted avg       0.98      0.98      0.98      1696\n",
      "\n"
     ]
    }
   ],
   "source": [
    "\n",
    "labels = []\n",
    "for image, label in test_data:\n",
    "    labels.append(label)\n",
    "\n",
    "labels = numpy.array(labels).reshape(-1, 3)\n",
    "predictions = model.predict(test_data, verbose=1)\n",
    "labels = numpy.argmax(labels, axis=-1)\n",
    "y_pred = numpy.argmax(predictions, axis=-1)\n",
    "\n",
    "# get the classification report\n",
    "cr = classification_report(labels, y_pred)\n",
    "print(cr)"
   ]
  },
  {
   "cell_type": "code",
   "execution_count": 17,
   "id": "12022bfb",
   "metadata": {
    "_cell_guid": "b72cb0e6-c551-4c84-878e-ad831059657a",
    "_uuid": "e09a156b-218a-4bb9-aab7-d38602dac2e7",
    "collapsed": false,
    "execution": {
     "iopub.execute_input": "2021-11-12T20:55:40.959094Z",
     "iopub.status.busy": "2021-11-12T20:55:40.947154Z",
     "iopub.status.idle": "2021-11-12T20:55:43.409455Z",
     "shell.execute_reply": "2021-11-12T20:55:43.410034Z",
     "shell.execute_reply.started": "2021-10-30T05:01:43.037787Z"
    },
    "jupyter": {
     "outputs_hidden": false
    },
    "papermill": {
     "duration": 6.519556,
     "end_time": "2021-11-12T20:55:43.410230",
     "exception": false,
     "start_time": "2021-11-12T20:55:36.890674",
     "status": "completed"
    },
    "tags": []
   },
   "outputs": [
    {
     "data": {
      "text/plain": [
       "<AxesSubplot:>"
      ]
     },
     "metadata": {},
     "output_type": "display_data"
    },
    {
     "data": {
      "image/png": "[encoded data removed]",
      "text/plain": [
       "<Figure size 432x288 with 2 Axes>"
      ]
     },
     "metadata": {},
     "output_type": "display_data"
    }
   ],
   "source": [
    "cm = confusion_matrix(labels, y_pred)\n",
    "x = seaborn.heatmap(cm, cmap='winter', annot=True, fmt='d')\n",
    "try:\n",
    "    wandb.log({'confusion matrix test img': wandb.Image(x)})\n",
    "except:\n",
    "    pass\n",
    "display(x)"
   ]
  }
 ],
 "metadata": {
  "kernelspec": {
   "display_name": "Python 3",
   "language": "python",
   "name": "python3"
  },
  "language_info": {
   "codemirror_mode": {
    "name": "ipython",
    "version": 3
   },
   "file_extension": ".py",
   "mimetype": "text/x-python",
   "name": "python",
   "nbconvert_exporter": "python",
   "pygments_lexer": "ipython3",
   "version": "3.7.10"
  },
  "papermill": {
   "default_parameters": {},
   "duration": 7834.560986,
   "end_time": "2021-11-12T20:55:50.046683",
   "environment_variables": {},
   "exception": null,
   "input_path": "__notebook__.ipynb",
   "output_path": "__notebook__.ipynb",
   "parameters": {},
   "start_time": "2021-11-12T18:45:15.485697",
   "version": "2.3.3"
  },
  "widgets": {
   "application/vnd.jupyter.widget-state+json": {
    "state": {
     "1bb53aaa64f246c482a33498cdb41bd5": {
      "model_module": "@jupyter-widgets/controls",
      "model_module_version": "1.5.0",
      "model_name": "FloatProgressModel",
      "state": {
       "_dom_classes": [],
       "_model_module": "@jupyter-widgets/controls",
       "_model_module_version": "1.5.0",
       "_model_name": "FloatProgressModel",
       "_view_count": null,
       "_view_module": "@jupyter-widgets/controls",
       "_view_module_version": "1.5.0",
       "_view_name": "ProgressView",
       "bar_style": "",
       "description": "",
       "description_tooltip": null,
       "layout": "IPY_MODEL_a384f8b933aa47a990409004f591d048",
       "max": 1.0,
       "min": 0.0,
       "orientation": "horizontal",
       "style": "IPY_MODEL_7961a678909e435d89bf6f62fd8c6731",
       "value": 0.0
      }
     },
     "59376c6486304fdbbc3bcf68474813d0": {
      "model_module": "@jupyter-widgets/controls",
      "model_module_version": "1.5.0",
      "model_name": "VBoxModel",
      "state": {
       "_dom_classes": [],
       "_model_module": "@jupyter-widgets/controls",
       "_model_module_version": "1.5.0",
       "_model_name": "VBoxModel",
       "_view_count": null,
       "_view_module": "@jupyter-widgets/controls",
       "_view_module_version": "1.5.0",
       "_view_name": "VBoxView",
       "box_style": "",
       "children": [
        "IPY_MODEL_ee90ee738fc549078ddcca1181c8096e",
        "IPY_MODEL_1bb53aaa64f246c482a33498cdb41bd5"
       ],
       "layout": "IPY_MODEL_9ccf181f94aa4155b4b2ff3bc52c83b3"
      }
     },
     "7961a678909e435d89bf6f62fd8c6731": {
      "model_module": "@jupyter-widgets/controls",
      "model_module_version": "1.5.0",
      "model_name": "ProgressStyleModel",
      "state": {
       "_model_module": "@jupyter-widgets/controls",
       "_model_module_version": "1.5.0",
       "_model_name": "ProgressStyleModel",
       "_view_count": null,
       "_view_module": "@jupyter-widgets/base",
       "_view_module_version": "1.2.0",
       "_view_name": "StyleView",
       "bar_color": null,
       "description_width": ""
      }
     },
     "7b2c4d08cf0c4caa8e63b0f5f4fcd7e4": {
      "model_module": "@jupyter-widgets/controls",
      "model_module_version": "1.5.0",
      "model_name": "DescriptionStyleModel",
      "state": {
       "_model_module": "@jupyter-widgets/controls",
       "_model_module_version": "1.5.0",
       "_model_name": "DescriptionStyleModel",
       "_view_count": null,
       "_view_module": "@jupyter-widgets/base",
       "_view_module_version": "1.2.0",
       "_view_name": "StyleView",
       "description_width": ""
      }
     },
     "9ccf181f94aa4155b4b2ff3bc52c83b3": {
      "model_module": "@jupyter-widgets/base",
      "model_module_version": "1.2.0",
      "model_name": "LayoutModel",
      "state": {
       "_model_module": "@jupyter-widgets/base",
       "_model_module_version": "1.2.0",
       "_model_name": "LayoutModel",
       "_view_count": null,
       "_view_module": "@jupyter-widgets/base",
       "_view_module_version": "1.2.0",
       "_view_name": "LayoutView",
       "align_content": null,
       "align_items": null,
       "align_self": null,
       "border": null,
       "bottom": null,
       "display": null,
       "flex": null,
       "flex_flow": null,
       "grid_area": null,
       "grid_auto_columns": null,
       "grid_auto_flow": null,
       "grid_auto_rows": null,
       "grid_column": null,
       "grid_gap": null,
       "grid_row": null,
       "grid_template_areas": null,
       "grid_template_columns": null,
       "grid_template_rows": null,
       "height": null,
       "justify_content": null,
       "justify_items": null,
       "left": null,
       "margin": null,
       "max_height": null,
       "max_width": null,
       "min_height": null,
       "min_width": null,
       "object_fit": null,
       "object_position": null,
       "order": null,
       "overflow": null,
       "overflow_x": null,
       "overflow_y": null,
       "padding": null,
       "right": null,
       "top": null,
       "visibility": null,
       "width": null
      }
     },
     "a384f8b933aa47a990409004f591d048": {
      "model_module": "@jupyter-widgets/base",
      "model_module_version": "1.2.0",
      "model_name": "LayoutModel",
      "state": {
       "_model_module": "@jupyter-widgets/base",
       "_model_module_version": "1.2.0",
       "_model_name": "LayoutModel",
       "_view_count": null,
       "_view_module": "@jupyter-widgets/base",
       "_view_module_version": "1.2.0",
       "_view_name": "LayoutView",
       "align_content": null,
       "align_items": null,
       "align_self": null,
       "border": null,
       "bottom": null,
       "display": null,
       "flex": null,
       "flex_flow": null,
       "grid_area": null,
       "grid_auto_columns": null,
       "grid_auto_flow": null,
       "grid_auto_rows": null,
       "grid_column": null,
       "grid_gap": null,
       "grid_row": null,
       "grid_template_areas": null,
       "grid_template_columns": null,
       "grid_template_rows": null,
       "height": null,
       "justify_content": null,
       "justify_items": null,
       "left": null,
       "margin": null,
       "max_height": null,
       "max_width": null,
       "min_height": null,
       "min_width": null,
       "object_fit": null,
       "object_position": null,
       "order": null,
       "overflow": null,
       "overflow_x": null,
       "overflow_y": null,
       "padding": null,
       "right": null,
       "top": null,
       "visibility": null,
       "width": null
      }
     },
     "dd765290afc749718e33f989cb1f2f56": {
      "model_module": "@jupyter-widgets/base",
      "model_module_version": "1.2.0",
      "model_name": "LayoutModel",
      "state": {
       "_model_module": "@jupyter-widgets/base",
       "_model_module_version": "1.2.0",
       "_model_name": "LayoutModel",
       "_view_count": null,
       "_view_module": "@jupyter-widgets/base",
       "_view_module_version": "1.2.0",
       "_view_name": "LayoutView",
       "align_content": null,
       "align_items": null,
       "align_self": null,
       "border": null,
       "bottom": null,
       "display": null,
       "flex": null,
       "flex_flow": null,
       "grid_area": null,
       "grid_auto_columns": null,
       "grid_auto_flow": null,
       "grid_auto_rows": null,
       "grid_column": null,
       "grid_gap": null,
       "grid_row": null,
       "grid_template_areas": null,
       "grid_template_columns": null,
       "grid_template_rows": null,
       "height": null,
       "justify_content": null,
       "justify_items": null,
       "left": null,
       "margin": null,
       "max_height": null,
       "max_width": null,
       "min_height": null,
       "min_width": null,
       "object_fit": null,
       "object_position": null,
       "order": null,
       "overflow": null,
       "overflow_x": null,
       "overflow_y": null,
       "padding": null,
       "right": null,
       "top": null,
       "visibility": null,
       "width": null
      }
     },
     "ee90ee738fc549078ddcca1181c8096e": {
      "model_module": "@jupyter-widgets/controls",
      "model_module_version": "1.5.0",
      "model_name": "LabelModel",
      "state": {
       "_dom_classes": [],
       "_model_module": "@jupyter-widgets/controls",
       "_model_module_version": "1.5.0",
       "_model_name": "LabelModel",
       "_view_count": null,
       "_view_module": "@jupyter-widgets/controls",
       "_view_module_version": "1.5.0",
       "_view_name": "LabelView",
       "description": "",
       "description_tooltip": null,
       "layout": "IPY_MODEL_dd765290afc749718e33f989cb1f2f56",
       "placeholder": "​",
       "style": "IPY_MODEL_7b2c4d08cf0c4caa8e63b0f5f4fcd7e4",
       "value": ""
      }
     }
    },
    "version_major": 2,
    "version_minor": 0
   }
  }
 },
 "nbformat": 4,
 "nbformat_minor": 5
}
