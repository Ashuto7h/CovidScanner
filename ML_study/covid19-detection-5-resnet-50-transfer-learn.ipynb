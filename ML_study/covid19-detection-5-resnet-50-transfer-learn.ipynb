{
 "cells": [
  {
   "cell_type": "code",
   "execution_count": 1,
   "id": "1725222d",
   "metadata": {
    "_cell_guid": "dadba0d2-5fac-4996-92f0-e7c5344c42d0",
    "_uuid": "711c7773-f354-4bbc-b454-c136a67189b4",
    "collapsed": false,
    "execution": {
     "iopub.execute_input": "2021-11-12T18:45:21.522152Z",
     "iopub.status.busy": "2021-11-12T18:45:21.520663Z",
     "iopub.status.idle": "2021-11-12T18:45:36.297703Z",
     "shell.execute_reply": "2021-11-12T18:45:36.298835Z",
     "shell.execute_reply.started": "2021-10-20T09:42:32.038319Z"
    },
    "jupyter": {
     "outputs_hidden": false
    },
    "papermill": {
     "duration": 14.799059,
     "end_time": "2021-11-12T18:45:36.299185",
     "exception": false,
     "start_time": "2021-11-12T18:45:21.500126",
     "status": "completed"
    },
    "tags": []
   },
   "outputs": [
    {
     "name": "stderr",
     "output_type": "stream",
     "text": [
      "2021-11-12 18:45:23.066844: I tensorflow/stream_executor/platform/default/dso_loader.cc:49] Successfully opened dynamic library libcudart.so.11.0\n",
      "\u001b[34m\u001b[1mwandb\u001b[0m: W&B API key is configured (use `wandb login --relogin` to force relogin)\n",
      "\u001b[34m\u001b[1mwandb\u001b[0m: \u001b[33mWARNING\u001b[0m If you're specifying your api key in code, ensure this code is not shared publically.\n",
      "\u001b[34m\u001b[1mwandb\u001b[0m: \u001b[33mWARNING\u001b[0m Consider setting the WANDB_API_KEY environment variable, or running `wandb login` from the command line.\n",
      "\u001b[34m\u001b[1mwandb\u001b[0m: Appending key for api.wandb.ai to your netrc file: /root/.netrc\n",
      "\u001b[34m\u001b[1mwandb\u001b[0m: Currently logged in as: \u001b[33mashuto7h\u001b[0m (use `wandb login --relogin` to force relogin)\n",
      "\u001b[34m\u001b[1mwandb\u001b[0m: wandb version 0.12.6 is available!  To upgrade, please run:\n",
      "\u001b[34m\u001b[1mwandb\u001b[0m:  $ pip install wandb --upgrade\n",
      "2021-11-12 18:45:30.716380: I tensorflow/stream_executor/platform/default/dso_loader.cc:49] Successfully opened dynamic library libcudart.so.11.0\n"
     ]
    },
    {
     "data": {
      "text/html": [
       "\n",
       "                Tracking run with wandb version 0.12.2<br/>\n",
       "                Syncing run <strong style=\"color:#cdcd00\">misunderstood-armadillo-103</strong> to <a href=\"https://wandb.ai\" target=\"_blank\">Weights & Biases</a> <a href=\"https://docs.wandb.com/integrations/jupyter.html\" target=\"_blank\">(Documentation)</a>.<br/>\n",
       "                Project page: <a href=\"https://wandb.ai/ashuto7h/covid19\" target=\"_blank\">https://wandb.ai/ashuto7h/covid19</a><br/>\n",
       "                Run page: <a href=\"https://wandb.ai/ashuto7h/covid19/runs/17lstv1f\" target=\"_blank\">https://wandb.ai/ashuto7h/covid19/runs/17lstv1f</a><br/>\n",
       "                Run data is saved locally in <code>/kaggle/working/wandb/run-20211112_184528-17lstv1f</code><br/><br/>\n",
       "            "
      ],
      "text/plain": [
       "<IPython.core.display.HTML object>"
      ]
     },
     "metadata": {},
     "output_type": "display_data"
    },
    {
     "name": "stderr",
     "output_type": "stream",
     "text": [
      "\n",
      "CondaEnvException: Unable to determine environment\n",
      "\n",
      "Please re-run this command with one of the following options:\n",
      "\n",
      "* Provide an environment name via --name or -n\n",
      "* Re-run this command inside an activated conda environment.\n",
      "\n"
     ]
    }
   ],
   "source": [
    "import os\n",
    "from sklearn.metrics import confusion_matrix\n",
    "from sklearn.metrics import classification_report\n",
    "import seaborn\n",
    "import matplotlib.pyplot as pyplot\n",
    "from tensorflow.keras import layers\n",
    "from tensorflow import keras\n",
    "import tensorflow as tf\n",
    "from sklearn.utils.class_weight import compute_class_weight\n",
    "import pandas\n",
    "import numpy\n",
    "import wandb\n",
    "from wandb.keras import WandbCallback\n",
    "\n",
    "wandb.login(key='ea1404a9d16ac9056181f111599286f24c65e0e9')\n",
    "wandb.init(project='covid19', entity='ashuto7h')\n",
    "config = wandb.config\n"
   ]
  },
  {
   "cell_type": "code",
   "execution_count": 2,
   "id": "d6f1ca07",
   "metadata": {
    "_cell_guid": "2832337a-5129-4a27-bfd5-9b0fdc91c0ac",
    "_uuid": "0804832f-1c32-4ad3-a636-052e17f95007",
    "collapsed": false,
    "execution": {
     "iopub.execute_input": "2021-11-12T18:45:36.366880Z",
     "iopub.status.busy": "2021-11-12T18:45:36.366355Z",
     "iopub.status.idle": "2021-11-12T18:45:37.025904Z",
     "shell.execute_reply": "2021-11-12T18:45:37.026398Z",
     "shell.execute_reply.started": "2021-10-19T13:59:37.289802Z"
    },
    "jupyter": {
     "outputs_hidden": false
    },
    "papermill": {
     "duration": 0.696482,
     "end_time": "2021-11-12T18:45:37.026558",
     "exception": false,
     "start_time": "2021-11-12T18:45:36.330076",
     "status": "completed"
    },
    "tags": []
   },
   "outputs": [],
   "source": [
    "# ! pip install tensorflow --upgrade\n"
   ]
  },
  {
   "cell_type": "code",
   "execution_count": 3,
   "id": "3805877a",
   "metadata": {
    "_cell_guid": "cabcab60-4448-4cd9-8396-a9dba05b52b6",
    "_uuid": "2506aab3-12f5-48e8-b7a8-c5bccce9431f",
    "collapsed": false,
    "execution": {
     "iopub.execute_input": "2021-11-12T18:45:37.071398Z",
     "iopub.status.busy": "2021-11-12T18:45:37.070877Z",
     "iopub.status.idle": "2021-11-12T18:45:39.083737Z",
     "shell.execute_reply": "2021-11-12T18:45:39.084361Z",
     "shell.execute_reply.started": "2021-10-20T09:42:48.12613Z"
    },
    "jupyter": {
     "outputs_hidden": false
    },
    "papermill": {
     "duration": 2.04021,
     "end_time": "2021-11-12T18:45:39.084511",
     "exception": false,
     "start_time": "2021-11-12T18:45:37.044301",
     "status": "completed"
    },
    "tags": []
   },
   "outputs": [
    {
     "name": "stdout",
     "output_type": "stream",
     "text": [
      "2COVID       7593\n",
      "1NonCOVID    6893\n",
      "3CAP         2618\n",
      "Name: labels, dtype: int64\n"
     ]
    }
   ],
   "source": [
    "sdir = r'../input/large-covid19-ct-slice-dataset/curated_data/curated_data'\n",
    "filepaths = []\n",
    "labels = []\n",
    "classlist = os.listdir(sdir)\n",
    "for item in classlist:\n",
    "    classpath = os.path.join(sdir, item)\n",
    "    flist = os.listdir(classpath)\n",
    "    for f in flist:\n",
    "        fpath = os.path.join(classpath, f)\n",
    "        filepaths.append(fpath)\n",
    "        labels.append(item)\n",
    "\n",
    "df = pandas.DataFrame()\n",
    "df['filepath'] = filepaths\n",
    "df['labels'] = labels\n",
    "print(df['labels'].value_counts())\n",
    "df = df.sample(frac=1).reset_index(drop=True)\n"
   ]
  },
  {
   "cell_type": "code",
   "execution_count": 4,
   "id": "937082e3",
   "metadata": {
    "_cell_guid": "f1df11b3-fb3c-48e7-82a1-1a77b6ae7bda",
    "_uuid": "237ee10a-e7eb-4f63-a1bb-1b2e8ed1bd40",
    "collapsed": false,
    "execution": {
     "iopub.execute_input": "2021-11-12T18:45:39.128800Z",
     "iopub.status.busy": "2021-11-12T18:45:39.128295Z",
     "iopub.status.idle": "2021-11-12T18:45:39.682457Z",
     "shell.execute_reply": "2021-11-12T18:45:39.682931Z",
     "shell.execute_reply.started": "2021-10-20T09:42:49.476764Z"
    },
    "jupyter": {
     "outputs_hidden": false
    },
    "papermill": {
     "duration": 0.580662,
     "end_time": "2021-11-12T18:45:39.683081",
     "exception": false,
     "start_time": "2021-11-12T18:45:39.102419",
     "status": "completed"
    },
    "tags": []
   },
   "outputs": [
    {
     "data": {
      "text/html": [
       "<div>\n",
       "<style scoped>\n",
       "    .dataframe tbody tr th:only-of-type {\n",
       "        vertical-align: middle;\n",
       "    }\n",
       "\n",
       "    .dataframe tbody tr th {\n",
       "        vertical-align: top;\n",
       "    }\n",
       "\n",
       "    .dataframe thead th {\n",
       "        text-align: right;\n",
       "    }\n",
       "</style>\n",
       "<table border=\"1\" class=\"dataframe\">\n",
       "  <thead>\n",
       "    <tr style=\"text-align: right;\">\n",
       "      <th></th>\n",
       "      <th>filepath</th>\n",
       "      <th>labels</th>\n",
       "    </tr>\n",
       "  </thead>\n",
       "  <tbody>\n",
       "    <tr>\n",
       "      <th>0</th>\n",
       "      <td>../input/large-covid19-ct-slice-dataset/curate...</td>\n",
       "      <td>1NonCOVID</td>\n",
       "    </tr>\n",
       "    <tr>\n",
       "      <th>1</th>\n",
       "      <td>../input/large-covid19-ct-slice-dataset/curate...</td>\n",
       "      <td>2COVID</td>\n",
       "    </tr>\n",
       "    <tr>\n",
       "      <th>2</th>\n",
       "      <td>../input/large-covid19-ct-slice-dataset/curate...</td>\n",
       "      <td>2COVID</td>\n",
       "    </tr>\n",
       "    <tr>\n",
       "      <th>3</th>\n",
       "      <td>../input/large-covid19-ct-slice-dataset/curate...</td>\n",
       "      <td>3CAP</td>\n",
       "    </tr>\n",
       "    <tr>\n",
       "      <th>4</th>\n",
       "      <td>../input/large-covid19-ct-slice-dataset/curate...</td>\n",
       "      <td>2COVID</td>\n",
       "    </tr>\n",
       "    <tr>\n",
       "      <th>...</th>\n",
       "      <td>...</td>\n",
       "      <td>...</td>\n",
       "    </tr>\n",
       "    <tr>\n",
       "      <th>17099</th>\n",
       "      <td>../input/large-covid19-ct-slice-dataset/curate...</td>\n",
       "      <td>1NonCOVID</td>\n",
       "    </tr>\n",
       "    <tr>\n",
       "      <th>17100</th>\n",
       "      <td>../input/large-covid19-ct-slice-dataset/curate...</td>\n",
       "      <td>2COVID</td>\n",
       "    </tr>\n",
       "    <tr>\n",
       "      <th>17101</th>\n",
       "      <td>../input/large-covid19-ct-slice-dataset/curate...</td>\n",
       "      <td>2COVID</td>\n",
       "    </tr>\n",
       "    <tr>\n",
       "      <th>17102</th>\n",
       "      <td>../input/large-covid19-ct-slice-dataset/curate...</td>\n",
       "      <td>1NonCOVID</td>\n",
       "    </tr>\n",
       "    <tr>\n",
       "      <th>17103</th>\n",
       "      <td>../input/large-covid19-ct-slice-dataset/curate...</td>\n",
       "      <td>1NonCOVID</td>\n",
       "    </tr>\n",
       "  </tbody>\n",
       "</table>\n",
       "<p>17104 rows × 2 columns</p>\n",
       "</div>"
      ],
      "text/plain": [
       "                                                filepath     labels\n",
       "0      ../input/large-covid19-ct-slice-dataset/curate...  1NonCOVID\n",
       "1      ../input/large-covid19-ct-slice-dataset/curate...     2COVID\n",
       "2      ../input/large-covid19-ct-slice-dataset/curate...     2COVID\n",
       "3      ../input/large-covid19-ct-slice-dataset/curate...       3CAP\n",
       "4      ../input/large-covid19-ct-slice-dataset/curate...     2COVID\n",
       "...                                                  ...        ...\n",
       "17099  ../input/large-covid19-ct-slice-dataset/curate...  1NonCOVID\n",
       "17100  ../input/large-covid19-ct-slice-dataset/curate...     2COVID\n",
       "17101  ../input/large-covid19-ct-slice-dataset/curate...     2COVID\n",
       "17102  ../input/large-covid19-ct-slice-dataset/curate...  1NonCOVID\n",
       "17103  ../input/large-covid19-ct-slice-dataset/curate...  1NonCOVID\n",
       "\n",
       "[17104 rows x 2 columns]"
      ]
     },
     "execution_count": 4,
     "metadata": {},
     "output_type": "execute_result"
    }
   ],
   "source": [
    "df\n"
   ]
  },
  {
   "cell_type": "code",
   "execution_count": 5,
   "id": "8657e3fd",
   "metadata": {
    "_cell_guid": "b2aa5ad7-fa6d-43e9-aeea-b6bbf2ee20cc",
    "_uuid": "0d87abfc-c99c-4f12-8e86-caef20193704",
    "collapsed": false,
    "execution": {
     "iopub.execute_input": "2021-11-12T18:45:39.728184Z",
     "iopub.status.busy": "2021-11-12T18:45:39.727466Z",
     "iopub.status.idle": "2021-11-12T18:45:40.298520Z",
     "shell.execute_reply": "2021-11-12T18:45:40.298008Z",
     "shell.execute_reply.started": "2021-10-19T13:59:37.444891Z"
    },
    "jupyter": {
     "outputs_hidden": false
    },
    "papermill": {
     "duration": 0.597035,
     "end_time": "2021-11-12T18:45:40.298661",
     "exception": false,
     "start_time": "2021-11-12T18:45:39.701626",
     "status": "completed"
    },
    "tags": []
   },
   "outputs": [
    {
     "name": "stdout",
     "output_type": "stream",
     "text": [
      "[0.8271193  0.75086703 2.17774382] ['1NonCOVID' '2COVID' '3CAP']\n"
     ]
    }
   ],
   "source": [
    "cw = compute_class_weight('balanced', classes=df.labels.unique(), y=df.labels)\n",
    "print(cw, df.labels.unique())\n"
   ]
  },
  {
   "cell_type": "code",
   "execution_count": 6,
   "id": "1ff106e1",
   "metadata": {
    "_cell_guid": "58b4e916-a7e1-4d86-822d-a8796c0559a1",
    "_uuid": "5eb1c89f-1958-4a5f-b968-a117c8bae0df",
    "collapsed": false,
    "execution": {
     "iopub.execute_input": "2021-11-12T18:45:40.351890Z",
     "iopub.status.busy": "2021-11-12T18:45:40.351204Z",
     "iopub.status.idle": "2021-11-12T18:45:40.968373Z",
     "shell.execute_reply": "2021-11-12T18:45:40.967884Z",
     "shell.execute_reply.started": "2021-10-19T13:59:37.476427Z"
    },
    "jupyter": {
     "outputs_hidden": false
    },
    "papermill": {
     "duration": 0.647247,
     "end_time": "2021-11-12T18:45:40.968508",
     "exception": false,
     "start_time": "2021-11-12T18:45:40.321261",
     "status": "completed"
    },
    "tags": []
   },
   "outputs": [],
   "source": [
    "class_weights = {2: 2.17774382, 0: 0.8271193, 1: 0.75086703}\n",
    "class_map = {'2COVID': 1, '1NonCOVID': 0, '3CAP': 2}\n"
   ]
  },
  {
   "cell_type": "code",
   "execution_count": 7,
   "id": "65def1e9",
   "metadata": {
    "_cell_guid": "1a8f37ec-3182-4f8e-a06d-389907773e30",
    "_uuid": "9bd265f0-6717-4c6b-be07-0f57086290c0",
    "collapsed": false,
    "execution": {
     "iopub.execute_input": "2021-11-12T18:45:41.032092Z",
     "iopub.status.busy": "2021-11-12T18:45:41.031208Z",
     "iopub.status.idle": "2021-11-12T18:45:41.733832Z",
     "shell.execute_reply": "2021-11-12T18:45:41.733353Z",
     "shell.execute_reply.started": "2021-10-19T13:59:37.489899Z"
    },
    "jupyter": {
     "outputs_hidden": false
    },
    "papermill": {
     "duration": 0.74411,
     "end_time": "2021-11-12T18:45:41.733963",
     "exception": false,
     "start_time": "2021-11-12T18:45:40.989853",
     "status": "completed"
    },
    "tags": []
   },
   "outputs": [],
   "source": [
    "class DataGenerator(tf.keras.utils.Sequence):\n",
    "    def __init__(self, df, batch_size=32, shuffle=True, color_mode=\"rgb\"):\n",
    "        self.batch_size = batch_size\n",
    "        self.df = df\n",
    "        self.indices = self.df.index.tolist()\n",
    "        self.shuffle = shuffle\n",
    "        self.on_epoch_end()\n",
    "        self.color_mode = color_mode\n",
    "        self.augmentor = keras.preprocessing.image.ImageDataGenerator(\n",
    "            width_shift_range=0.1,\n",
    "            height_shift_range=0.1,\n",
    "            zoom_range=0.1,\n",
    "            horizontal_flip=True,\n",
    "            brightness_range=[0, 0.2])\n",
    "\n",
    "    def __len__(self):\n",
    "        return len(self.indices) // self.batch_size\n",
    "\n",
    "    def __getitem__(self, index):\n",
    "        index = self.index[index *\n",
    "                           self.batch_size:(index + 1) *\n",
    "                           self.batch_size]\n",
    "        batch = [self.indices[k] for k in index]\n",
    "\n",
    "        X, y = self.__get_data(batch)\n",
    "        return X, y\n",
    "\n",
    "    def on_epoch_end(self):\n",
    "        self.index = numpy.arange(len(self.indices))\n",
    "        if self.shuffle == True:\n",
    "            numpy.random.shuffle(self.index)\n",
    "\n",
    "    def __get_data(self, batch):\n",
    "        X = []\n",
    "        y = []\n",
    "        for i, id in enumerate(batch):\n",
    "            img = tf.keras.preprocessing.image.load_img(\n",
    "                self.df.loc[id, 'filepath'],\n",
    "                color_mode=self.color_mode,\n",
    "                target_size=(256, 256),\n",
    "                interpolation=\"nearest\")\n",
    "            img_array = tf.keras.preprocessing.image.img_to_array(img)\n",
    "            X.append(img_array/255)\n",
    "            ylist = [0, 0, 0]\n",
    "            ylist[class_map[self.df.loc[id, 'labels']]] = 1\n",
    "            ylist = numpy.array(ylist)\n",
    "            y.append(ylist)\n",
    "        X = numpy.array(X)\n",
    "        X = self.augmentor.flow(\n",
    "            X, batch_size=self.batch_size, shuffle=False).next()\n",
    "        y = numpy.array(y)\n",
    "        return X, y\n"
   ]
  },
  {
   "cell_type": "code",
   "execution_count": 8,
   "id": "f993bc75",
   "metadata": {
    "_cell_guid": "e8348f0a-3610-43ae-bb5d-e234c877b7cb",
    "_uuid": "59da5554-e93b-4ebe-9498-f03c22967c07",
    "collapsed": false,
    "execution": {
     "iopub.execute_input": "2021-11-12T18:45:41.792468Z",
     "iopub.status.busy": "2021-11-12T18:45:41.791923Z",
     "iopub.status.idle": "2021-11-12T18:45:42.262446Z",
     "shell.execute_reply": "2021-11-12T18:45:42.261927Z",
     "shell.execute_reply.started": "2021-10-19T13:59:37.515979Z"
    },
    "jupyter": {
     "outputs_hidden": false
    },
    "papermill": {
     "duration": 0.503776,
     "end_time": "2021-11-12T18:45:42.262580",
     "exception": false,
     "start_time": "2021-11-12T18:45:41.758804",
     "status": "completed"
    },
    "tags": []
   },
   "outputs": [],
   "source": [
    "train_data = DataGenerator(df[:13684].reset_index(drop=True))  # 80%\n",
    "valid_data = DataGenerator(df[13684:15394].reset_index(drop=True))  # 80 - 90%\n",
    "test_data = DataGenerator(df[15394:].reset_index(\n",
    "    drop=True), shuffle=False)  # 90 - 100%\n",
    "\n",
    "# train_data = DataGenerator(df[:200].reset_index(drop=True))  # 80%\n",
    "# valid_data = DataGenerator(df[200:300].reset_index(drop=True))  # 80 - 90%\n",
    "# test_data = DataGenerator(df[300:400].reset_index(drop=True), shuffle=False)  # 90 - 100%\n"
   ]
  },
  {
   "cell_type": "code",
   "execution_count": 9,
   "id": "e68eb48d",
   "metadata": {
    "_cell_guid": "2c9c8c5c-6a82-4418-88c5-152765475cdd",
    "_uuid": "924ad27f-3d37-49c7-a5c7-8a11ccbb9304",
    "collapsed": false,
    "execution": {
     "iopub.execute_input": "2021-11-12T18:45:42.321030Z",
     "iopub.status.busy": "2021-11-12T18:45:42.320425Z",
     "iopub.status.idle": "2021-11-12T18:45:42.928601Z",
     "shell.execute_reply": "2021-11-12T18:45:42.929048Z",
     "shell.execute_reply.started": "2021-10-19T13:59:37.548221Z"
    },
    "jupyter": {
     "outputs_hidden": false
    },
    "papermill": {
     "duration": 0.644273,
     "end_time": "2021-11-12T18:45:42.929198",
     "exception": false,
     "start_time": "2021-11-12T18:45:42.284925",
     "status": "completed"
    },
    "tags": []
   },
   "outputs": [],
   "source": [
    "from tensorflow.keras.applications import ResNet50\n",
    "from tensorflow.keras.layers import GlobalAveragePooling2D, GlobalMaxPooling2D, Dropout, BatchNormalization\n",
    "\n",
    "\n",
    "def build_model():\n",
    "    inputs = layers.Input(shape=(256, 256, 3))\n",
    "    x = ResNet50(include_top=False, weights='imagenet',\n",
    "                 input_shape=(256, 256, 3))(inputs)\n",
    "    x = GlobalAveragePooling2D()(x)\n",
    "    x = Dropout(0.3)(x)\n",
    "    x = BatchNormalization()(x)\n",
    "#     x = Dropout(0.3)(x)\n",
    "#     x = BatchNormalization()(x)\n",
    "    outputs = layers.Dense(3, activation=\"softmax\")(x)\n",
    "    model = keras.Model(inputs=inputs, outputs=outputs)\n",
    "    return model\n"
   ]
  },
  {
   "cell_type": "code",
   "execution_count": 10,
   "id": "8a887cdb",
   "metadata": {
    "_cell_guid": "640c37d0-1243-488b-a4bd-edec1e5562b2",
    "_uuid": "29db388a-603a-4134-a55c-a93f0484b105",
    "collapsed": false,
    "execution": {
     "iopub.execute_input": "2021-11-12T18:45:42.972921Z",
     "iopub.status.busy": "2021-11-12T18:45:42.972416Z",
     "iopub.status.idle": "2021-11-12T18:45:43.623571Z",
     "shell.execute_reply": "2021-11-12T18:45:43.622558Z",
     "shell.execute_reply.started": "2021-10-19T13:59:37.563131Z"
    },
    "jupyter": {
     "outputs_hidden": false
    },
    "papermill": {
     "duration": 0.675766,
     "end_time": "2021-11-12T18:45:43.623725",
     "exception": false,
     "start_time": "2021-11-12T18:45:42.947959",
     "status": "completed"
    },
    "tags": []
   },
   "outputs": [],
   "source": [
    "initial_learning_rate = 0.015\n",
    "epochs = 100\n",
    "model_name = \"Resnet_v13.h5\"\n",
    "patience = 10\n",
    "decay_steps = 100000\n",
    "decay_rate = 0.96\n",
    "\n",
    "lr_schedule = tf.keras.optimizers.schedules.ExponentialDecay(\n",
    "    initial_learning_rate,\n",
    "    decay_steps=decay_steps,\n",
    "    decay_rate=decay_rate,\n",
    "    staircase=True)\n",
    "checkpoint_cb = tf.keras.callbacks.ModelCheckpoint(\n",
    "    model_name,\n",
    "    save_best_only=True)\n",
    "early_stopping_cb = tf.keras.callbacks.EarlyStopping(\n",
    "    patience=patience,\n",
    "    restore_best_weights=True)\n"
   ]
  },
  {
   "cell_type": "code",
   "execution_count": 11,
   "id": "1f1fbc4b",
   "metadata": {
    "_cell_guid": "9cfb3bb3-cbb8-4b36-bbeb-da9a13a63ec9",
    "_uuid": "98b4ea5a-3646-4816-8436-14267d93ae0a",
    "collapsed": false,
    "execution": {
     "iopub.execute_input": "2021-11-12T18:45:43.671817Z",
     "iopub.status.busy": "2021-11-12T18:45:43.670555Z",
     "iopub.status.idle": "2021-11-12T18:45:44.269843Z",
     "shell.execute_reply": "2021-11-12T18:45:44.269374Z",
     "shell.execute_reply.started": "2021-10-19T13:59:37.57833Z"
    },
    "jupyter": {
     "outputs_hidden": false
    },
    "papermill": {
     "duration": 0.624604,
     "end_time": "2021-11-12T18:45:44.269983",
     "exception": false,
     "start_time": "2021-11-12T18:45:43.645379",
     "status": "completed"
    },
    "tags": []
   },
   "outputs": [],
   "source": [
    "config.class_weights = class_weights\n",
    "config.class_map = class_map\n",
    "config.initial_learning_rate = initial_learning_rate\n",
    "config.epochs = epochs\n",
    "config.model_name = model_name\n",
    "config.patience = patience\n",
    "config.decay_steps = decay_steps\n",
    "config.decay_rate = decay_rate\n",
    "# config.pooling = 'max'\n"
   ]
  },
  {
   "cell_type": "code",
   "execution_count": 12,
   "id": "fae1b575",
   "metadata": {
    "_cell_guid": "2e67cee5-a373-4519-a80a-7458dce91c3d",
    "_uuid": "3e93441e-93ff-472b-a10a-0cd39a20563f",
    "collapsed": false,
    "execution": {
     "iopub.execute_input": "2021-11-12T18:45:44.322605Z",
     "iopub.status.busy": "2021-11-12T18:45:44.321781Z",
     "iopub.status.idle": "2021-11-12T20:04:33.162797Z",
     "shell.execute_reply": "2021-11-12T20:04:33.162062Z",
     "shell.execute_reply.started": "2021-10-19T13:59:37.597213Z"
    },
    "jupyter": {
     "outputs_hidden": false
    },
    "papermill": {
     "duration": 4728.868719,
     "end_time": "2021-11-12T20:04:33.162959",
     "exception": false,
     "start_time": "2021-11-12T18:45:44.294240",
     "status": "completed"
    },
    "tags": []
   },
   "outputs": [
    {
     "name": "stderr",
     "output_type": "stream",
     "text": [
      "2021-11-12 18:45:44.359445: I tensorflow/compiler/jit/xla_cpu_device.cc:41] Not creating XLA devices, tf_xla_enable_xla_devices not set\n",
      "2021-11-12 18:45:44.362882: I tensorflow/stream_executor/platform/default/dso_loader.cc:49] Successfully opened dynamic library libcuda.so.1\n",
      "2021-11-12 18:45:44.400346: I tensorflow/stream_executor/cuda/cuda_gpu_executor.cc:941] successful NUMA node read from SysFS had negative value (-1), but there must be at least one NUMA node, so returning NUMA node zero\n",
      "2021-11-12 18:45:44.400967: I tensorflow/core/common_runtime/gpu/gpu_device.cc:1720] Found device 0 with properties: \n",
      "pciBusID: 0000:00:04.0 name: Tesla P100-PCIE-16GB computeCapability: 6.0\n",
      "coreClock: 1.3285GHz coreCount: 56 deviceMemorySize: 15.90GiB deviceMemoryBandwidth: 681.88GiB/s\n",
      "2021-11-12 18:45:44.401051: I tensorflow/stream_executor/platform/default/dso_loader.cc:49] Successfully opened dynamic library libcudart.so.11.0\n",
      "2021-11-12 18:45:44.431292: I tensorflow/stream_executor/platform/default/dso_loader.cc:49] Successfully opened dynamic library libcublas.so.11\n",
      "2021-11-12 18:45:44.431392: I tensorflow/stream_executor/platform/default/dso_loader.cc:49] Successfully opened dynamic library libcublasLt.so.11\n",
      "2021-11-12 18:45:44.448214: I tensorflow/stream_executor/platform/default/dso_loader.cc:49] Successfully opened dynamic library libcufft.so.10\n",
      "2021-11-12 18:45:44.457430: I tensorflow/stream_executor/platform/default/dso_loader.cc:49] Successfully opened dynamic library libcurand.so.10\n",
      "2021-11-12 18:45:44.484479: I tensorflow/stream_executor/platform/default/dso_loader.cc:49] Successfully opened dynamic library libcusolver.so.10\n",
      "2021-11-12 18:45:44.492642: I tensorflow/stream_executor/platform/default/dso_loader.cc:49] Successfully opened dynamic library libcusparse.so.11\n",
      "2021-11-12 18:45:44.497353: I tensorflow/stream_executor/platform/default/dso_loader.cc:49] Successfully opened dynamic library libcudnn.so.8\n",
      "2021-11-12 18:45:44.497537: I tensorflow/stream_executor/cuda/cuda_gpu_executor.cc:941] successful NUMA node read from SysFS had negative value (-1), but there must be at least one NUMA node, so returning NUMA node zero\n",
      "2021-11-12 18:45:44.498184: I tensorflow/stream_executor/cuda/cuda_gpu_executor.cc:941] successful NUMA node read from SysFS had negative value (-1), but there must be at least one NUMA node, so returning NUMA node zero\n",
      "2021-11-12 18:45:44.499867: I tensorflow/core/common_runtime/gpu/gpu_device.cc:1862] Adding visible gpu devices: 0\n",
      "2021-11-12 18:45:44.500323: I tensorflow/core/platform/cpu_feature_guard.cc:142] This TensorFlow binary is optimized with oneAPI Deep Neural Network Library (oneDNN) to use the following CPU instructions in performance-critical operations:  AVX2 AVX512F FMA\n",
      "To enable them in other operations, rebuild TensorFlow with the appropriate compiler flags.\n",
      "2021-11-12 18:45:44.500545: I tensorflow/compiler/jit/xla_gpu_device.cc:99] Not creating XLA devices, tf_xla_enable_xla_devices not set\n",
      "2021-11-12 18:45:44.500706: I tensorflow/stream_executor/cuda/cuda_gpu_executor.cc:941] successful NUMA node read from SysFS had negative value (-1), but there must be at least one NUMA node, so returning NUMA node zero\n",
      "2021-11-12 18:45:44.501289: I tensorflow/core/common_runtime/gpu/gpu_device.cc:1720] Found device 0 with properties: \n",
      "pciBusID: 0000:00:04.0 name: Tesla P100-PCIE-16GB computeCapability: 6.0\n",
      "coreClock: 1.3285GHz coreCount: 56 deviceMemorySize: 15.90GiB deviceMemoryBandwidth: 681.88GiB/s\n",
      "2021-11-12 18:45:44.501336: I tensorflow/stream_executor/platform/default/dso_loader.cc:49] Successfully opened dynamic library libcudart.so.11.0\n",
      "2021-11-12 18:45:44.501360: I tensorflow/stream_executor/platform/default/dso_loader.cc:49] Successfully opened dynamic library libcublas.so.11\n",
      "2021-11-12 18:45:44.501378: I tensorflow/stream_executor/platform/default/dso_loader.cc:49] Successfully opened dynamic library libcublasLt.so.11\n",
      "2021-11-12 18:45:44.501395: I tensorflow/stream_executor/platform/default/dso_loader.cc:49] Successfully opened dynamic library libcufft.so.10\n",
      "2021-11-12 18:45:44.501412: I tensorflow/stream_executor/platform/default/dso_loader.cc:49] Successfully opened dynamic library libcurand.so.10\n",
      "2021-11-12 18:45:44.501435: I tensorflow/stream_executor/platform/default/dso_loader.cc:49] Successfully opened dynamic library libcusolver.so.10\n",
      "2021-11-12 18:45:44.501455: I tensorflow/stream_executor/platform/default/dso_loader.cc:49] Successfully opened dynamic library libcusparse.so.11\n",
      "2021-11-12 18:45:44.501473: I tensorflow/stream_executor/platform/default/dso_loader.cc:49] Successfully opened dynamic library libcudnn.so.8\n",
      "2021-11-12 18:45:44.501572: I tensorflow/stream_executor/cuda/cuda_gpu_executor.cc:941] successful NUMA node read from SysFS had negative value (-1), but there must be at least one NUMA node, so returning NUMA node zero\n",
      "2021-11-12 18:45:44.502182: I tensorflow/stream_executor/cuda/cuda_gpu_executor.cc:941] successful NUMA node read from SysFS had negative value (-1), but there must be at least one NUMA node, so returning NUMA node zero\n",
      "2021-11-12 18:45:44.502723: I tensorflow/core/common_runtime/gpu/gpu_device.cc:1862] Adding visible gpu devices: 0\n",
      "2021-11-12 18:45:44.503938: I tensorflow/stream_executor/platform/default/dso_loader.cc:49] Successfully opened dynamic library libcudart.so.11.0\n",
      "2021-11-12 18:45:46.052145: I tensorflow/core/common_runtime/gpu/gpu_device.cc:1261] Device interconnect StreamExecutor with strength 1 edge matrix:\n",
      "2021-11-12 18:45:46.052193: I tensorflow/core/common_runtime/gpu/gpu_device.cc:1267]      0 \n",
      "2021-11-12 18:45:46.052208: I tensorflow/core/common_runtime/gpu/gpu_device.cc:1280] 0:   N \n",
      "2021-11-12 18:45:46.054801: I tensorflow/stream_executor/cuda/cuda_gpu_executor.cc:941] successful NUMA node read from SysFS had negative value (-1), but there must be at least one NUMA node, so returning NUMA node zero\n",
      "2021-11-12 18:45:46.055714: I tensorflow/stream_executor/cuda/cuda_gpu_executor.cc:941] successful NUMA node read from SysFS had negative value (-1), but there must be at least one NUMA node, so returning NUMA node zero\n",
      "2021-11-12 18:45:46.056481: I tensorflow/stream_executor/cuda/cuda_gpu_executor.cc:941] successful NUMA node read from SysFS had negative value (-1), but there must be at least one NUMA node, so returning NUMA node zero\n",
      "2021-11-12 18:45:46.057128: I tensorflow/core/common_runtime/gpu/gpu_device.cc:1406] Created TensorFlow device (/job:localhost/replica:0/task:0/device:GPU:0 with 14957 MB memory) -> physical GPU (device: 0, name: Tesla P100-PCIE-16GB, pci bus id: 0000:00:04.0, compute capability: 6.0)\n"
     ]
    },
    {
     "name": "stdout",
     "output_type": "stream",
     "text": [
      "Downloading data from https://storage.googleapis.com/tensorflow/keras-applications/resnet/resnet50_weights_tf_dim_ordering_tf_kernels_notop.h5\n",
      "94773248/94765736 [==============================] - 0s 0us/step\n",
      "Model: \"model\"\n",
      "_________________________________________________________________\n",
      "Layer (type)                 Output Shape              Param #   \n",
      "=================================================================\n",
      "input_1 (InputLayer)         [(None, 256, 256, 3)]     0         \n",
      "_________________________________________________________________\n",
      "resnet50 (Functional)        (None, 8, 8, 2048)        23587712  \n",
      "_________________________________________________________________\n",
      "global_average_pooling2d (Gl (None, 2048)              0         \n",
      "_________________________________________________________________\n",
      "dropout (Dropout)            (None, 2048)              0         \n",
      "_________________________________________________________________\n",
      "batch_normalization (BatchNo (None, 2048)              8192      \n",
      "_________________________________________________________________\n",
      "dense (Dense)                (None, 3)                 6147      \n",
      "=================================================================\n",
      "Total params: 23,602,051\n",
      "Trainable params: 23,544,835\n",
      "Non-trainable params: 57,216\n",
      "_________________________________________________________________\n"
     ]
    },
    {
     "name": "stderr",
     "output_type": "stream",
     "text": [
      "2021-11-12 18:45:49.668669: I tensorflow/compiler/mlir/mlir_graph_optimization_pass.cc:116] None of the MLIR optimization passes are enabled (registered 2)\n",
      "2021-11-12 18:45:49.673021: I tensorflow/core/platform/profile_utils/cpu_utils.cc:112] CPU Frequency: 2000179999 Hz\n"
     ]
    },
    {
     "name": "stdout",
     "output_type": "stream",
     "text": [
      "Epoch 1/100\n"
     ]
    },
    {
     "name": "stderr",
     "output_type": "stream",
     "text": [
      "2021-11-12 18:45:55.552645: I tensorflow/stream_executor/platform/default/dso_loader.cc:49] Successfully opened dynamic library libcublas.so.11\n",
      "2021-11-12 18:45:56.570841: I tensorflow/stream_executor/platform/default/dso_loader.cc:49] Successfully opened dynamic library libcublasLt.so.11\n",
      "2021-11-12 18:45:56.621507: I tensorflow/stream_executor/platform/default/dso_loader.cc:49] Successfully opened dynamic library libcudnn.so.8\n"
     ]
    },
    {
     "name": "stdout",
     "output_type": "stream",
     "text": [
      "427/427 [==============================] - 157s 338ms/step - loss: 2.5014 - accuracy: 0.4426 - precision: 0.4504 - recall: 0.4080 - val_loss: 1.7183 - val_accuracy: 0.4080 - val_precision: 0.4080 - val_recall: 0.4080\n",
      "Epoch 2/100\n",
      "427/427 [==============================] - 111s 259ms/step - loss: 1.1573 - accuracy: 0.5598 - precision: 0.5871 - recall: 0.4935 - val_loss: 31.2851 - val_accuracy: 0.4511 - val_precision: 0.4502 - val_recall: 0.4481\n",
      "Epoch 3/100\n",
      "427/427 [==============================] - 110s 257ms/step - loss: 0.9904 - accuracy: 0.5905 - precision: 0.6321 - recall: 0.5016 - val_loss: 0.9878 - val_accuracy: 0.4623 - val_precision: 1.0000 - val_recall: 0.0631\n",
      "Epoch 4/100\n",
      "427/427 [==============================] - 110s 257ms/step - loss: 0.8914 - accuracy: 0.6167 - precision: 0.6606 - recall: 0.5196 - val_loss: 237.7519 - val_accuracy: 0.3785 - val_precision: 0.3788 - val_recall: 0.3785\n",
      "Epoch 5/100\n",
      "427/427 [==============================] - 110s 258ms/step - loss: 0.8647 - accuracy: 0.6028 - precision: 0.6572 - recall: 0.5067 - val_loss: 3.5681 - val_accuracy: 0.5130 - val_precision: 0.5187 - val_recall: 0.4670\n",
      "Epoch 6/100\n",
      "427/427 [==============================] - 111s 257ms/step - loss: 0.6206 - accuracy: 0.7378 - precision: 0.7708 - recall: 0.6805 - val_loss: 0.5085 - val_accuracy: 0.7936 - val_precision: 0.8142 - val_recall: 0.7724\n",
      "Epoch 7/100\n",
      "427/427 [==============================] - 110s 256ms/step - loss: 0.4401 - accuracy: 0.8066 - precision: 0.8183 - recall: 0.7861 - val_loss: 2.2643 - val_accuracy: 0.6344 - val_precision: 0.6351 - val_recall: 0.6333\n",
      "Epoch 8/100\n",
      "427/427 [==============================] - 110s 258ms/step - loss: 0.3277 - accuracy: 0.8530 - precision: 0.8592 - recall: 0.8466 - val_loss: 0.4492 - val_accuracy: 0.8485 - val_precision: 0.8526 - val_recall: 0.8455\n",
      "Epoch 9/100\n",
      "427/427 [==============================] - 110s 257ms/step - loss: 0.2417 - accuracy: 0.8945 - precision: 0.8966 - recall: 0.8928 - val_loss: 0.8499 - val_accuracy: 0.7883 - val_precision: 0.7910 - val_recall: 0.7854\n",
      "Epoch 10/100\n",
      "427/427 [==============================] - 111s 258ms/step - loss: 0.3017 - accuracy: 0.8748 - precision: 0.8786 - recall: 0.8701 - val_loss: 0.6161 - val_accuracy: 0.8131 - val_precision: 0.8168 - val_recall: 0.8096\n",
      "Epoch 11/100\n",
      "427/427 [==============================] - 110s 257ms/step - loss: 0.1793 - accuracy: 0.9194 - precision: 0.9215 - recall: 0.9179 - val_loss: 0.4776 - val_accuracy: 0.8538 - val_precision: 0.8540 - val_recall: 0.8520\n",
      "Epoch 12/100\n",
      "427/427 [==============================] - 111s 258ms/step - loss: 0.1928 - accuracy: 0.9202 - precision: 0.9215 - recall: 0.9185 - val_loss: 6.5767 - val_accuracy: 0.5489 - val_precision: 0.5490 - val_recall: 0.5483\n",
      "Epoch 13/100\n",
      "427/427 [==============================] - 112s 260ms/step - loss: 0.2608 - accuracy: 0.8965 - precision: 0.9005 - recall: 0.8944 - val_loss: 1.1813 - val_accuracy: 0.7824 - val_precision: 0.7839 - val_recall: 0.7807\n",
      "Epoch 14/100\n",
      "427/427 [==============================] - 111s 258ms/step - loss: 0.2528 - accuracy: 0.9003 - precision: 0.9017 - recall: 0.8985 - val_loss: 11.9597 - val_accuracy: 0.4900 - val_precision: 0.4900 - val_recall: 0.4900\n",
      "Epoch 15/100\n",
      "427/427 [==============================] - 111s 259ms/step - loss: 0.2141 - accuracy: 0.9057 - precision: 0.9074 - recall: 0.9035 - val_loss: 0.3965 - val_accuracy: 0.8673 - val_precision: 0.8681 - val_recall: 0.8656\n",
      "Epoch 16/100\n",
      "427/427 [==============================] - 111s 260ms/step - loss: 0.1493 - accuracy: 0.9366 - precision: 0.9371 - recall: 0.9364 - val_loss: 0.2634 - val_accuracy: 0.9180 - val_precision: 0.9180 - val_recall: 0.9175\n",
      "Epoch 17/100\n",
      "427/427 [==============================] - 110s 257ms/step - loss: 0.1554 - accuracy: 0.9349 - precision: 0.9356 - recall: 0.9342 - val_loss: 0.4838 - val_accuracy: 0.8685 - val_precision: 0.8693 - val_recall: 0.8667\n",
      "Epoch 18/100\n",
      "427/427 [==============================] - 111s 258ms/step - loss: 0.1386 - accuracy: 0.9379 - precision: 0.9389 - recall: 0.9374 - val_loss: 0.9384 - val_accuracy: 0.8042 - val_precision: 0.8057 - val_recall: 0.7972\n",
      "Epoch 19/100\n",
      "427/427 [==============================] - 110s 257ms/step - loss: 0.2148 - accuracy: 0.9259 - precision: 0.9268 - recall: 0.9254 - val_loss: 12639.5645 - val_accuracy: 0.3037 - val_precision: 0.3037 - val_recall: 0.3037\n",
      "Epoch 20/100\n",
      "427/427 [==============================] - 111s 258ms/step - loss: 1.2376 - accuracy: 0.7505 - precision: 0.7549 - recall: 0.7457 - val_loss: 0.3629 - val_accuracy: 0.8833 - val_precision: 0.8874 - val_recall: 0.8785\n",
      "Epoch 21/100\n",
      "427/427 [==============================] - 110s 257ms/step - loss: 0.1911 - accuracy: 0.9189 - precision: 0.9194 - recall: 0.9179 - val_loss: 0.3012 - val_accuracy: 0.8892 - val_precision: 0.8917 - val_recall: 0.8886\n",
      "Epoch 22/100\n",
      "427/427 [==============================] - 110s 257ms/step - loss: 0.1102 - accuracy: 0.9514 - precision: 0.9517 - recall: 0.9513 - val_loss: 0.1555 - val_accuracy: 0.9440 - val_precision: 0.9445 - val_recall: 0.9440\n",
      "Epoch 23/100\n",
      "427/427 [==============================] - 110s 257ms/step - loss: 0.0889 - accuracy: 0.9608 - precision: 0.9611 - recall: 0.9602 - val_loss: 1.8931 - val_accuracy: 0.9080 - val_precision: 0.9080 - val_recall: 0.9080\n",
      "Epoch 24/100\n",
      "427/427 [==============================] - 111s 258ms/step - loss: 0.0826 - accuracy: 0.9633 - precision: 0.9640 - recall: 0.9630 - val_loss: 0.1944 - val_accuracy: 0.9416 - val_precision: 0.9426 - val_recall: 0.9393\n",
      "Epoch 25/100\n",
      "427/427 [==============================] - 111s 259ms/step - loss: 0.0713 - accuracy: 0.9698 - precision: 0.9699 - recall: 0.9691 - val_loss: 0.9663 - val_accuracy: 0.8031 - val_precision: 0.8031 - val_recall: 0.8031\n",
      "Epoch 26/100\n",
      "427/427 [==============================] - 110s 257ms/step - loss: 0.0971 - accuracy: 0.9632 - precision: 0.9636 - recall: 0.9632 - val_loss: 0.1215 - val_accuracy: 0.9564 - val_precision: 0.9564 - val_recall: 0.9564\n",
      "Epoch 27/100\n",
      "427/427 [==============================] - 111s 259ms/step - loss: 0.0561 - accuracy: 0.9784 - precision: 0.9786 - recall: 0.9784 - val_loss: 18.5040 - val_accuracy: 0.5896 - val_precision: 0.5903 - val_recall: 0.5896\n",
      "Epoch 28/100\n",
      "427/427 [==============================] - 110s 257ms/step - loss: 0.3402 - accuracy: 0.8926 - precision: 0.8942 - recall: 0.8901 - val_loss: 0.1911 - val_accuracy: 0.9404 - val_precision: 0.9404 - val_recall: 0.9404\n",
      "Epoch 29/100\n",
      "427/427 [==============================] - 112s 262ms/step - loss: 0.1087 - accuracy: 0.9587 - precision: 0.9589 - recall: 0.9587 - val_loss: 0.1078 - val_accuracy: 0.9676 - val_precision: 0.9676 - val_recall: 0.9676\n",
      "Epoch 30/100\n",
      "427/427 [==============================] - 112s 261ms/step - loss: 0.0952 - accuracy: 0.9663 - precision: 0.9664 - recall: 0.9663 - val_loss: 0.1516 - val_accuracy: 0.9528 - val_precision: 0.9528 - val_recall: 0.9528\n",
      "Epoch 31/100\n",
      "427/427 [==============================] - 111s 258ms/step - loss: 0.0476 - accuracy: 0.9790 - precision: 0.9791 - recall: 0.9789 - val_loss: 0.0861 - val_accuracy: 0.9729 - val_precision: 0.9729 - val_recall: 0.9729\n",
      "Epoch 32/100\n",
      "427/427 [==============================] - 110s 257ms/step - loss: 0.0356 - accuracy: 0.9856 - precision: 0.9857 - recall: 0.9856 - val_loss: 0.0852 - val_accuracy: 0.9782 - val_precision: 0.9782 - val_recall: 0.9782\n",
      "Epoch 33/100\n",
      "427/427 [==============================] - 110s 258ms/step - loss: 0.1381 - accuracy: 0.9573 - precision: 0.9574 - recall: 0.9572 - val_loss: 0.2319 - val_accuracy: 0.9463 - val_precision: 0.9463 - val_recall: 0.9463\n",
      "Epoch 34/100\n",
      "427/427 [==============================] - 112s 260ms/step - loss: 0.2302 - accuracy: 0.9459 - precision: 0.9463 - recall: 0.9459 - val_loss: 0.1126 - val_accuracy: 0.9664 - val_precision: 0.9664 - val_recall: 0.9664\n",
      "Epoch 35/100\n",
      "427/427 [==============================] - 110s 256ms/step - loss: 0.0551 - accuracy: 0.9794 - precision: 0.9796 - recall: 0.9794 - val_loss: 0.1306 - val_accuracy: 0.9776 - val_precision: 0.9776 - val_recall: 0.9776\n",
      "Epoch 36/100\n",
      "427/427 [==============================] - 112s 262ms/step - loss: 0.0540 - accuracy: 0.9813 - precision: 0.9813 - recall: 0.9812 - val_loss: 0.1350 - val_accuracy: 0.9682 - val_precision: 0.9682 - val_recall: 0.9682\n",
      "Epoch 37/100\n",
      "427/427 [==============================] - 110s 257ms/step - loss: 0.0661 - accuracy: 0.9792 - precision: 0.9792 - recall: 0.9792 - val_loss: 0.4700 - val_accuracy: 0.9204 - val_precision: 0.9204 - val_recall: 0.9204\n",
      "Epoch 38/100\n",
      "427/427 [==============================] - 113s 263ms/step - loss: 0.2285 - accuracy: 0.9479 - precision: 0.9479 - recall: 0.9477 - val_loss: 0.1265 - val_accuracy: 0.9664 - val_precision: 0.9664 - val_recall: 0.9664\n",
      "Epoch 39/100\n",
      "427/427 [==============================] - 110s 256ms/step - loss: 0.0428 - accuracy: 0.9855 - precision: 0.9855 - recall: 0.9855 - val_loss: 0.0916 - val_accuracy: 0.9817 - val_precision: 0.9817 - val_recall: 0.9817\n",
      "Epoch 40/100\n",
      "427/427 [==============================] - 111s 259ms/step - loss: 0.0644 - accuracy: 0.9822 - precision: 0.9822 - recall: 0.9822 - val_loss: 0.3624 - val_accuracy: 0.9493 - val_precision: 0.9493 - val_recall: 0.9493\n",
      "Epoch 41/100\n",
      "427/427 [==============================] - 110s 257ms/step - loss: 0.0468 - accuracy: 0.9835 - precision: 0.9835 - recall: 0.9835 - val_loss: 0.1530 - val_accuracy: 0.9664 - val_precision: 0.9664 - val_recall: 0.9664\n",
      "Epoch 42/100\n",
      "427/427 [==============================] - 111s 259ms/step - loss: 0.1054 - accuracy: 0.9767 - precision: 0.9767 - recall: 0.9767 - val_loss: 1.9817 - val_accuracy: 0.7812 - val_precision: 0.7812 - val_recall: 0.7812\n"
     ]
    }
   ],
   "source": [
    "model = build_model()\n",
    "wandb.log({'model_summary': model.summary()})\n",
    "METRICS = [\n",
    "    tf.keras.metrics.CategoricalAccuracy(name=\"accuracy\"),\n",
    "    tf.keras.metrics.Precision(name=\"precision\"),\n",
    "    tf.keras.metrics.Recall(name=\"recall\"),\n",
    "]\n",
    "\n",
    "model.compile(\n",
    "    optimizer=tf.keras.optimizers.Adam(learning_rate=lr_schedule),\n",
    "    loss=tf.keras.losses.CategoricalCrossentropy(),\n",
    "    metrics=METRICS\n",
    ")\n",
    "\n",
    "history = model.fit(\n",
    "    train_data,\n",
    "    epochs=epochs,\n",
    "    class_weight=class_weights,\n",
    "    verbose=1,\n",
    "    validation_data=valid_data,\n",
    "    workers=2,\n",
    "    callbacks=[checkpoint_cb, early_stopping_cb, WandbCallback()],\n",
    ")\n"
   ]
  },
  {
   "cell_type": "code",
   "execution_count": 13,
   "id": "87644c71",
   "metadata": {
    "_cell_guid": "9df63cd5-892d-4852-ab4b-a3e856cfd010",
    "_uuid": "03deb327-3831-4a39-b83f-22a88c72741d",
    "collapsed": false,
    "execution": {
     "iopub.execute_input": "2021-11-12T20:04:43.387638Z",
     "iopub.status.busy": "2021-11-12T20:04:43.386797Z",
     "iopub.status.idle": "2021-11-12T20:04:44.944653Z",
     "shell.execute_reply": "2021-11-12T20:04:44.945188Z",
     "shell.execute_reply.started": "2021-10-19T14:08:20.072757Z"
    },
    "jupyter": {
     "outputs_hidden": false
    },
    "papermill": {
     "duration": 6.29349,
     "end_time": "2021-11-12T20:04:44.945351",
     "exception": false,
     "start_time": "2021-11-12T20:04:38.651861",
     "status": "completed"
    },
    "tags": []
   },
   "outputs": [
    {
     "data": {
      "image/png": "[encoded data removed]",
      "text/plain": [
       "<Figure size 1080x1080 with 4 Axes>"
      ]
     },
     "metadata": {},
     "output_type": "display_data"
    }
   ],
   "source": [
    "pyplot.style.use('fivethirtyeight')\n",
    "fig, ax = pyplot.subplots(2, 2, figsize=(15, 15))\n",
    "ax = ax.ravel()\n",
    "\n",
    "for i, met in enumerate([\"precision\", \"recall\", \"accuracy\", \"loss\"]):\n",
    "    ax[i].plot(history.history[met])\n",
    "    ax[i].plot(history.history[\"val_\" + met])\n",
    "    ax[i].set_title(\"Model {}\".format(met))\n",
    "    ax[i].set_xlabel(\"epochs\")\n",
    "    ax[i].set_ylabel(met)\n",
    "    ax[i].legend([\"train\", \"val\"])\n",
    "try:\n",
    "    wandb.log({'training log img': wandb.Image(fig)})\n",
    "except:\n",
    "    pass\n"
   ]
  },
  {
   "cell_type": "code",
   "execution_count": 14,
   "id": "1d96b893",
   "metadata": {
    "_cell_guid": "1a049c94-1113-4f04-9947-4bbee3d6e5a8",
    "_uuid": "e1c5f7b9-ca00-4208-b7cf-3b98fbc0afe4",
    "collapsed": false,
    "execution": {
     "iopub.execute_input": "2021-11-12T20:04:54.627409Z",
     "iopub.status.busy": "2021-11-12T20:04:54.626568Z",
     "iopub.status.idle": "2021-11-12T20:07:09.302730Z",
     "shell.execute_reply": "2021-11-12T20:07:09.293815Z",
     "shell.execute_reply.started": "2021-10-19T14:06:23.938086Z"
    },
    "jupyter": {
     "outputs_hidden": false
    },
    "papermill": {
     "duration": 139.329991,
     "end_time": "2021-11-12T20:07:09.302849",
     "exception": false,
     "start_time": "2021-11-12T20:04:49.972858",
     "status": "completed"
    },
    "tags": []
   },
   "outputs": [
    {
     "name": "stdout",
     "output_type": "stream",
     "text": [
      "427/427 [==============================] - 94s 219ms/step - loss: 0.0260 - accuracy: 0.9906 - precision: 0.9906 - recall: 0.9906\n"
     ]
    },
    {
     "data": {
      "text/plain": [
       "'train evaluation'"
      ]
     },
     "metadata": {},
     "output_type": "display_data"
    },
    {
     "data": {
      "text/plain": [
       "{'loss': 0.025975653901696205,\n",
       " 'accuracy': 0.9906322956085205,\n",
       " 'precision': 0.9906322956085205,\n",
       " 'recall': 0.9906322956085205}"
      ]
     },
     "metadata": {},
     "output_type": "display_data"
    },
    {
     "name": "stdout",
     "output_type": "stream",
     "text": [
      "53/53 [==============================] - 11s 208ms/step - loss: 0.0853 - accuracy: 0.9782 - precision: 0.9782 - recall: 0.9782\n"
     ]
    },
    {
     "data": {
      "text/plain": [
       "'valid evaluation'"
      ]
     },
     "metadata": {},
     "output_type": "display_data"
    },
    {
     "data": {
      "text/plain": [
       "{'loss': 0.08528900146484375,\n",
       " 'accuracy': 0.9781839847564697,\n",
       " 'precision': 0.9781839847564697,\n",
       " 'recall': 0.9781839847564697}"
      ]
     },
     "metadata": {},
     "output_type": "display_data"
    },
    {
     "name": "stdout",
     "output_type": "stream",
     "text": [
      "53/53 [==============================] - 27s 522ms/step - loss: 0.0787 - accuracy: 0.9764 - precision: 0.9770 - recall: 0.9764\n"
     ]
    },
    {
     "data": {
      "text/plain": [
       "'test evaluation'"
      ]
     },
     "metadata": {},
     "output_type": "display_data"
    },
    {
     "data": {
      "text/plain": [
       "{'loss': 0.07874119281768799,\n",
       " 'accuracy': 0.9764150977134705,\n",
       " 'precision': 0.9769911766052246,\n",
       " 'recall': 0.9764150977134705}"
      ]
     },
     "metadata": {},
     "output_type": "display_data"
    }
   ],
   "source": [
    "train_eval = model.evaluate(train_data, return_dict=True)\n",
    "wandb.log({'train evaluation': train_eval})\n",
    "display('train evaluation', train_eval)\n",
    "\n",
    "valid_eval = model.evaluate(valid_data, return_dict=True)\n",
    "wandb.log({'valid evaluation': valid_eval})\n",
    "display('valid evaluation', valid_eval)\n",
    "\n",
    "test_eval = model.evaluate(test_data, return_dict=True)\n",
    "wandb.log({'test evaluation': test_eval})\n",
    "display('test evaluation', test_eval)\n"
   ]
  },
  {
   "cell_type": "code",
   "execution_count": 15,
   "id": "c8f17b82",
   "metadata": {
    "_cell_guid": "ddcb8d36-31a1-4f70-b5f2-976f59676d2b",
    "_uuid": "101fa514-5285-4e62-a6ec-2e38b8fa6397",
    "collapsed": false,
    "execution": {
     "iopub.execute_input": "2021-11-12T20:07:19.890375Z",
     "iopub.status.busy": "2021-11-12T20:07:19.889551Z",
     "iopub.status.idle": "2021-11-12T20:07:20.545448Z",
     "shell.execute_reply": "2021-11-12T20:07:20.544891Z",
     "shell.execute_reply.started": "2021-10-19T14:06:23.940203Z"
    },
    "jupyter": {
     "outputs_hidden": false
    },
    "papermill": {
     "duration": 6.043396,
     "end_time": "2021-11-12T20:07:20.545577",
     "exception": false,
     "start_time": "2021-11-12T20:07:14.502181",
     "status": "completed"
    },
    "tags": []
   },
   "outputs": [
    {
     "data": {
      "text/plain": [
       "'3CAP'"
      ]
     },
     "execution_count": 15,
     "metadata": {},
     "output_type": "execute_result"
    }
   ],
   "source": [
    "\n",
    "\n",
    "def get_class(value):\n",
    "    for key in class_map.keys():\n",
    "        if class_map[key] == value:\n",
    "            return key\n",
    "\n",
    "\n",
    "get_class(2)\n"
   ]
  },
  {
   "cell_type": "markdown",
   "id": "d2038335",
   "metadata": {
    "_cell_guid": "f4012f40-ef81-466f-84d5-991c803d394d",
    "_uuid": "9d847842-ace6-4b61-98ff-0d7d18e29767",
    "papermill": {
     "duration": 4.827592,
     "end_time": "2021-11-12T20:07:30.564102",
     "exception": false,
     "start_time": "2021-11-12T20:07:25.736510",
     "status": "completed"
    },
    "tags": []
   },
   "source": [
    "### Confusion matrix - validation\n"
   ]
  },
  {
   "cell_type": "code",
   "execution_count": 16,
   "id": "80cad288",
   "metadata": {
    "_cell_guid": "80a8ad58-2498-45d4-b77d-d7ed1448e7d7",
    "_uuid": "71c5cc6a-1a1e-43fd-96df-a01abf5cc684",
    "collapsed": false,
    "execution": {
     "iopub.execute_input": "2021-11-12T20:07:40.548559Z",
     "iopub.status.busy": "2021-11-12T20:07:40.547702Z",
     "iopub.status.idle": "2021-11-12T20:08:03.791168Z",
     "shell.execute_reply": "2021-11-12T20:08:03.790716Z",
     "shell.execute_reply.started": "2021-10-19T14:06:23.942265Z"
    },
    "jupyter": {
     "outputs_hidden": false
    },
    "papermill": {
     "duration": 28.090837,
     "end_time": "2021-11-12T20:08:03.791336",
     "exception": false,
     "start_time": "2021-11-12T20:07:35.700499",
     "status": "completed"
    },
    "tags": []
   },
   "outputs": [
    {
     "name": "stdout",
     "output_type": "stream",
     "text": [
      "53/53 [==============================] - 12s 212ms/step\n",
      "              precision    recall  f1-score   support\n",
      "\n",
      "           0       0.97      0.98      0.97       696\n",
      "           1       0.98      0.97      0.98       756\n",
      "           2       1.00      1.00      1.00       244\n",
      "\n",
      "    accuracy                           0.98      1696\n",
      "   macro avg       0.98      0.98      0.98      1696\n",
      "weighted avg       0.98      0.98      0.98      1696\n",
      "\n"
     ]
    },
    {
     "data": {
      "text/plain": [
       "<AxesSubplot:>"
      ]
     },
     "metadata": {},
     "output_type": "display_data"
    },
    {
     "data": {
      "image/png": "[encoded data removed]",
      "text/plain": [
       "<Figure size 432x288 with 2 Axes>"
      ]
     },
     "metadata": {},
     "output_type": "display_data"
    }
   ],
   "source": [
    "\n",
    "labels = []\n",
    "for image, label in valid_data:\n",
    "    labels.append(label)\n",
    "\n",
    "labels = numpy.array(labels).reshape(-1, 3)\n",
    "predictions = model.predict(valid_data, verbose=1)\n",
    "labels = numpy.argmax(labels, axis=-1)\n",
    "y_pred = numpy.argmax(predictions, axis=-1)\n",
    "\n",
    "# get the classification report\n",
    "cr = classification_report(labels, y_pred)\n",
    "print(cr)\n",
    "cm = confusion_matrix(labels, y_pred)\n",
    "x = seaborn.heatmap(cm, cmap='winter', annot=True, fmt='d')\n",
    "try:\n",
    "    wandb.log({'confusion matrix valid img': wandb.Image(x)})\n",
    "except:\n",
    "    pass\n",
    "display(x)\n"
   ]
  },
  {
   "cell_type": "code",
   "execution_count": 17,
   "id": "86531347",
   "metadata": {
    "_cell_guid": "47c3a8c5-93fb-439a-b181-9dbf6e28aade",
    "_uuid": "52a52cd3-fc11-499d-9d27-662c14ea344e",
    "collapsed": false,
    "execution": {
     "iopub.execute_input": "2021-11-12T20:08:13.855107Z",
     "iopub.status.busy": "2021-11-12T20:08:13.854093Z",
     "iopub.status.idle": "2021-11-12T20:08:35.330828Z",
     "shell.execute_reply": "2021-11-12T20:08:35.331295Z",
     "shell.execute_reply.started": "2021-10-19T14:06:23.944179Z"
    },
    "jupyter": {
     "outputs_hidden": false
    },
    "papermill": {
     "duration": 26.346781,
     "end_time": "2021-11-12T20:08:35.331453",
     "exception": false,
     "start_time": "2021-11-12T20:08:08.984672",
     "status": "completed"
    },
    "tags": []
   },
   "outputs": [
    {
     "name": "stdout",
     "output_type": "stream",
     "text": [
      "53/53 [==============================] - 11s 210ms/step\n",
      "              precision    recall  f1-score   support\n",
      "\n",
      "           0       0.96      0.98      0.97       681\n",
      "           1       0.98      0.97      0.97       750\n",
      "           2       1.00      1.00      1.00       265\n",
      "\n",
      "    accuracy                           0.98      1696\n",
      "   macro avg       0.98      0.98      0.98      1696\n",
      "weighted avg       0.98      0.98      0.98      1696\n",
      "\n"
     ]
    }
   ],
   "source": [
    "\n",
    "labels = []\n",
    "for image, label in test_data:\n",
    "    labels.append(label)\n",
    "\n",
    "labels = numpy.array(labels).reshape(-1, 3)\n",
    "predictions = model.predict(test_data, verbose=1)\n",
    "labels = numpy.argmax(labels, axis=-1)\n",
    "y_pred = numpy.argmax(predictions, axis=-1)\n",
    "\n",
    "# get the classification report\n",
    "cr = classification_report(labels, y_pred)\n",
    "print(cr)\n"
   ]
  },
  {
   "cell_type": "code",
   "execution_count": 18,
   "id": "6c4a9dea",
   "metadata": {
    "_cell_guid": "5b6b9a62-6b6a-4fbf-8e76-34bf9eafa7b3",
    "_uuid": "38d777ef-85cd-4d70-8a78-4063779cdb75",
    "collapsed": false,
    "execution": {
     "iopub.execute_input": "2021-11-12T20:08:45.462737Z",
     "iopub.status.busy": "2021-11-12T20:08:45.461975Z",
     "iopub.status.idle": "2021-11-12T20:08:46.414177Z",
     "shell.execute_reply": "2021-11-12T20:08:46.414641Z",
     "shell.execute_reply.started": "2021-10-19T14:06:23.946204Z"
    },
    "jupyter": {
     "outputs_hidden": false
    },
    "papermill": {
     "duration": 5.865673,
     "end_time": "2021-11-12T20:08:46.414811",
     "exception": false,
     "start_time": "2021-11-12T20:08:40.549138",
     "status": "completed"
    },
    "tags": []
   },
   "outputs": [
    {
     "data": {
      "text/plain": [
       "<AxesSubplot:>"
      ]
     },
     "metadata": {},
     "output_type": "display_data"
    },
    {
     "data": {
      "image/png": "[encoded data removed]",
      "text/plain": [
       "<Figure size 432x288 with 2 Axes>"
      ]
     },
     "metadata": {},
     "output_type": "display_data"
    }
   ],
   "source": [
    "cm = confusion_matrix(labels, y_pred)\n",
    "x = seaborn.heatmap(cm, cmap='winter', annot=True, fmt='d')\n",
    "try:\n",
    "    wandb.log({'confusion matrix test img': wandb.Image(x)})\n",
    "except:\n",
    "    pass\n",
    "display(x)\n"
   ]
  }
 ],
 "metadata": {
  "kernelspec": {
   "display_name": "Python 3",
   "language": "python",
   "name": "python3"
  },
  "language_info": {
   "codemirror_mode": {
    "name": "ipython",
    "version": 3
   },
   "file_extension": ".py",
   "mimetype": "text/x-python",
   "name": "python",
   "nbconvert_exporter": "python",
   "pygments_lexer": "ipython3",
   "version": "3.7.10"
  },
  "papermill": {
   "default_parameters": {},
   "duration": 5020.570478,
   "end_time": "2021-11-12T20:08:55.398244",
   "environment_variables": {},
   "exception": null,
   "input_path": "__notebook__.ipynb",
   "output_path": "__notebook__.ipynb",
   "parameters": {},
   "start_time": "2021-11-12T18:45:14.827766",
   "version": "2.3.3"
  },
  "widgets": {
   "application/vnd.jupyter.widget-state+json": {
    "state": {
     "0ca59f69cd714fc6b6f82cc06622987c": {
      "model_module": "@jupyter-widgets/controls",
      "model_module_version": "1.5.0",
      "model_name": "FloatProgressModel",
      "state": {
       "_dom_classes": [],
       "_model_module": "@jupyter-widgets/controls",
       "_model_module_version": "1.5.0",
       "_model_name": "FloatProgressModel",
       "_view_count": null,
       "_view_module": "@jupyter-widgets/controls",
       "_view_module_version": "1.5.0",
       "_view_name": "ProgressView",
       "bar_style": "",
       "description": "",
       "description_tooltip": null,
       "layout": "IPY_MODEL_26f1b7087d5741f8bd27bf9012cad8dc",
       "max": 1,
       "min": 0,
       "orientation": "horizontal",
       "style": "IPY_MODEL_34a659ed219c48f6a3a9c973efe95a57",
       "value": 0
      }
     },
     "1afc9206cb464a24bd03afe37aec583c": {
      "model_module": "@jupyter-widgets/controls",
      "model_module_version": "1.5.0",
      "model_name": "DescriptionStyleModel",
      "state": {
       "_model_module": "@jupyter-widgets/controls",
       "_model_module_version": "1.5.0",
       "_model_name": "DescriptionStyleModel",
       "_view_count": null,
       "_view_module": "@jupyter-widgets/base",
       "_view_module_version": "1.2.0",
       "_view_name": "StyleView",
       "description_width": ""
      }
     },
     "26f1b7087d5741f8bd27bf9012cad8dc": {
      "model_module": "@jupyter-widgets/base",
      "model_module_version": "1.2.0",
      "model_name": "LayoutModel",
      "state": {
       "_model_module": "@jupyter-widgets/base",
       "_model_module_version": "1.2.0",
       "_model_name": "LayoutModel",
       "_view_count": null,
       "_view_module": "@jupyter-widgets/base",
       "_view_module_version": "1.2.0",
       "_view_name": "LayoutView",
       "align_content": null,
       "align_items": null,
       "align_self": null,
       "border": null,
       "bottom": null,
       "display": null,
       "flex": null,
       "flex_flow": null,
       "grid_area": null,
       "grid_auto_columns": null,
       "grid_auto_flow": null,
       "grid_auto_rows": null,
       "grid_column": null,
       "grid_gap": null,
       "grid_row": null,
       "grid_template_areas": null,
       "grid_template_columns": null,
       "grid_template_rows": null,
       "height": null,
       "justify_content": null,
       "justify_items": null,
       "left": null,
       "margin": null,
       "max_height": null,
       "max_width": null,
       "min_height": null,
       "min_width": null,
       "object_fit": null,
       "object_position": null,
       "order": null,
       "overflow": null,
       "overflow_x": null,
       "overflow_y": null,
       "padding": null,
       "right": null,
       "top": null,
       "visibility": null,
       "width": null
      }
     },
     "34a659ed219c48f6a3a9c973efe95a57": {
      "model_module": "@jupyter-widgets/controls",
      "model_module_version": "1.5.0",
      "model_name": "ProgressStyleModel",
      "state": {
       "_model_module": "@jupyter-widgets/controls",
       "_model_module_version": "1.5.0",
       "_model_name": "ProgressStyleModel",
       "_view_count": null,
       "_view_module": "@jupyter-widgets/base",
       "_view_module_version": "1.2.0",
       "_view_name": "StyleView",
       "bar_color": null,
       "description_width": ""
      }
     },
     "37a07caa92c34ba280a1211370c5fcd8": {
      "model_module": "@jupyter-widgets/controls",
      "model_module_version": "1.5.0",
      "model_name": "VBoxModel",
      "state": {
       "_dom_classes": [],
       "_model_module": "@jupyter-widgets/controls",
       "_model_module_version": "1.5.0",
       "_model_name": "VBoxModel",
       "_view_count": null,
       "_view_module": "@jupyter-widgets/controls",
       "_view_module_version": "1.5.0",
       "_view_name": "VBoxView",
       "box_style": "",
       "children": [
        "IPY_MODEL_a32cbbdd339349109537b98b95bde2de",
        "IPY_MODEL_0ca59f69cd714fc6b6f82cc06622987c"
       ],
       "layout": "IPY_MODEL_eae5d667ec494d90b7d4a0f3507cca8d"
      }
     },
     "a32cbbdd339349109537b98b95bde2de": {
      "model_module": "@jupyter-widgets/controls",
      "model_module_version": "1.5.0",
      "model_name": "LabelModel",
      "state": {
       "_dom_classes": [],
       "_model_module": "@jupyter-widgets/controls",
       "_model_module_version": "1.5.0",
       "_model_name": "LabelModel",
       "_view_count": null,
       "_view_module": "@jupyter-widgets/controls",
       "_view_module_version": "1.5.0",
       "_view_name": "LabelView",
       "description": "",
       "description_tooltip": null,
       "layout": "IPY_MODEL_a5d78b697ddb4923bee363f503b42be1",
       "placeholder": "​",
       "style": "IPY_MODEL_1afc9206cb464a24bd03afe37aec583c",
       "value": ""
      }
     },
     "a5d78b697ddb4923bee363f503b42be1": {
      "model_module": "@jupyter-widgets/base",
      "model_module_version": "1.2.0",
      "model_name": "LayoutModel",
      "state": {
       "_model_module": "@jupyter-widgets/base",
       "_model_module_version": "1.2.0",
       "_model_name": "LayoutModel",
       "_view_count": null,
       "_view_module": "@jupyter-widgets/base",
       "_view_module_version": "1.2.0",
       "_view_name": "LayoutView",
       "align_content": null,
       "align_items": null,
       "align_self": null,
       "border": null,
       "bottom": null,
       "display": null,
       "flex": null,
       "flex_flow": null,
       "grid_area": null,
       "grid_auto_columns": null,
       "grid_auto_flow": null,
       "grid_auto_rows": null,
       "grid_column": null,
       "grid_gap": null,
       "grid_row": null,
       "grid_template_areas": null,
       "grid_template_columns": null,
       "grid_template_rows": null,
       "height": null,
       "justify_content": null,
       "justify_items": null,
       "left": null,
       "margin": null,
       "max_height": null,
       "max_width": null,
       "min_height": null,
       "min_width": null,
       "object_fit": null,
       "object_position": null,
       "order": null,
       "overflow": null,
       "overflow_x": null,
       "overflow_y": null,
       "padding": null,
       "right": null,
       "top": null,
       "visibility": null,
       "width": null
      }
     },
     "eae5d667ec494d90b7d4a0f3507cca8d": {
      "model_module": "@jupyter-widgets/base",
      "model_module_version": "1.2.0",
      "model_name": "LayoutModel",
      "state": {
       "_model_module": "@jupyter-widgets/base",
       "_model_module_version": "1.2.0",
       "_model_name": "LayoutModel",
       "_view_count": null,
       "_view_module": "@jupyter-widgets/base",
       "_view_module_version": "1.2.0",
       "_view_name": "LayoutView",
       "align_content": null,
       "align_items": null,
       "align_self": null,
       "border": null,
       "bottom": null,
       "display": null,
       "flex": null,
       "flex_flow": null,
       "grid_area": null,
       "grid_auto_columns": null,
       "grid_auto_flow": null,
       "grid_auto_rows": null,
       "grid_column": null,
       "grid_gap": null,
       "grid_row": null,
       "grid_template_areas": null,
       "grid_template_columns": null,
       "grid_template_rows": null,
       "height": null,
       "justify_content": null,
       "justify_items": null,
       "left": null,
       "margin": null,
       "max_height": null,
       "max_width": null,
       "min_height": null,
       "min_width": null,
       "object_fit": null,
       "object_position": null,
       "order": null,
       "overflow": null,
       "overflow_x": null,
       "overflow_y": null,
       "padding": null,
       "right": null,
       "top": null,
       "visibility": null,
       "width": null
      }
     }
    },
    "version_major": 2,
    "version_minor": 0
   }
  }
 },
 "nbformat": 4,
 "nbformat_minor": 5
}
