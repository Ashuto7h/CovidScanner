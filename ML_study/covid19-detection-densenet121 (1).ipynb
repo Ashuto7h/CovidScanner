{
 "cells": [
  {
   "cell_type": "code",
   "execution_count": 1,
   "id": "ada19274",
   "metadata": {
    "_cell_guid": "c84e3114-c6d5-41c8-8717-90eaf744f3ea",
    "_uuid": "7245dc27-5719-4db1-b993-8b47df2d6ef4",
    "collapsed": false,
    "execution": {
     "iopub.execute_input": "2021-11-13T04:53:55.537656Z",
     "iopub.status.busy": "2021-11-13T04:53:55.536872Z",
     "iopub.status.idle": "2021-11-13T04:54:12.119127Z",
     "shell.execute_reply": "2021-11-13T04:54:12.119815Z",
     "shell.execute_reply.started": "2021-10-20T09:42:32.038319Z"
    },
    "jupyter": {
     "outputs_hidden": false
    },
    "papermill": {
     "duration": 16.612887,
     "end_time": "2021-11-13T04:54:12.120106",
     "exception": false,
     "start_time": "2021-11-13T04:53:55.507219",
     "status": "completed"
    },
    "tags": []
   },
   "outputs": [
    {
     "name": "stderr",
     "output_type": "stream",
     "text": [
      "\u001b[34m\u001b[1mwandb\u001b[0m: W&B API key is configured (use `wandb login --relogin` to force relogin)\n",
      "\u001b[34m\u001b[1mwandb\u001b[0m: \u001b[33mWARNING\u001b[0m If you're specifying your api key in code, ensure this code is not shared publically.\n",
      "\u001b[34m\u001b[1mwandb\u001b[0m: \u001b[33mWARNING\u001b[0m Consider setting the WANDB_API_KEY environment variable, or running `wandb login` from the command line.\n",
      "\u001b[34m\u001b[1mwandb\u001b[0m: Appending key for api.wandb.ai to your netrc file: /root/.netrc\n",
      "\u001b[34m\u001b[1mwandb\u001b[0m: Currently logged in as: \u001b[33mashuto7h\u001b[0m (use `wandb login --relogin` to force relogin)\n",
      "\u001b[34m\u001b[1mwandb\u001b[0m: wandb version 0.12.6 is available!  To upgrade, please run:\n",
      "\u001b[34m\u001b[1mwandb\u001b[0m:  $ pip install wandb --upgrade\n"
     ]
    },
    {
     "data": {
      "text/html": [
       "\n",
       "                    Syncing run <strong><a href=\"https://wandb.ai/ashuto7h/covid19/runs/n0x8fee0\" target=\"_blank\">whole-puddle-105</a></strong> to <a href=\"https://wandb.ai/ashuto7h/covid19\" target=\"_blank\">Weights & Biases</a> (<a href=\"https://docs.wandb.com/integrations/jupyter.html\" target=\"_blank\">docs</a>).<br/>\n",
       "\n",
       "                "
      ],
      "text/plain": [
       "<IPython.core.display.HTML object>"
      ]
     },
     "metadata": {},
     "output_type": "display_data"
    },
    {
     "name": "stderr",
     "output_type": "stream",
     "text": [
      "\n",
      "CondaEnvException: Unable to determine environment\n",
      "\n",
      "Please re-run this command with one of the following options:\n",
      "\n",
      "* Provide an environment name via --name or -n\n",
      "* Re-run this command inside an activated conda environment.\n",
      "\n"
     ]
    }
   ],
   "source": [
    "import os\n",
    "from sklearn.metrics import confusion_matrix\n",
    "from sklearn.metrics import classification_report\n",
    "import seaborn\n",
    "import matplotlib.pyplot as pyplot\n",
    "from tensorflow.keras import layers\n",
    "from tensorflow import keras\n",
    "import tensorflow as tf\n",
    "from sklearn.utils.class_weight import compute_class_weight\n",
    "import pandas\n",
    "import numpy\n",
    "import wandb\n",
    "from wandb.keras import WandbCallback\n",
    "\n",
    "wandb.login(key='ea1404a9d16ac9056181f111599286f24c65e0e9')\n",
    "wandb.init(project='covid19', entity='ashuto7h')\n",
    "config = wandb.config"
   ]
  },
  {
   "cell_type": "code",
   "execution_count": 2,
   "id": "c20858c1",
   "metadata": {
    "_cell_guid": "1e459001-35ae-454e-a72c-2287829b0a05",
    "_uuid": "aa712a9e-fb0a-4dc1-af76-627d8079a9a1",
    "collapsed": false,
    "execution": {
     "iopub.execute_input": "2021-11-13T04:54:12.169218Z",
     "iopub.status.busy": "2021-11-13T04:54:12.168423Z",
     "iopub.status.idle": "2021-11-13T04:54:13.316570Z",
     "shell.execute_reply": "2021-11-13T04:54:13.316033Z",
     "shell.execute_reply.started": "2021-10-19T13:59:37.289802Z"
    },
    "jupyter": {
     "outputs_hidden": false
    },
    "papermill": {
     "duration": 1.177954,
     "end_time": "2021-11-13T04:54:13.316715",
     "exception": false,
     "start_time": "2021-11-13T04:54:12.138761",
     "status": "completed"
    },
    "tags": []
   },
   "outputs": [],
   "source": [
    "# ! pip install tensorflow --upgrade"
   ]
  },
  {
   "cell_type": "code",
   "execution_count": 3,
   "id": "0fe34546",
   "metadata": {
    "_cell_guid": "f3415c8d-618f-4f86-a7b2-90d4a9c624ff",
    "_uuid": "322d4b3d-09c4-4218-b6be-a5ae57cb343e",
    "collapsed": false,
    "execution": {
     "iopub.execute_input": "2021-11-13T04:54:13.359825Z",
     "iopub.status.busy": "2021-11-13T04:54:13.359287Z",
     "iopub.status.idle": "2021-11-13T04:54:15.650645Z",
     "shell.execute_reply": "2021-11-13T04:54:15.649787Z",
     "shell.execute_reply.started": "2021-10-20T09:42:48.12613Z"
    },
    "jupyter": {
     "outputs_hidden": false
    },
    "papermill": {
     "duration": 2.316122,
     "end_time": "2021-11-13T04:54:15.650797",
     "exception": false,
     "start_time": "2021-11-13T04:54:13.334675",
     "status": "completed"
    },
    "tags": []
   },
   "outputs": [
    {
     "name": "stdout",
     "output_type": "stream",
     "text": [
      "2COVID       7593\n",
      "1NonCOVID    6893\n",
      "3CAP         2618\n",
      "Name: labels, dtype: int64\n"
     ]
    }
   ],
   "source": [
    "sdir = r'../input/large-covid19-ct-slice-dataset/curated_data/curated_data'\n",
    "filepaths = []\n",
    "labels = []\n",
    "classlist = os.listdir(sdir)\n",
    "for item in classlist:\n",
    "    classpath = os.path.join(sdir, item)\n",
    "    flist = os.listdir(classpath)\n",
    "    for f in flist:\n",
    "        fpath = os.path.join(classpath, f)\n",
    "        filepaths.append(fpath)\n",
    "        labels.append(item)\n",
    "\n",
    "df = pandas.DataFrame()\n",
    "df['filepath'] = filepaths\n",
    "df['labels'] = labels\n",
    "print(df['labels'].value_counts())\n",
    "df = df.sample(frac=1).reset_index(drop=True)"
   ]
  },
  {
   "cell_type": "code",
   "execution_count": 4,
   "id": "3afefffb",
   "metadata": {
    "_cell_guid": "054c8f1c-60ef-4b04-9d9b-26eeb7aea7b3",
    "_uuid": "c094d62c-e8bf-4a3d-9ff1-d1d1f706ce34",
    "collapsed": false,
    "execution": {
     "iopub.execute_input": "2021-11-13T04:54:15.693497Z",
     "iopub.status.busy": "2021-11-13T04:54:15.692777Z",
     "iopub.status.idle": "2021-11-13T04:54:16.852092Z",
     "shell.execute_reply": "2021-11-13T04:54:16.852601Z",
     "shell.execute_reply.started": "2021-10-20T09:42:49.476764Z"
    },
    "jupyter": {
     "outputs_hidden": false
    },
    "papermill": {
     "duration": 1.183963,
     "end_time": "2021-11-13T04:54:16.852768",
     "exception": false,
     "start_time": "2021-11-13T04:54:15.668805",
     "status": "completed"
    },
    "tags": []
   },
   "outputs": [
    {
     "data": {
      "text/html": [
       "<div>\n",
       "<style scoped>\n",
       "    .dataframe tbody tr th:only-of-type {\n",
       "        vertical-align: middle;\n",
       "    }\n",
       "\n",
       "    .dataframe tbody tr th {\n",
       "        vertical-align: top;\n",
       "    }\n",
       "\n",
       "    .dataframe thead th {\n",
       "        text-align: right;\n",
       "    }\n",
       "</style>\n",
       "<table border=\"1\" class=\"dataframe\">\n",
       "  <thead>\n",
       "    <tr style=\"text-align: right;\">\n",
       "      <th></th>\n",
       "      <th>filepath</th>\n",
       "      <th>labels</th>\n",
       "    </tr>\n",
       "  </thead>\n",
       "  <tbody>\n",
       "    <tr>\n",
       "      <th>0</th>\n",
       "      <td>../input/large-covid19-ct-slice-dataset/curate...</td>\n",
       "      <td>2COVID</td>\n",
       "    </tr>\n",
       "    <tr>\n",
       "      <th>1</th>\n",
       "      <td>../input/large-covid19-ct-slice-dataset/curate...</td>\n",
       "      <td>2COVID</td>\n",
       "    </tr>\n",
       "    <tr>\n",
       "      <th>2</th>\n",
       "      <td>../input/large-covid19-ct-slice-dataset/curate...</td>\n",
       "      <td>1NonCOVID</td>\n",
       "    </tr>\n",
       "    <tr>\n",
       "      <th>3</th>\n",
       "      <td>../input/large-covid19-ct-slice-dataset/curate...</td>\n",
       "      <td>1NonCOVID</td>\n",
       "    </tr>\n",
       "    <tr>\n",
       "      <th>4</th>\n",
       "      <td>../input/large-covid19-ct-slice-dataset/curate...</td>\n",
       "      <td>1NonCOVID</td>\n",
       "    </tr>\n",
       "    <tr>\n",
       "      <th>...</th>\n",
       "      <td>...</td>\n",
       "      <td>...</td>\n",
       "    </tr>\n",
       "    <tr>\n",
       "      <th>17099</th>\n",
       "      <td>../input/large-covid19-ct-slice-dataset/curate...</td>\n",
       "      <td>3CAP</td>\n",
       "    </tr>\n",
       "    <tr>\n",
       "      <th>17100</th>\n",
       "      <td>../input/large-covid19-ct-slice-dataset/curate...</td>\n",
       "      <td>2COVID</td>\n",
       "    </tr>\n",
       "    <tr>\n",
       "      <th>17101</th>\n",
       "      <td>../input/large-covid19-ct-slice-dataset/curate...</td>\n",
       "      <td>1NonCOVID</td>\n",
       "    </tr>\n",
       "    <tr>\n",
       "      <th>17102</th>\n",
       "      <td>../input/large-covid19-ct-slice-dataset/curate...</td>\n",
       "      <td>3CAP</td>\n",
       "    </tr>\n",
       "    <tr>\n",
       "      <th>17103</th>\n",
       "      <td>../input/large-covid19-ct-slice-dataset/curate...</td>\n",
       "      <td>2COVID</td>\n",
       "    </tr>\n",
       "  </tbody>\n",
       "</table>\n",
       "<p>17104 rows × 2 columns</p>\n",
       "</div>"
      ],
      "text/plain": [
       "                                                filepath     labels\n",
       "0      ../input/large-covid19-ct-slice-dataset/curate...     2COVID\n",
       "1      ../input/large-covid19-ct-slice-dataset/curate...     2COVID\n",
       "2      ../input/large-covid19-ct-slice-dataset/curate...  1NonCOVID\n",
       "3      ../input/large-covid19-ct-slice-dataset/curate...  1NonCOVID\n",
       "4      ../input/large-covid19-ct-slice-dataset/curate...  1NonCOVID\n",
       "...                                                  ...        ...\n",
       "17099  ../input/large-covid19-ct-slice-dataset/curate...       3CAP\n",
       "17100  ../input/large-covid19-ct-slice-dataset/curate...     2COVID\n",
       "17101  ../input/large-covid19-ct-slice-dataset/curate...  1NonCOVID\n",
       "17102  ../input/large-covid19-ct-slice-dataset/curate...       3CAP\n",
       "17103  ../input/large-covid19-ct-slice-dataset/curate...     2COVID\n",
       "\n",
       "[17104 rows x 2 columns]"
      ]
     },
     "execution_count": 4,
     "metadata": {},
     "output_type": "execute_result"
    }
   ],
   "source": [
    "df"
   ]
  },
  {
   "cell_type": "code",
   "execution_count": 5,
   "id": "15dfcd62",
   "metadata": {
    "_cell_guid": "d6e97bea-9046-40cd-90b3-44a6166f06c9",
    "_uuid": "fe55e73a-b073-42f4-82f0-062212a85eb4",
    "collapsed": false,
    "execution": {
     "iopub.execute_input": "2021-11-13T04:54:16.899898Z",
     "iopub.status.busy": "2021-11-13T04:54:16.899137Z",
     "iopub.status.idle": "2021-11-13T04:54:18.141688Z",
     "shell.execute_reply": "2021-11-13T04:54:18.140743Z",
     "shell.execute_reply.started": "2021-10-19T13:59:37.444891Z"
    },
    "jupyter": {
     "outputs_hidden": false
    },
    "papermill": {
     "duration": 1.269756,
     "end_time": "2021-11-13T04:54:18.141828",
     "exception": false,
     "start_time": "2021-11-13T04:54:16.872072",
     "status": "completed"
    },
    "tags": []
   },
   "outputs": [
    {
     "name": "stdout",
     "output_type": "stream",
     "text": [
      "[0.75086703 0.8271193  2.17774382] ['2COVID' '1NonCOVID' '3CAP']\n"
     ]
    }
   ],
   "source": [
    "cw = compute_class_weight('balanced', classes=df.labels.unique(), y=df.labels)\n",
    "print(cw, df.labels.unique())"
   ]
  },
  {
   "cell_type": "code",
   "execution_count": 6,
   "id": "d1fc3375",
   "metadata": {
    "_cell_guid": "4c33796d-64c6-4994-8a87-9f1ea4643755",
    "_uuid": "c4753261-ed5d-4f0c-8945-6967e5f7d604",
    "collapsed": false,
    "execution": {
     "iopub.execute_input": "2021-11-13T04:54:18.185098Z",
     "iopub.status.busy": "2021-11-13T04:54:18.184302Z",
     "iopub.status.idle": "2021-11-13T04:54:19.361548Z",
     "shell.execute_reply": "2021-11-13T04:54:19.362182Z",
     "shell.execute_reply.started": "2021-10-19T13:59:37.476427Z"
    },
    "jupyter": {
     "outputs_hidden": false
    },
    "papermill": {
     "duration": 1.201576,
     "end_time": "2021-11-13T04:54:19.362552",
     "exception": false,
     "start_time": "2021-11-13T04:54:18.160976",
     "status": "completed"
    },
    "tags": []
   },
   "outputs": [],
   "source": [
    "class_weights = {2: 2.17774382, 0: 0.8271193, 1: 0.75086703}\n",
    "class_map = {'2COVID': 1, '1NonCOVID': 0, '3CAP': 2}"
   ]
  },
  {
   "cell_type": "code",
   "execution_count": 7,
   "id": "b259c30a",
   "metadata": {
    "_cell_guid": "17e2a9da-5acb-4539-b41c-c9db1acdc5c0",
    "_uuid": "c53f83a7-0332-4ce0-933f-3de7bff8aa3e",
    "collapsed": false,
    "execution": {
     "iopub.execute_input": "2021-11-13T04:54:19.427948Z",
     "iopub.status.busy": "2021-11-13T04:54:19.427354Z",
     "iopub.status.idle": "2021-11-13T04:54:20.661395Z",
     "shell.execute_reply": "2021-11-13T04:54:20.660683Z",
     "shell.execute_reply.started": "2021-10-19T13:59:37.489899Z"
    },
    "jupyter": {
     "outputs_hidden": false
    },
    "papermill": {
     "duration": 1.275929,
     "end_time": "2021-11-13T04:54:20.661584",
     "exception": false,
     "start_time": "2021-11-13T04:54:19.385655",
     "status": "completed"
    },
    "tags": []
   },
   "outputs": [],
   "source": [
    "class DataGenerator(tf.keras.utils.Sequence):\n",
    "    def __init__(self, df, batch_size=32, shuffle=True, color_mode=\"rgb\"):\n",
    "        self.batch_size = batch_size\n",
    "        self.df = df\n",
    "        self.indices = self.df.index.tolist()\n",
    "        self.shuffle = shuffle\n",
    "        self.on_epoch_end()\n",
    "        self.color_mode = color_mode\n",
    "\n",
    "    def __len__(self):\n",
    "        return len(self.indices) // self.batch_size\n",
    "\n",
    "    def __getitem__(self, index):\n",
    "        index = self.index[index *\n",
    "                           self.batch_size:(index + 1) *\n",
    "                           self.batch_size]\n",
    "        batch = [self.indices[k] for k in index]\n",
    "\n",
    "        X, y = self.__get_data(batch)\n",
    "        return X, y\n",
    "\n",
    "    def on_epoch_end(self):\n",
    "        self.index = numpy.arange(len(self.indices))\n",
    "        if self.shuffle == True:\n",
    "            numpy.random.shuffle(self.index)\n",
    "\n",
    "    def __get_data(self, batch):\n",
    "        X = []\n",
    "        y = []\n",
    "        for i, id in enumerate(batch):\n",
    "            img = tf.keras.preprocessing.image.load_img(\n",
    "                self.df.loc[id, 'filepath'],\n",
    "                color_mode=self.color_mode,\n",
    "                target_size=(256, 256),\n",
    "                interpolation=\"nearest\")\n",
    "            img_array = tf.keras.preprocessing.image.img_to_array(img)\n",
    "            X.append(img_array/255)\n",
    "            ylist = [0, 0, 0]\n",
    "            ylist[class_map[self.df.loc[id, 'labels']]] = 1\n",
    "            ylist = numpy.array(ylist)\n",
    "            y.append(ylist)\n",
    "        X = numpy.array(X)\n",
    "        y = numpy.array(y)\n",
    "        return X, y"
   ]
  },
  {
   "cell_type": "code",
   "execution_count": 8,
   "id": "457dc951",
   "metadata": {
    "_cell_guid": "efc71176-9efd-406a-92aa-fce6955857e8",
    "_uuid": "85a1f9c1-0c94-4691-8bc0-98e144927a5c",
    "collapsed": false,
    "execution": {
     "iopub.execute_input": "2021-11-13T04:54:20.713848Z",
     "iopub.status.busy": "2021-11-13T04:54:20.712934Z",
     "iopub.status.idle": "2021-11-13T04:54:21.892002Z",
     "shell.execute_reply": "2021-11-13T04:54:21.891513Z",
     "shell.execute_reply.started": "2021-10-19T13:59:37.515979Z"
    },
    "jupyter": {
     "outputs_hidden": false
    },
    "papermill": {
     "duration": 1.208653,
     "end_time": "2021-11-13T04:54:21.892136",
     "exception": false,
     "start_time": "2021-11-13T04:54:20.683483",
     "status": "completed"
    },
    "tags": []
   },
   "outputs": [],
   "source": [
    "train_data = DataGenerator(df[:13684].reset_index(drop=True))  # 80%\n",
    "valid_data = DataGenerator(df[13684:15394].reset_index(drop=True))  # 80 - 90%\n",
    "test_data = DataGenerator(df[15394:].reset_index(drop=True), shuffle=False)  # 90 - 100%\n",
    "\n",
    "# train_data = DataGenerator(df[:200].reset_index(drop=True))  # 80%\n",
    "# valid_data = DataGenerator(df[200:300].reset_index(drop=True))  # 80 - 90%\n",
    "# test_data = DataGenerator(df[300:400].reset_index(drop=True), shuffle=False)  # 90 - 100%"
   ]
  },
  {
   "cell_type": "code",
   "execution_count": 9,
   "id": "3919ae92",
   "metadata": {
    "_cell_guid": "d4ed4d9f-5fd7-4aa6-8782-362e184449ba",
    "_uuid": "45d5ce27-1d8d-4fd6-8d08-917822f919c6",
    "collapsed": false,
    "execution": {
     "iopub.execute_input": "2021-11-13T04:54:21.937999Z",
     "iopub.status.busy": "2021-11-13T04:54:21.937203Z",
     "iopub.status.idle": "2021-11-13T04:54:23.190628Z",
     "shell.execute_reply": "2021-11-13T04:54:23.191050Z",
     "shell.execute_reply.started": "2021-10-19T13:59:37.531072Z"
    },
    "jupyter": {
     "outputs_hidden": false
    },
    "papermill": {
     "duration": 1.280142,
     "end_time": "2021-11-13T04:54:23.191208",
     "exception": false,
     "start_time": "2021-11-13T04:54:21.911066",
     "status": "completed"
    },
    "tags": []
   },
   "outputs": [],
   "source": [
    "\n",
    "\n",
    "def conv_block(filters, inputs):\n",
    "    x = layers.SeparableConv2D(\n",
    "        filters, 3,\n",
    "        activation=\"relu\",\n",
    "        padding=\"same\")(inputs)\n",
    "    x = layers.SeparableConv2D(\n",
    "        filters, 3,\n",
    "        activation=\"relu\",\n",
    "        padding=\"same\")(x)\n",
    "    x = layers.BatchNormalization()(x)\n",
    "    outputs = layers.MaxPool2D()(x)\n",
    "    return outputs\n",
    "\n",
    "\n",
    "def dense_block(units, dropout_rate, inputs):\n",
    "    x = layers.Dense(units, activation=\"relu\")(inputs)\n",
    "    x = layers.BatchNormalization()(x)\n",
    "    outputs = layers.Dropout(dropout_rate)(x)\n",
    "    return outputs"
   ]
  },
  {
   "cell_type": "code",
   "execution_count": 10,
   "id": "ec3cfbc2",
   "metadata": {
    "_cell_guid": "7abcfcf4-01c0-411c-bd98-606f2458a4db",
    "_uuid": "bca345de-b25f-463d-9bd3-b4775403978b",
    "collapsed": false,
    "execution": {
     "iopub.execute_input": "2021-11-13T04:54:23.242139Z",
     "iopub.status.busy": "2021-11-13T04:54:23.241308Z",
     "iopub.status.idle": "2021-11-13T04:54:24.394341Z",
     "shell.execute_reply": "2021-11-13T04:54:24.393665Z",
     "shell.execute_reply.started": "2021-10-19T13:59:37.548221Z"
    },
    "jupyter": {
     "outputs_hidden": false
    },
    "papermill": {
     "duration": 1.181294,
     "end_time": "2021-11-13T04:54:24.394478",
     "exception": false,
     "start_time": "2021-11-13T04:54:23.213184",
     "status": "completed"
    },
    "tags": []
   },
   "outputs": [],
   "source": [
    "from tensorflow.keras.applications import DenseNet121\n",
    "from tensorflow.keras.layers import GlobalAveragePooling2D, GlobalMaxPooling2D, Dropout, BatchNormalization\n",
    "def build_model():\n",
    "    inputs = layers.Input(shape=(256, 256, 3))\n",
    "    x = tf.keras.applications.densenet.preprocess_input(inputs)\n",
    "    x = DenseNet121(include_top=False, weights='imagenet', input_shape=(256,256,3))(x)\n",
    "    x = GlobalAveragePooling2D()(x)\n",
    "    x = Dropout(0.3)(x)\n",
    "    x = BatchNormalization()(x)\n",
    "    outputs = layers.Dense(3, activation=\"softmax\")(x)\n",
    "    model = keras.Model(inputs=inputs, outputs=outputs)\n",
    "    return model\n"
   ]
  },
  {
   "cell_type": "code",
   "execution_count": 11,
   "id": "f9dfb396",
   "metadata": {
    "_cell_guid": "3d0a015a-0d94-4dab-8a22-628002035942",
    "_uuid": "090a51a0-a67b-4dbe-9b6e-4eb244b6e41a",
    "collapsed": false,
    "execution": {
     "iopub.execute_input": "2021-11-13T04:54:24.452771Z",
     "iopub.status.busy": "2021-11-13T04:54:24.452194Z",
     "iopub.status.idle": "2021-11-13T04:54:26.503403Z",
     "shell.execute_reply": "2021-11-13T04:54:26.503943Z",
     "shell.execute_reply.started": "2021-10-19T13:59:37.563131Z"
    },
    "jupyter": {
     "outputs_hidden": false
    },
    "papermill": {
     "duration": 2.086718,
     "end_time": "2021-11-13T04:54:26.504106",
     "exception": false,
     "start_time": "2021-11-13T04:54:24.417388",
     "status": "completed"
    },
    "tags": []
   },
   "outputs": [],
   "source": [
    "initial_learning_rate = 0.015\n",
    "epochs = 100\n",
    "model_name = \"DenseNet_v1.h5\"\n",
    "patience = 10\n",
    "decay_steps = 100000\n",
    "decay_rate = 0.96\n",
    "\n",
    "lr_schedule = tf.keras.optimizers.schedules.ExponentialDecay(\n",
    "    initial_learning_rate,\n",
    "    decay_steps=decay_steps,\n",
    "    decay_rate=decay_rate,\n",
    "    staircase=True)\n",
    "checkpoint_cb = tf.keras.callbacks.ModelCheckpoint(\n",
    "    model_name,\n",
    "    save_best_only=True)\n",
    "early_stopping_cb = tf.keras.callbacks.EarlyStopping(\n",
    "    patience=patience,\n",
    "    restore_best_weights=True)"
   ]
  },
  {
   "cell_type": "code",
   "execution_count": 12,
   "id": "7bcfc51b",
   "metadata": {
    "_cell_guid": "dabe5bc1-d3ac-4a06-bd6a-25ffc7c9ddda",
    "_uuid": "6bc781ac-170b-4551-9a47-a6a3469b842f",
    "collapsed": false,
    "execution": {
     "iopub.execute_input": "2021-11-13T04:54:26.552996Z",
     "iopub.status.busy": "2021-11-13T04:54:26.552130Z",
     "iopub.status.idle": "2021-11-13T04:54:27.523141Z",
     "shell.execute_reply": "2021-11-13T04:54:27.522639Z",
     "shell.execute_reply.started": "2021-10-19T13:59:37.57833Z"
    },
    "jupyter": {
     "outputs_hidden": false
    },
    "papermill": {
     "duration": 0.999215,
     "end_time": "2021-11-13T04:54:27.523293",
     "exception": false,
     "start_time": "2021-11-13T04:54:26.524078",
     "status": "completed"
    },
    "tags": []
   },
   "outputs": [],
   "source": [
    "config.class_weights = class_weights\n",
    "config.class_map = class_map\n",
    "config.initial_learning_rate = initial_learning_rate\n",
    "config.epochs = epochs\n",
    "config.model_name = model_name\n",
    "config.patience = patience\n",
    "config.decay_steps = decay_steps\n",
    "config.decay_rate = decay_rate\n",
    "# config.pooling = 'max'"
   ]
  },
  {
   "cell_type": "code",
   "execution_count": 13,
   "id": "c45f6889",
   "metadata": {
    "_cell_guid": "418eb5de-c2d0-4c61-9411-1d64924db3ee",
    "_uuid": "d3af20ba-9590-4953-b186-8fb047b2217b",
    "collapsed": false,
    "execution": {
     "iopub.execute_input": "2021-11-13T04:54:27.577442Z",
     "iopub.status.busy": "2021-11-13T04:54:27.576453Z",
     "iopub.status.idle": "2021-11-13T05:34:59.578145Z",
     "shell.execute_reply": "2021-11-13T05:34:59.578853Z",
     "shell.execute_reply.started": "2021-10-19T13:59:37.597213Z"
    },
    "jupyter": {
     "outputs_hidden": false
    },
    "papermill": {
     "duration": 2432.031968,
     "end_time": "2021-11-13T05:34:59.579033",
     "exception": false,
     "start_time": "2021-11-13T04:54:27.547065",
     "status": "completed"
    },
    "tags": []
   },
   "outputs": [
    {
     "name": "stderr",
     "output_type": "stream",
     "text": [
      "2021-11-13 04:54:27.653642: I tensorflow/stream_executor/cuda/cuda_gpu_executor.cc:937] successful NUMA node read from SysFS had negative value (-1), but there must be at least one NUMA node, so returning NUMA node zero\n",
      "2021-11-13 04:54:27.747834: I tensorflow/stream_executor/cuda/cuda_gpu_executor.cc:937] successful NUMA node read from SysFS had negative value (-1), but there must be at least one NUMA node, so returning NUMA node zero\n",
      "2021-11-13 04:54:27.748691: I tensorflow/stream_executor/cuda/cuda_gpu_executor.cc:937] successful NUMA node read from SysFS had negative value (-1), but there must be at least one NUMA node, so returning NUMA node zero\n",
      "2021-11-13 04:54:27.750045: I tensorflow/core/platform/cpu_feature_guard.cc:142] This TensorFlow binary is optimized with oneAPI Deep Neural Network Library (oneDNN) to use the following CPU instructions in performance-critical operations:  AVX2 AVX512F FMA\n",
      "To enable them in other operations, rebuild TensorFlow with the appropriate compiler flags.\n",
      "2021-11-13 04:54:27.750964: I tensorflow/stream_executor/cuda/cuda_gpu_executor.cc:937] successful NUMA node read from SysFS had negative value (-1), but there must be at least one NUMA node, so returning NUMA node zero\n",
      "2021-11-13 04:54:27.751733: I tensorflow/stream_executor/cuda/cuda_gpu_executor.cc:937] successful NUMA node read from SysFS had negative value (-1), but there must be at least one NUMA node, so returning NUMA node zero\n",
      "2021-11-13 04:54:27.752426: I tensorflow/stream_executor/cuda/cuda_gpu_executor.cc:937] successful NUMA node read from SysFS had negative value (-1), but there must be at least one NUMA node, so returning NUMA node zero\n",
      "2021-11-13 04:54:29.599857: I tensorflow/stream_executor/cuda/cuda_gpu_executor.cc:937] successful NUMA node read from SysFS had negative value (-1), but there must be at least one NUMA node, so returning NUMA node zero\n",
      "2021-11-13 04:54:29.600730: I tensorflow/stream_executor/cuda/cuda_gpu_executor.cc:937] successful NUMA node read from SysFS had negative value (-1), but there must be at least one NUMA node, so returning NUMA node zero\n",
      "2021-11-13 04:54:29.601400: I tensorflow/stream_executor/cuda/cuda_gpu_executor.cc:937] successful NUMA node read from SysFS had negative value (-1), but there must be at least one NUMA node, so returning NUMA node zero\n",
      "2021-11-13 04:54:29.602009: I tensorflow/core/common_runtime/gpu/gpu_device.cc:1510] Created device /job:localhost/replica:0/task:0/device:GPU:0 with 15403 MB memory:  -> device: 0, name: Tesla P100-PCIE-16GB, pci bus id: 0000:00:04.0, compute capability: 6.0\n"
     ]
    },
    {
     "name": "stdout",
     "output_type": "stream",
     "text": [
      "Downloading data from https://storage.googleapis.com/tensorflow/keras-applications/densenet/densenet121_weights_tf_dim_ordering_tf_kernels_notop.h5\n",
      "29089792/29084464 [==============================] - 1s 0us/step\n",
      "29097984/29084464 [==============================] - 1s 0us/step\n",
      "Model: \"model\"\n",
      "_________________________________________________________________\n",
      "Layer (type)                 Output Shape              Param #   \n",
      "=================================================================\n",
      "input_1 (InputLayer)         [(None, 256, 256, 3)]     0         \n",
      "_________________________________________________________________\n",
      "tf.math.truediv (TFOpLambda) (None, 256, 256, 3)       0         \n",
      "_________________________________________________________________\n",
      "tf.nn.bias_add (TFOpLambda)  (None, 256, 256, 3)       0         \n",
      "_________________________________________________________________\n",
      "tf.math.truediv_1 (TFOpLambd (None, 256, 256, 3)       0         \n",
      "_________________________________________________________________\n",
      "densenet121 (Functional)     (None, 8, 8, 1024)        7037504   \n",
      "_________________________________________________________________\n",
      "global_average_pooling2d (Gl (None, 1024)              0         \n",
      "_________________________________________________________________\n",
      "dropout (Dropout)            (None, 1024)              0         \n",
      "_________________________________________________________________\n",
      "batch_normalization (BatchNo (None, 1024)              4096      \n",
      "_________________________________________________________________\n",
      "dense (Dense)                (None, 3)                 3075      \n",
      "=================================================================\n",
      "Total params: 7,044,675\n",
      "Trainable params: 6,958,979\n",
      "Non-trainable params: 85,696\n",
      "_________________________________________________________________\n"
     ]
    },
    {
     "name": "stderr",
     "output_type": "stream",
     "text": [
      "2021-11-13 04:54:35.692430: I tensorflow/compiler/mlir/mlir_graph_optimization_pass.cc:185] None of the MLIR Optimization Passes are enabled (registered 2)\n"
     ]
    },
    {
     "name": "stdout",
     "output_type": "stream",
     "text": [
      "Epoch 1/100\n"
     ]
    },
    {
     "name": "stderr",
     "output_type": "stream",
     "text": [
      "2021-11-13 04:54:47.348889: I tensorflow/stream_executor/cuda/cuda_dnn.cc:369] Loaded cuDNN version 8005\n"
     ]
    },
    {
     "name": "stdout",
     "output_type": "stream",
     "text": [
      "427/427 [==============================] - 161s 335ms/step - loss: 1.3549 - accuracy: 0.5088 - precision: 0.5216 - recall: 0.4722 - val_loss: 13420.2705 - val_accuracy: 0.1586 - val_precision: 0.1586 - val_recall: 0.1586\n",
      "Epoch 2/100\n",
      "427/427 [==============================] - 119s 277ms/step - loss: 0.7911 - accuracy: 0.6257 - precision: 0.6628 - recall: 0.5610 - val_loss: 3336.1448 - val_accuracy: 0.1592 - val_precision: 0.1592 - val_recall: 0.1592\n",
      "Epoch 3/100\n",
      "427/427 [==============================] - 118s 277ms/step - loss: 0.6376 - accuracy: 0.7078 - precision: 0.7383 - recall: 0.6598 - val_loss: 885.8243 - val_accuracy: 0.1604 - val_precision: 0.1604 - val_recall: 0.1604\n",
      "Epoch 4/100\n",
      "427/427 [==============================] - 119s 278ms/step - loss: 0.5420 - accuracy: 0.7561 - precision: 0.7788 - recall: 0.7249 - val_loss: 11.3709 - val_accuracy: 0.4399 - val_precision: 0.4399 - val_recall: 0.4399\n",
      "Epoch 5/100\n",
      "427/427 [==============================] - 118s 276ms/step - loss: 0.4683 - accuracy: 0.7894 - precision: 0.8037 - recall: 0.7717 - val_loss: 14.2635 - val_accuracy: 0.4381 - val_precision: 0.4381 - val_recall: 0.4381\n",
      "Epoch 6/100\n",
      "427/427 [==============================] - 120s 280ms/step - loss: 0.4106 - accuracy: 0.8186 - precision: 0.8287 - recall: 0.8059 - val_loss: 850.2208 - val_accuracy: 0.1604 - val_precision: 0.1604 - val_recall: 0.1604\n",
      "Epoch 7/100\n",
      "427/427 [==============================] - 119s 278ms/step - loss: 0.3684 - accuracy: 0.8355 - precision: 0.8432 - recall: 0.8271 - val_loss: 2.2676 - val_accuracy: 0.4104 - val_precision: 0.4104 - val_recall: 0.4104\n",
      "Epoch 8/100\n",
      "427/427 [==============================] - 118s 277ms/step - loss: 0.3491 - accuracy: 0.8472 - precision: 0.8522 - recall: 0.8408 - val_loss: 1541.3064 - val_accuracy: 0.1610 - val_precision: 0.1610 - val_recall: 0.1610\n",
      "Epoch 9/100\n",
      "427/427 [==============================] - 120s 280ms/step - loss: 0.3021 - accuracy: 0.8654 - precision: 0.8695 - recall: 0.8609 - val_loss: 404.9589 - val_accuracy: 0.1598 - val_precision: 0.1598 - val_recall: 0.1598\n",
      "Epoch 10/100\n",
      "427/427 [==============================] - 120s 280ms/step - loss: 0.2983 - accuracy: 0.8702 - precision: 0.8738 - recall: 0.8664 - val_loss: 4.2878 - val_accuracy: 0.4369 - val_precision: 0.4369 - val_recall: 0.4369\n",
      "Epoch 11/100\n",
      "427/427 [==============================] - 120s 279ms/step - loss: 0.2742 - accuracy: 0.8773 - precision: 0.8807 - recall: 0.8743 - val_loss: 560.8812 - val_accuracy: 0.1598 - val_precision: 0.1598 - val_recall: 0.1598\n",
      "Epoch 12/100\n",
      "427/427 [==============================] - 121s 282ms/step - loss: 0.2525 - accuracy: 0.8895 - precision: 0.8920 - recall: 0.8877 - val_loss: 3.7048 - val_accuracy: 0.4646 - val_precision: 0.4658 - val_recall: 0.4617\n",
      "Epoch 13/100\n",
      "427/427 [==============================] - 120s 281ms/step - loss: 0.2734 - accuracy: 0.8831 - precision: 0.8854 - recall: 0.8814 - val_loss: 1950.0219 - val_accuracy: 0.1586 - val_precision: 0.1586 - val_recall: 0.1586\n",
      "Epoch 14/100\n",
      "427/427 [==============================] - 120s 281ms/step - loss: 0.2618 - accuracy: 0.8894 - precision: 0.8912 - recall: 0.8875 - val_loss: 918.1965 - val_accuracy: 0.1598 - val_precision: 0.1598 - val_recall: 0.1598\n",
      "Epoch 15/100\n",
      "427/427 [==============================] - 121s 283ms/step - loss: 0.2386 - accuracy: 0.8974 - precision: 0.8987 - recall: 0.8963 - val_loss: 10.7280 - val_accuracy: 0.4363 - val_precision: 0.4363 - val_recall: 0.4363\n",
      "Epoch 16/100\n",
      "427/427 [==============================] - 120s 281ms/step - loss: 0.2011 - accuracy: 0.9107 - precision: 0.9113 - recall: 0.9094 - val_loss: 4.9231 - val_accuracy: 0.4157 - val_precision: 0.4157 - val_recall: 0.4157\n",
      "Epoch 17/100\n",
      "427/427 [==============================] - 121s 283ms/step - loss: 0.2173 - accuracy: 0.9074 - precision: 0.9087 - recall: 0.9064 - val_loss: 109.4387 - val_accuracy: 0.1604 - val_precision: 0.1604 - val_recall: 0.1604\n"
     ]
    }
   ],
   "source": [
    "model = build_model()\n",
    "wandb.log({'model_summary': model.summary()})\n",
    "METRICS = [\n",
    "    tf.keras.metrics.CategoricalAccuracy(name=\"accuracy\"),\n",
    "    tf.keras.metrics.Precision(name=\"precision\"),\n",
    "    tf.keras.metrics.Recall(name=\"recall\"),\n",
    "]\n",
    "\n",
    "model.compile(\n",
    "    optimizer=tf.keras.optimizers.Adam(learning_rate=lr_schedule),\n",
    "    loss=tf.keras.losses.CategoricalCrossentropy(),\n",
    "    metrics=METRICS\n",
    ")\n",
    "\n",
    "history = model.fit(\n",
    "    train_data,\n",
    "    epochs=epochs,\n",
    "    class_weight=class_weights,\n",
    "    verbose=1,\n",
    "    validation_data=valid_data,\n",
    "    workers=2,\n",
    "    callbacks=[checkpoint_cb, early_stopping_cb, WandbCallback()],\n",
    ")"
   ]
  },
  {
   "cell_type": "code",
   "execution_count": 14,
   "id": "35934736",
   "metadata": {
    "_cell_guid": "adfd2311-254d-4869-a39b-cabf57bbfa2d",
    "_uuid": "e7ef5667-43b5-4a05-b39b-90545d0d17a1",
    "collapsed": false,
    "execution": {
     "iopub.execute_input": "2021-11-13T05:35:03.822812Z",
     "iopub.status.busy": "2021-11-13T05:35:03.820765Z",
     "iopub.status.idle": "2021-11-13T05:35:20.894138Z",
     "shell.execute_reply": "2021-11-13T05:35:20.894810Z",
     "shell.execute_reply.started": "2021-10-19T14:08:20.072757Z"
    },
    "jupyter": {
     "outputs_hidden": false
    },
    "papermill": {
     "duration": 19.296237,
     "end_time": "2021-11-13T05:35:20.894967",
     "exception": false,
     "start_time": "2021-11-13T05:35:01.598730",
     "status": "completed"
    },
    "tags": []
   },
   "outputs": [
    {
     "data": {
      "image/png": "[encoded data removed]",
      "text/plain": [
       "<Figure size 1080x1080 with 4 Axes>"
      ]
     },
     "metadata": {},
     "output_type": "display_data"
    }
   ],
   "source": [
    "pyplot.style.use('fivethirtyeight')\n",
    "fig, ax = pyplot.subplots(2, 2, figsize=(15, 15))\n",
    "ax = ax.ravel()\n",
    "\n",
    "for i, met in enumerate([\"precision\", \"recall\", \"accuracy\", \"loss\"]):\n",
    "    ax[i].plot(history.history[met])\n",
    "    ax[i].plot(history.history[\"val_\" + met])\n",
    "    ax[i].set_title(\"Model {}\".format(met))\n",
    "    ax[i].set_xlabel(\"epochs\")\n",
    "    ax[i].set_ylabel(met)\n",
    "    ax[i].legend([\"train\", \"val\"])\n",
    "try:\n",
    "    wandb.log({'training log img': wandb.Image(fig)})\n",
    "except:\n",
    "    pass"
   ]
  },
  {
   "cell_type": "code",
   "execution_count": 15,
   "id": "6f456567",
   "metadata": {
    "_cell_guid": "e0544ee4-555c-4938-8bf0-0c104d16145f",
    "_uuid": "873f5228-eb40-46ba-a191-10fcefbe8559",
    "collapsed": false,
    "execution": {
     "iopub.execute_input": "2021-11-13T05:35:25.777654Z",
     "iopub.status.busy": "2021-11-13T05:35:25.776730Z",
     "iopub.status.idle": "2021-11-13T05:38:09.545078Z",
     "shell.execute_reply": "2021-11-13T05:38:09.545757Z",
     "shell.execute_reply.started": "2021-10-19T14:06:23.938086Z"
    },
    "jupyter": {
     "outputs_hidden": false
    },
    "papermill": {
     "duration": 166.111802,
     "end_time": "2021-11-13T05:38:09.545916",
     "exception": false,
     "start_time": "2021-11-13T05:35:23.434114",
     "status": "completed"
    },
    "tags": []
   },
   "outputs": [
    {
     "name": "stdout",
     "output_type": "stream",
     "text": [
      "427/427 [==============================] - 108s 252ms/step - loss: 2.2278 - accuracy: 0.4179 - precision: 0.4179 - recall: 0.4178\n"
     ]
    },
    {
     "data": {
      "text/plain": [
       "'train evaluation'"
      ]
     },
     "metadata": {},
     "output_type": "display_data"
    },
    {
     "data": {
      "text/plain": [
       "{'loss': 2.227797031402588,\n",
       " 'accuracy': 0.4178864061832428,\n",
       " 'precision': 0.4179355800151825,\n",
       " 'recall': 0.417813241481781}"
      ]
     },
     "metadata": {},
     "output_type": "display_data"
    },
    {
     "name": "stdout",
     "output_type": "stream",
     "text": [
      "53/53 [==============================] - 13s 244ms/step - loss: 2.2540 - accuracy: 0.4127 - precision: 0.4127 - recall: 0.4127\n"
     ]
    },
    {
     "data": {
      "text/plain": [
       "'valid evaluation'"
      ]
     },
     "metadata": {},
     "output_type": "display_data"
    },
    {
     "data": {
      "text/plain": [
       "{'loss': 2.2540268898010254,\n",
       " 'accuracy': 0.41273584961891174,\n",
       " 'precision': 0.41273584961891174,\n",
       " 'recall': 0.41273584961891174}"
      ]
     },
     "metadata": {},
     "output_type": "display_data"
    },
    {
     "name": "stdout",
     "output_type": "stream",
     "text": [
      "53/53 [==============================] - 24s 456ms/step - loss: 2.1944 - accuracy: 0.4169 - precision: 0.4169 - recall: 0.4169\n"
     ]
    },
    {
     "data": {
      "text/plain": [
       "'test evaluation'"
      ]
     },
     "metadata": {},
     "output_type": "display_data"
    },
    {
     "data": {
      "text/plain": [
       "{'loss': 2.194369077682495,\n",
       " 'accuracy': 0.41686320304870605,\n",
       " 'precision': 0.41686320304870605,\n",
       " 'recall': 0.41686320304870605}"
      ]
     },
     "metadata": {},
     "output_type": "display_data"
    }
   ],
   "source": [
    "train_eval = model.evaluate(train_data, return_dict=True)\n",
    "wandb.log({'train evaluation': train_eval})\n",
    "display('train evaluation', train_eval)\n",
    "\n",
    "valid_eval = model.evaluate(valid_data, return_dict=True)\n",
    "wandb.log({'valid evaluation': valid_eval})\n",
    "display('valid evaluation', valid_eval)\n",
    "\n",
    "test_eval = model.evaluate(test_data, return_dict=True)\n",
    "wandb.log({'test evaluation': test_eval})\n",
    "display('test evaluation', test_eval)"
   ]
  },
  {
   "cell_type": "code",
   "execution_count": 16,
   "id": "8c6281f1",
   "metadata": {
    "_cell_guid": "7ff8b98f-d8ad-4a7d-90e9-c01ccfce89b6",
    "_uuid": "c57b38e6-75f8-44b4-a89b-50a4b1e2fa5f",
    "collapsed": false,
    "execution": {
     "iopub.execute_input": "2021-11-13T05:38:14.066112Z",
     "iopub.status.busy": "2021-11-13T05:38:14.058715Z",
     "iopub.status.idle": "2021-11-13T05:38:15.151328Z",
     "shell.execute_reply": "2021-11-13T05:38:15.152123Z",
     "shell.execute_reply.started": "2021-10-19T14:06:23.940203Z"
    },
    "jupyter": {
     "outputs_hidden": false
    },
    "papermill": {
     "duration": 3.216057,
     "end_time": "2021-11-13T05:38:15.152305",
     "exception": false,
     "start_time": "2021-11-13T05:38:11.936248",
     "status": "completed"
    },
    "tags": []
   },
   "outputs": [
    {
     "data": {
      "text/plain": [
       "'3CAP'"
      ]
     },
     "execution_count": 16,
     "metadata": {},
     "output_type": "execute_result"
    }
   ],
   "source": [
    "def get_class(value):\n",
    "    for key in class_map.keys():\n",
    "        if class_map[key] == value:\n",
    "            return key\n",
    "\n",
    "\n",
    "get_class(2)"
   ]
  },
  {
   "cell_type": "markdown",
   "id": "7a740c4c",
   "metadata": {
    "_cell_guid": "7f62b137-4358-45d4-9e8c-7641ecaab454",
    "_uuid": "c9e41d9d-47b5-4308-a9dd-5e7fd67895f3",
    "papermill": {
     "duration": 2.104853,
     "end_time": "2021-11-13T05:38:19.444462",
     "exception": false,
     "start_time": "2021-11-13T05:38:17.339609",
     "status": "completed"
    },
    "tags": []
   },
   "source": [
    "### Confusion matrix - validation"
   ]
  },
  {
   "cell_type": "code",
   "execution_count": 17,
   "id": "a52fe8e2",
   "metadata": {
    "_cell_guid": "a45e545b-e2b7-4d9c-b402-549c2dd51a48",
    "_uuid": "9ba8f0ac-b278-493c-bf20-183b41a7391d",
    "collapsed": false,
    "execution": {
     "iopub.execute_input": "2021-11-13T05:38:23.909560Z",
     "iopub.status.busy": "2021-11-13T05:38:23.908732Z",
     "iopub.status.idle": "2021-11-13T05:38:49.326788Z",
     "shell.execute_reply": "2021-11-13T05:38:49.327510Z",
     "shell.execute_reply.started": "2021-10-19T14:06:23.942265Z"
    },
    "jupyter": {
     "outputs_hidden": false
    },
    "papermill": {
     "duration": 27.550954,
     "end_time": "2021-11-13T05:38:49.327727",
     "exception": false,
     "start_time": "2021-11-13T05:38:21.776773",
     "status": "completed"
    },
    "tags": []
   },
   "outputs": [
    {
     "name": "stdout",
     "output_type": "stream",
     "text": [
      "53/53 [==============================] - 13s 209ms/step\n",
      "              precision    recall  f1-score   support\n",
      "\n",
      "           0       0.41      1.00      0.58       682\n",
      "           1       1.00      0.03      0.05       746\n",
      "           2       0.00      0.00      0.00       268\n",
      "\n",
      "    accuracy                           0.41      1696\n",
      "   macro avg       0.47      0.34      0.21      1696\n",
      "weighted avg       0.60      0.41      0.25      1696\n",
      "\n"
     ]
    },
    {
     "name": "stderr",
     "output_type": "stream",
     "text": [
      "/opt/conda/lib/python3.7/site-packages/sklearn/metrics/_classification.py:1221: UndefinedMetricWarning: Precision and F-score are ill-defined and being set to 0.0 in labels with no predicted samples. Use `zero_division` parameter to control this behavior.\n",
      "  _warn_prf(average, modifier, msg_start, len(result))\n"
     ]
    },
    {
     "data": {
      "text/plain": [
       "<AxesSubplot:>"
      ]
     },
     "metadata": {},
     "output_type": "display_data"
    },
    {
     "data": {
      "image/png": "[encoded data removed]",
      "text/plain": [
       "<Figure size 432x288 with 2 Axes>"
      ]
     },
     "metadata": {},
     "output_type": "display_data"
    }
   ],
   "source": [
    "labels = []\n",
    "for image, label in valid_data:\n",
    "    labels.append(label)\n",
    "\n",
    "labels = numpy.array(labels).reshape(-1, 3)\n",
    "predictions = model.predict(valid_data, verbose=1)\n",
    "labels = numpy.argmax(labels, axis=-1)\n",
    "y_pred = numpy.argmax(predictions, axis=-1)\n",
    "\n",
    "# get the classification report\n",
    "cr = classification_report(labels, y_pred)\n",
    "print(cr)\n",
    "cm = confusion_matrix(labels, y_pred)\n",
    "x = seaborn.heatmap(cm, cmap='winter', annot=True, fmt='d')\n",
    "try:\n",
    "    wandb.log({'confusion matrix valid img': wandb.Image(x)})\n",
    "except:\n",
    "    pass\n",
    "display(x)"
   ]
  },
  {
   "cell_type": "code",
   "execution_count": 18,
   "id": "1c83c674",
   "metadata": {
    "_cell_guid": "57996a24-916d-440b-80ed-5850a753564c",
    "_uuid": "0f550bc1-bf21-4481-b591-23103abd3609",
    "collapsed": false,
    "execution": {
     "iopub.execute_input": "2021-11-13T05:38:53.589036Z",
     "iopub.status.busy": "2021-11-13T05:38:53.588001Z",
     "iopub.status.idle": "2021-11-13T05:39:17.835230Z",
     "shell.execute_reply": "2021-11-13T05:39:17.836122Z",
     "shell.execute_reply.started": "2021-10-19T14:06:23.944179Z"
    },
    "jupyter": {
     "outputs_hidden": false
    },
    "papermill": {
     "duration": 26.363985,
     "end_time": "2021-11-13T05:39:17.836305",
     "exception": false,
     "start_time": "2021-11-13T05:38:51.472320",
     "status": "completed"
    },
    "tags": []
   },
   "outputs": [
    {
     "name": "stdout",
     "output_type": "stream",
     "text": [
      "53/53 [==============================] - 11s 213ms/step\n",
      "              precision    recall  f1-score   support\n",
      "\n",
      "           0       0.41      1.00      0.58       685\n",
      "           1       1.00      0.03      0.06       771\n",
      "           2       0.00      0.00      0.00       240\n",
      "\n",
      "    accuracy                           0.42      1696\n",
      "   macro avg       0.47      0.34      0.21      1696\n",
      "weighted avg       0.62      0.42      0.26      1696\n",
      "\n"
     ]
    }
   ],
   "source": [
    "\n",
    "labels = []\n",
    "for image, label in test_data:\n",
    "    labels.append(label)\n",
    "\n",
    "labels = numpy.array(labels).reshape(-1, 3)\n",
    "predictions = model.predict(test_data, verbose=1)\n",
    "labels = numpy.argmax(labels, axis=-1)\n",
    "y_pred = numpy.argmax(predictions, axis=-1)\n",
    "\n",
    "# get the classification report\n",
    "cr = classification_report(labels, y_pred)\n",
    "print(cr)"
   ]
  },
  {
   "cell_type": "code",
   "execution_count": 19,
   "id": "610d72e0",
   "metadata": {
    "_cell_guid": "f47e75cc-719e-4795-bd1f-6b2872a53fc2",
    "_uuid": "7d619a91-5b0d-4f69-ac41-bfa16e5eb082",
    "collapsed": false,
    "execution": {
     "iopub.execute_input": "2021-11-13T05:39:22.151380Z",
     "iopub.status.busy": "2021-11-13T05:39:22.150513Z",
     "iopub.status.idle": "2021-11-13T05:39:23.645793Z",
     "shell.execute_reply": "2021-11-13T05:39:23.646707Z",
     "shell.execute_reply.started": "2021-10-19T14:06:23.946204Z"
    },
    "jupyter": {
     "outputs_hidden": false
    },
    "papermill": {
     "duration": 3.666398,
     "end_time": "2021-11-13T05:39:23.646887",
     "exception": false,
     "start_time": "2021-11-13T05:39:19.980489",
     "status": "completed"
    },
    "tags": []
   },
   "outputs": [
    {
     "data": {
      "text/plain": [
       "<AxesSubplot:>"
      ]
     },
     "metadata": {},
     "output_type": "display_data"
    },
    {
     "data": {
      "image/png": "[encoded data removed]",
      "text/plain": [
       "<Figure size 432x288 with 2 Axes>"
      ]
     },
     "metadata": {},
     "output_type": "display_data"
    }
   ],
   "source": [
    "cm = confusion_matrix(labels, y_pred)\n",
    "x = seaborn.heatmap(cm, cmap='winter', annot=True, fmt='d')\n",
    "try:\n",
    "    wandb.log({'confusion matrix test img': wandb.Image(x)})\n",
    "except:\n",
    "    pass\n",
    "display(x)"
   ]
  }
 ],
 "metadata": {
  "kernelspec": {
   "display_name": "Python 3",
   "language": "python",
   "name": "python3"
  },
  "language_info": {
   "codemirror_mode": {
    "name": "ipython",
    "version": 3
   },
   "file_extension": ".py",
   "mimetype": "text/x-python",
   "name": "python",
   "nbconvert_exporter": "python",
   "pygments_lexer": "ipython3",
   "version": "3.7.10"
  },
  "papermill": {
   "default_parameters": {},
   "duration": 2740.506226,
   "end_time": "2021-11-13T05:39:28.519081",
   "environment_variables": {},
   "exception": null,
   "input_path": "__notebook__.ipynb",
   "output_path": "__notebook__.ipynb",
   "parameters": {},
   "start_time": "2021-11-13T04:53:48.012855",
   "version": "2.3.3"
  },
  "widgets": {
   "application/vnd.jupyter.widget-state+json": {
    "state": {
     "030d2613aaa343f59df08f0a1c8914e5": {
      "model_module": "@jupyter-widgets/base",
      "model_module_version": "1.2.0",
      "model_name": "LayoutModel",
      "state": {
       "_model_module": "@jupyter-widgets/base",
       "_model_module_version": "1.2.0",
       "_model_name": "LayoutModel",
       "_view_count": null,
       "_view_module": "@jupyter-widgets/base",
       "_view_module_version": "1.2.0",
       "_view_name": "LayoutView",
       "align_content": null,
       "align_items": null,
       "align_self": null,
       "border": null,
       "bottom": null,
       "display": null,
       "flex": null,
       "flex_flow": null,
       "grid_area": null,
       "grid_auto_columns": null,
       "grid_auto_flow": null,
       "grid_auto_rows": null,
       "grid_column": null,
       "grid_gap": null,
       "grid_row": null,
       "grid_template_areas": null,
       "grid_template_columns": null,
       "grid_template_rows": null,
       "height": null,
       "justify_content": null,
       "justify_items": null,
       "left": null,
       "margin": null,
       "max_height": null,
       "max_width": null,
       "min_height": null,
       "min_width": null,
       "object_fit": null,
       "object_position": null,
       "order": null,
       "overflow": null,
       "overflow_x": null,
       "overflow_y": null,
       "padding": null,
       "right": null,
       "top": null,
       "visibility": null,
       "width": null
      }
     },
     "62ea1e84201e4c218d574e39a1c72b76": {
      "model_module": "@jupyter-widgets/controls",
      "model_module_version": "1.5.0",
      "model_name": "DescriptionStyleModel",
      "state": {
       "_model_module": "@jupyter-widgets/controls",
       "_model_module_version": "1.5.0",
       "_model_name": "DescriptionStyleModel",
       "_view_count": null,
       "_view_module": "@jupyter-widgets/base",
       "_view_module_version": "1.2.0",
       "_view_name": "StyleView",
       "description_width": ""
      }
     },
     "7c8db4fcdac84ffdbb8d36d30c9b20a8": {
      "model_module": "@jupyter-widgets/controls",
      "model_module_version": "1.5.0",
      "model_name": "ProgressStyleModel",
      "state": {
       "_model_module": "@jupyter-widgets/controls",
       "_model_module_version": "1.5.0",
       "_model_name": "ProgressStyleModel",
       "_view_count": null,
       "_view_module": "@jupyter-widgets/base",
       "_view_module_version": "1.2.0",
       "_view_name": "StyleView",
       "bar_color": null,
       "description_width": ""
      }
     },
     "806aca6346f14697bce04e47d1d26381": {
      "model_module": "@jupyter-widgets/base",
      "model_module_version": "1.2.0",
      "model_name": "LayoutModel",
      "state": {
       "_model_module": "@jupyter-widgets/base",
       "_model_module_version": "1.2.0",
       "_model_name": "LayoutModel",
       "_view_count": null,
       "_view_module": "@jupyter-widgets/base",
       "_view_module_version": "1.2.0",
       "_view_name": "LayoutView",
       "align_content": null,
       "align_items": null,
       "align_self": null,
       "border": null,
       "bottom": null,
       "display": null,
       "flex": null,
       "flex_flow": null,
       "grid_area": null,
       "grid_auto_columns": null,
       "grid_auto_flow": null,
       "grid_auto_rows": null,
       "grid_column": null,
       "grid_gap": null,
       "grid_row": null,
       "grid_template_areas": null,
       "grid_template_columns": null,
       "grid_template_rows": null,
       "height": null,
       "justify_content": null,
       "justify_items": null,
       "left": null,
       "margin": null,
       "max_height": null,
       "max_width": null,
       "min_height": null,
       "min_width": null,
       "object_fit": null,
       "object_position": null,
       "order": null,
       "overflow": null,
       "overflow_x": null,
       "overflow_y": null,
       "padding": null,
       "right": null,
       "top": null,
       "visibility": null,
       "width": null
      }
     },
     "9096652906e94ff4bf06bb26b7553a46": {
      "model_module": "@jupyter-widgets/base",
      "model_module_version": "1.2.0",
      "model_name": "LayoutModel",
      "state": {
       "_model_module": "@jupyter-widgets/base",
       "_model_module_version": "1.2.0",
       "_model_name": "LayoutModel",
       "_view_count": null,
       "_view_module": "@jupyter-widgets/base",
       "_view_module_version": "1.2.0",
       "_view_name": "LayoutView",
       "align_content": null,
       "align_items": null,
       "align_self": null,
       "border": null,
       "bottom": null,
       "display": null,
       "flex": null,
       "flex_flow": null,
       "grid_area": null,
       "grid_auto_columns": null,
       "grid_auto_flow": null,
       "grid_auto_rows": null,
       "grid_column": null,
       "grid_gap": null,
       "grid_row": null,
       "grid_template_areas": null,
       "grid_template_columns": null,
       "grid_template_rows": null,
       "height": null,
       "justify_content": null,
       "justify_items": null,
       "left": null,
       "margin": null,
       "max_height": null,
       "max_width": null,
       "min_height": null,
       "min_width": null,
       "object_fit": null,
       "object_position": null,
       "order": null,
       "overflow": null,
       "overflow_x": null,
       "overflow_y": null,
       "padding": null,
       "right": null,
       "top": null,
       "visibility": null,
       "width": null
      }
     },
     "cbdd87b6f5d941ea8253062542d9e4d1": {
      "model_module": "@jupyter-widgets/controls",
      "model_module_version": "1.5.0",
      "model_name": "LabelModel",
      "state": {
       "_dom_classes": [],
       "_model_module": "@jupyter-widgets/controls",
       "_model_module_version": "1.5.0",
       "_model_name": "LabelModel",
       "_view_count": null,
       "_view_module": "@jupyter-widgets/controls",
       "_view_module_version": "1.5.0",
       "_view_name": "LabelView",
       "description": "",
       "description_tooltip": null,
       "layout": "IPY_MODEL_806aca6346f14697bce04e47d1d26381",
       "placeholder": "​",
       "style": "IPY_MODEL_62ea1e84201e4c218d574e39a1c72b76",
       "value": ""
      }
     },
     "d4b76da460ee44bbadac36f6e98c3df4": {
      "model_module": "@jupyter-widgets/controls",
      "model_module_version": "1.5.0",
      "model_name": "VBoxModel",
      "state": {
       "_dom_classes": [],
       "_model_module": "@jupyter-widgets/controls",
       "_model_module_version": "1.5.0",
       "_model_name": "VBoxModel",
       "_view_count": null,
       "_view_module": "@jupyter-widgets/controls",
       "_view_module_version": "1.5.0",
       "_view_name": "VBoxView",
       "box_style": "",
       "children": [
        "IPY_MODEL_cbdd87b6f5d941ea8253062542d9e4d1",
        "IPY_MODEL_d55cf9d8a8404b2fb16be2f2a6c286e3"
       ],
       "layout": "IPY_MODEL_030d2613aaa343f59df08f0a1c8914e5"
      }
     },
     "d55cf9d8a8404b2fb16be2f2a6c286e3": {
      "model_module": "@jupyter-widgets/controls",
      "model_module_version": "1.5.0",
      "model_name": "FloatProgressModel",
      "state": {
       "_dom_classes": [],
       "_model_module": "@jupyter-widgets/controls",
       "_model_module_version": "1.5.0",
       "_model_name": "FloatProgressModel",
       "_view_count": null,
       "_view_module": "@jupyter-widgets/controls",
       "_view_module_version": "1.5.0",
       "_view_name": "ProgressView",
       "bar_style": "",
       "description": "",
       "description_tooltip": null,
       "layout": "IPY_MODEL_9096652906e94ff4bf06bb26b7553a46",
       "max": 1.0,
       "min": 0.0,
       "orientation": "horizontal",
       "style": "IPY_MODEL_7c8db4fcdac84ffdbb8d36d30c9b20a8",
       "value": 0.0
      }
     }
    },
    "version_major": 2,
    "version_minor": 0
   }
  }
 },
 "nbformat": 4,
 "nbformat_minor": 5
}
