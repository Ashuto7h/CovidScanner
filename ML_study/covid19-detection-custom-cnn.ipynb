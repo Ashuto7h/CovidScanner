{
 "cells": [
  {
   "cell_type": "code",
   "execution_count": 1,
   "id": "349160a8",
   "metadata": {
    "_cell_guid": "d6214188-092f-4249-a6ab-3a77afd5f28d",
    "_uuid": "74cae951-87f2-4749-9f23-4aab4fed8ae7",
    "collapsed": false,
    "execution": {
     "iopub.execute_input": "2021-11-13T14:40:20.685877Z",
     "iopub.status.busy": "2021-11-13T14:40:20.605838Z",
     "iopub.status.idle": "2021-11-13T14:40:37.079799Z",
     "shell.execute_reply": "2021-11-13T14:40:37.081296Z",
     "shell.execute_reply.started": "2021-11-13T06:13:11.303789Z"
    },
    "jupyter": {
     "outputs_hidden": false
    },
    "papermill": {
     "duration": 16.502916,
     "end_time": "2021-11-13T14:40:37.081893",
     "exception": false,
     "start_time": "2021-11-13T14:40:20.578977",
     "status": "completed"
    },
    "tags": []
   },
   "outputs": [
    {
     "name": "stderr",
     "output_type": "stream",
     "text": [
      "2021-11-13 14:40:22.419857: I tensorflow/stream_executor/platform/default/dso_loader.cc:49] Successfully opened dynamic library libcudart.so.11.0\n",
      "\u001b[34m\u001b[1mwandb\u001b[0m: W&B API key is configured (use `wandb login --relogin` to force relogin)\n",
      "\u001b[34m\u001b[1mwandb\u001b[0m: \u001b[33mWARNING\u001b[0m If you're specifying your api key in code, ensure this code is not shared publically.\n",
      "\u001b[34m\u001b[1mwandb\u001b[0m: \u001b[33mWARNING\u001b[0m Consider setting the WANDB_API_KEY environment variable, or running `wandb login` from the command line.\n",
      "\u001b[34m\u001b[1mwandb\u001b[0m: Appending key for api.wandb.ai to your netrc file: /root/.netrc\n",
      "\u001b[34m\u001b[1mwandb\u001b[0m: Currently logged in as: \u001b[33mashuto7h\u001b[0m (use `wandb login --relogin` to force relogin)\n",
      "\u001b[34m\u001b[1mwandb\u001b[0m: wandb version 0.12.6 is available!  To upgrade, please run:\n",
      "\u001b[34m\u001b[1mwandb\u001b[0m:  $ pip install wandb --upgrade\n",
      "2021-11-13 14:40:31.309948: I tensorflow/stream_executor/platform/default/dso_loader.cc:49] Successfully opened dynamic library libcudart.so.11.0\n"
     ]
    },
    {
     "data": {
      "text/html": [
       "\n",
       "                Tracking run with wandb version 0.12.2<br/>\n",
       "                Syncing run <strong style=\"color:#cdcd00\">fallen-planet-111</strong> to <a href=\"https://wandb.ai\" target=\"_blank\">Weights & Biases</a> <a href=\"https://docs.wandb.com/integrations/jupyter.html\" target=\"_blank\">(Documentation)</a>.<br/>\n",
       "                Project page: <a href=\"https://wandb.ai/ashuto7h/covid19\" target=\"_blank\">https://wandb.ai/ashuto7h/covid19</a><br/>\n",
       "                Run page: <a href=\"https://wandb.ai/ashuto7h/covid19/runs/lhin2jwo\" target=\"_blank\">https://wandb.ai/ashuto7h/covid19/runs/lhin2jwo</a><br/>\n",
       "                Run data is saved locally in <code>/kaggle/working/wandb/run-20211113_144029-lhin2jwo</code><br/><br/>\n",
       "            "
      ],
      "text/plain": [
       "<IPython.core.display.HTML object>"
      ]
     },
     "metadata": {},
     "output_type": "display_data"
    }
   ],
   "source": [
    "import os\n",
    "from sklearn.metrics import confusion_matrix\n",
    "from sklearn.metrics import classification_report\n",
    "import seaborn\n",
    "import matplotlib.pyplot as pyplot\n",
    "from tensorflow.keras import layers\n",
    "from tensorflow import keras\n",
    "import tensorflow as tf\n",
    "from sklearn.utils.class_weight import compute_class_weight\n",
    "import pandas\n",
    "import numpy\n",
    "import wandb\n",
    "from wandb.keras import WandbCallback\n",
    "\n",
    "wandb.login(key='ea1404a9d16ac9056181f111599286f24c65e0e9')\n",
    "wandb.init(project='covid19', entity='ashuto7h')\n",
    "config = wandb.config\n"
   ]
  },
  {
   "cell_type": "code",
   "execution_count": 2,
   "id": "1c9af50b",
   "metadata": {
    "_cell_guid": "951e1cf4-2167-4b6f-8c5b-2f3664f4197a",
    "_uuid": "f10adea4-b7a7-4b51-b449-1200dabb1f76",
    "collapsed": false,
    "execution": {
     "iopub.execute_input": "2021-11-13T14:40:37.176198Z",
     "iopub.status.busy": "2021-11-13T14:40:37.173499Z",
     "iopub.status.idle": "2021-11-13T14:40:39.572820Z",
     "shell.execute_reply": "2021-11-13T14:40:39.571860Z",
     "shell.execute_reply.started": "2021-11-13T06:13:24.176994Z"
    },
    "jupyter": {
     "outputs_hidden": false
    },
    "papermill": {
     "duration": 2.451003,
     "end_time": "2021-11-13T14:40:39.572971",
     "exception": false,
     "start_time": "2021-11-13T14:40:37.121968",
     "status": "completed"
    },
    "tags": []
   },
   "outputs": [
    {
     "name": "stderr",
     "output_type": "stream",
     "text": [
      "\n",
      "CondaEnvException: Unable to determine environment\n",
      "\n",
      "Please re-run this command with one of the following options:\n",
      "\n",
      "* Provide an environment name via --name or -n\n",
      "* Re-run this command inside an activated conda environment.\n",
      "\n"
     ]
    },
    {
     "name": "stdout",
     "output_type": "stream",
     "text": [
      "2COVID       7593\n",
      "1NonCOVID    6893\n",
      "3CAP         2618\n",
      "Name: labels, dtype: int64\n"
     ]
    }
   ],
   "source": [
    "sdir = r'../input/large-covid19-ct-slice-dataset/curated_data/curated_data'\n",
    "filepaths = []\n",
    "labels = []\n",
    "classlist = os.listdir(sdir)\n",
    "for item in classlist:\n",
    "    classpath = os.path.join(sdir, item)\n",
    "    flist = os.listdir(classpath)\n",
    "    for f in flist:\n",
    "        fpath = os.path.join(classpath, f)\n",
    "        filepaths.append(fpath)\n",
    "        labels.append(item)\n",
    "\n",
    "df = pandas.DataFrame()\n",
    "df['filepath'] = filepaths\n",
    "df['labels'] = labels\n",
    "print(df['labels'].value_counts())\n",
    "df = df.sample(frac=1).reset_index(drop=True)\n"
   ]
  },
  {
   "cell_type": "code",
   "execution_count": 3,
   "id": "1e036f40",
   "metadata": {
    "_cell_guid": "86420787-d432-4eaf-9bed-27078d8a1f14",
    "_uuid": "89d82bfb-ac55-4839-a48f-a99d48cffbed",
    "collapsed": false,
    "execution": {
     "iopub.execute_input": "2021-11-13T14:40:39.645700Z",
     "iopub.status.busy": "2021-11-13T14:40:39.644648Z",
     "iopub.status.idle": "2021-11-13T14:40:40.369549Z",
     "shell.execute_reply": "2021-11-13T14:40:40.368798Z",
     "shell.execute_reply.started": "2021-11-13T06:13:26.599323Z"
    },
    "jupyter": {
     "outputs_hidden": false
    },
    "papermill": {
     "duration": 0.763796,
     "end_time": "2021-11-13T14:40:40.369716",
     "exception": false,
     "start_time": "2021-11-13T14:40:39.605920",
     "status": "completed"
    },
    "tags": []
   },
   "outputs": [
    {
     "name": "stdout",
     "output_type": "stream",
     "text": [
      "[0.8271193  0.75086703 2.17774382] ['1NonCOVID' '2COVID' '3CAP']\n"
     ]
    }
   ],
   "source": [
    "cw = compute_class_weight('balanced', classes=df.labels.unique(), y=df.labels)\n",
    "print(cw, df.labels.unique())\n"
   ]
  },
  {
   "cell_type": "code",
   "execution_count": 4,
   "id": "a71ac8a6",
   "metadata": {
    "_cell_guid": "d023703c-dd35-4bc2-8387-d64f0e2a6540",
    "_uuid": "f2fdc33b-0859-40f5-ad88-6cab6ef48175",
    "collapsed": false,
    "execution": {
     "iopub.execute_input": "2021-11-13T14:40:40.421325Z",
     "iopub.status.busy": "2021-11-13T14:40:40.420318Z",
     "iopub.status.idle": "2021-11-13T14:40:41.149891Z",
     "shell.execute_reply": "2021-11-13T14:40:41.149374Z",
     "shell.execute_reply.started": "2021-11-13T06:13:26.881254Z"
    },
    "jupyter": {
     "outputs_hidden": false
    },
    "papermill": {
     "duration": 0.756906,
     "end_time": "2021-11-13T14:40:41.150080",
     "exception": false,
     "start_time": "2021-11-13T14:40:40.393174",
     "status": "completed"
    },
    "tags": []
   },
   "outputs": [],
   "source": [
    "class_weights = {2: 2.17774382, 0: 0.8271193, 1: 0.75086703}\n",
    "class_map = {'2COVID': 1, '1NonCOVID': 0, '3CAP': 2}\n"
   ]
  },
  {
   "cell_type": "code",
   "execution_count": 5,
   "id": "50c66b89",
   "metadata": {
    "_cell_guid": "941f58e4-e308-485b-a8cb-8a7f49eaf5e8",
    "_uuid": "5a540f4c-78e5-4281-856f-7cffdecdcda4",
    "collapsed": false,
    "execution": {
     "iopub.execute_input": "2021-11-13T14:40:41.223105Z",
     "iopub.status.busy": "2021-11-13T14:40:41.222001Z",
     "iopub.status.idle": "2021-11-13T14:40:42.000103Z",
     "shell.execute_reply": "2021-11-13T14:40:42.000783Z",
     "shell.execute_reply.started": "2021-11-13T06:17:40.825058Z"
    },
    "jupyter": {
     "outputs_hidden": false
    },
    "papermill": {
     "duration": 0.818155,
     "end_time": "2021-11-13T14:40:42.001045",
     "exception": false,
     "start_time": "2021-11-13T14:40:41.182890",
     "status": "completed"
    },
    "tags": []
   },
   "outputs": [],
   "source": [
    "class DataGenerator(tf.keras.utils.Sequence):\n",
    "    def __init__(self, df, batch_size=32, shuffle=True, color_mode=\"rgb\"):\n",
    "        self.batch_size = batch_size\n",
    "        self.df = df\n",
    "        self.indices = self.df.index.tolist()\n",
    "        self.shuffle = shuffle\n",
    "        self.on_epoch_end()\n",
    "        self.color_mode = color_mode\n",
    "        self.augmentor = keras.preprocessing.image.ImageDataGenerator(\n",
    "            width_shift_range=0.1,\n",
    "            height_shift_range=0.1,\n",
    "            zoom_range=0.1,\n",
    "            horizontal_flip=True,\n",
    "            brightness_range=[0, 0.2])\n",
    "\n",
    "    def __len__(self):\n",
    "        return len(self.indices) // self.batch_size\n",
    "\n",
    "    def __getitem__(self, index):\n",
    "        index = self.index[index *\n",
    "                           self.batch_size:(index + 1) *\n",
    "                           self.batch_size]\n",
    "        batch = [self.indices[k] for k in index]\n",
    "\n",
    "        X, y = self.__get_data(batch)\n",
    "        return X, y\n",
    "\n",
    "    def on_epoch_end(self):\n",
    "        self.index = numpy.arange(len(self.indices))\n",
    "        if self.shuffle == True:\n",
    "            numpy.random.shuffle(self.index)\n",
    "\n",
    "    def __get_data(self, batch):\n",
    "        X = []\n",
    "        y = []\n",
    "        for i, id in enumerate(batch):\n",
    "            img = tf.keras.preprocessing.image.load_img(\n",
    "                self.df.loc[id, 'filepath'],\n",
    "                color_mode=self.color_mode,\n",
    "                target_size=(256, 256),\n",
    "                interpolation=\"nearest\")\n",
    "            img_array = tf.keras.preprocessing.image.img_to_array(img)\n",
    "            X.append(img_array/255)\n",
    "            ylist = [0, 0, 0]\n",
    "            ylist[class_map[self.df.loc[id, 'labels']]] = 1\n",
    "            ylist = numpy.array(ylist)\n",
    "            y.append(ylist)\n",
    "        X = numpy.array(X)\n",
    "#         X = self.augmentor.flow(X, batch_size=self.batch_size, shuffle=False).next()\n",
    "        y = numpy.array(y)\n",
    "        return X, y\n"
   ]
  },
  {
   "cell_type": "code",
   "execution_count": 6,
   "id": "c12bbf47",
   "metadata": {
    "_cell_guid": "74bca715-0d41-4772-a213-b0b2b9f522a0",
    "_uuid": "6a71808b-5e1c-4840-ab67-90afe2db4918",
    "collapsed": false,
    "execution": {
     "iopub.execute_input": "2021-11-13T14:40:42.056564Z",
     "iopub.status.busy": "2021-11-13T14:40:42.055518Z",
     "iopub.status.idle": "2021-11-13T14:40:42.701717Z",
     "shell.execute_reply": "2021-11-13T14:40:42.700874Z",
     "shell.execute_reply.started": "2021-11-13T06:17:44.722982Z"
    },
    "jupyter": {
     "outputs_hidden": false
    },
    "papermill": {
     "duration": 0.677344,
     "end_time": "2021-11-13T14:40:42.701905",
     "exception": false,
     "start_time": "2021-11-13T14:40:42.024561",
     "status": "completed"
    },
    "tags": []
   },
   "outputs": [],
   "source": [
    "train_data = DataGenerator(\n",
    "    df[:13684].reset_index(drop=True), batch_size=32)  # 80%\n",
    "valid_data = DataGenerator(df[13684:15394].reset_index(\n",
    "    drop=True), batch_size=32)  # 80 - 90%\n",
    "test_data = DataGenerator(df[15394:].reset_index(\n",
    "    drop=True), shuffle=False, batch_size=32)  # 90 - 100%\n",
    "\n",
    "# train_data = DataGenerator(df[:200].reset_index(drop=True))  # 80%\n",
    "# valid_data = DataGenerator(df[200:300].reset_index(drop=True))  # 80 - 90%\n",
    "# test_data = DataGenerator(df[300:400].reset_index(drop=True), shuffle=False)  # 90 - 100%\n"
   ]
  },
  {
   "cell_type": "code",
   "execution_count": 7,
   "id": "c9d2e3db",
   "metadata": {
    "_cell_guid": "db6def2f-ef3c-4f64-a3ce-4be3c1941a59",
    "_uuid": "a10a5046-e6e9-4401-b5a7-4399b41e3c29",
    "collapsed": false,
    "execution": {
     "iopub.execute_input": "2021-11-13T14:40:42.757597Z",
     "iopub.status.busy": "2021-11-13T14:40:42.756492Z",
     "iopub.status.idle": "2021-11-13T14:40:43.478817Z",
     "shell.execute_reply": "2021-11-13T14:40:43.479738Z",
     "shell.execute_reply.started": "2021-10-30T06:39:40.375845Z"
    },
    "jupyter": {
     "outputs_hidden": false
    },
    "papermill": {
     "duration": 0.754287,
     "end_time": "2021-11-13T14:40:43.480070",
     "exception": false,
     "start_time": "2021-11-13T14:40:42.725783",
     "status": "completed"
    },
    "tags": []
   },
   "outputs": [],
   "source": [
    "def conv_block(filters, inputs):\n",
    "    # filters of size 3x3\n",
    "    x = layers.SeparableConv2D(\n",
    "        filters, 3,\n",
    "        activation=\"relu\",\n",
    "        padding=\"same\")(inputs)\n",
    "    x = layers.SeparableConv2D(\n",
    "        filters, 3,\n",
    "        activation=\"relu\",\n",
    "        padding=\"same\")(x)\n",
    "    x = layers.BatchNormalization()(x)\n",
    "    outputs = layers.MaxPool2D()(x)\n",
    "    return outputs\n",
    "\n",
    "\n",
    "def dense_block(units, dropout_rate, inputs):\n",
    "    x = layers.Dense(units, activation=\"relu\")(inputs)\n",
    "    x = layers.Dropout(dropout_rate)(x)\n",
    "    outputs = layers.BatchNormalization()(x)\n",
    "    return outputs\n"
   ]
  },
  {
   "cell_type": "code",
   "execution_count": 8,
   "id": "9692274f",
   "metadata": {
    "_cell_guid": "03dcacc8-e5bb-4967-b5d4-659aaff6e7ff",
    "_uuid": "07541d30-297e-4ebb-9e21-e69da0721241",
    "collapsed": false,
    "execution": {
     "iopub.execute_input": "2021-11-13T14:40:43.549354Z",
     "iopub.status.busy": "2021-11-13T14:40:43.548347Z",
     "iopub.status.idle": "2021-11-13T14:40:44.359929Z",
     "shell.execute_reply": "2021-11-13T14:40:44.360498Z",
     "shell.execute_reply.started": "2021-10-30T06:39:40.884899Z"
    },
    "jupyter": {
     "outputs_hidden": false
    },
    "papermill": {
     "duration": 0.849753,
     "end_time": "2021-11-13T14:40:44.360679",
     "exception": false,
     "start_time": "2021-11-13T14:40:43.510926",
     "status": "completed"
    },
    "tags": []
   },
   "outputs": [],
   "source": [
    "def build_model():\n",
    "    inputs = keras.Input(shape=(256, 256, 3))\n",
    "    x = layers.Conv2D(32, 3, activation=\"relu\", padding=\"same\")(inputs)\n",
    "    x = layers.MaxPool2D()(x)\n",
    "    x = conv_block(64, x)\n",
    "    x = conv_block(128, x)\n",
    "    x = conv_block(256, x)\n",
    "    x = conv_block(512, x)\n",
    "    x = layers.GlobalAvgPool2D()(x)\n",
    "    x = dense_block(128, 0.3, x)\n",
    "    x = dense_block(64, 0.3, x)\n",
    "    outputs = layers.Dense(3, activation=\"softmax\")(x)\n",
    "    model = keras.Model(inputs=inputs, outputs=outputs)\n",
    "    return model\n"
   ]
  },
  {
   "cell_type": "code",
   "execution_count": 9,
   "id": "5f46ba87",
   "metadata": {
    "_cell_guid": "3af4897c-d061-4705-86a1-6edf84048d2e",
    "_uuid": "3053b527-0a26-40a6-8eea-df9ffc3429f1",
    "collapsed": false,
    "execution": {
     "iopub.execute_input": "2021-11-13T14:40:44.420661Z",
     "iopub.status.busy": "2021-11-13T14:40:44.414075Z",
     "iopub.status.idle": "2021-11-13T14:40:45.243702Z",
     "shell.execute_reply": "2021-11-13T14:40:45.244286Z",
     "shell.execute_reply.started": "2021-10-30T06:39:41.444844Z"
    },
    "jupyter": {
     "outputs_hidden": false
    },
    "papermill": {
     "duration": 0.861255,
     "end_time": "2021-11-13T14:40:45.244491",
     "exception": false,
     "start_time": "2021-11-13T14:40:44.383236",
     "status": "completed"
    },
    "tags": []
   },
   "outputs": [],
   "source": [
    "initial_learning_rate = 0.015\n",
    "epochs = 100\n",
    "model_name = \"Custom_v26.h5\"\n",
    "patience = 10\n",
    "decay_steps = 100000\n",
    "decay_rate = 0.96\n",
    "batch_size = 32\n",
    "# easy sweep 10 | sweep = custom cnn 0.8125\n",
    "lr_schedule = tf.keras.optimizers.schedules.ExponentialDecay(\n",
    "    initial_learning_rate,\n",
    "    decay_steps=decay_steps,\n",
    "    decay_rate=decay_rate,\n",
    "    staircase=True)\n",
    "checkpoint_cb = tf.keras.callbacks.ModelCheckpoint(\n",
    "    model_name,\n",
    "    save_best_only=True)\n",
    "early_stopping_cb = tf.keras.callbacks.EarlyStopping(\n",
    "    monitor='val_loss',\n",
    "    mode='min',\n",
    "    patience=patience,\n",
    "    restore_best_weights=True)\n"
   ]
  },
  {
   "cell_type": "code",
   "execution_count": 10,
   "id": "d71063a5",
   "metadata": {
    "_cell_guid": "94ed4b6e-d040-4d9e-b667-8bdc22719153",
    "_uuid": "352fff23-6094-412a-8c46-c02a1bbcde9c",
    "collapsed": false,
    "execution": {
     "iopub.execute_input": "2021-11-13T14:40:45.300426Z",
     "iopub.status.busy": "2021-11-13T14:40:45.299327Z",
     "iopub.status.idle": "2021-11-13T14:40:46.231534Z",
     "shell.execute_reply": "2021-11-13T14:40:46.232466Z",
     "shell.execute_reply.started": "2021-10-30T06:39:42.858247Z"
    },
    "jupyter": {
     "outputs_hidden": false
    },
    "papermill": {
     "duration": 0.964639,
     "end_time": "2021-11-13T14:40:46.232707",
     "exception": false,
     "start_time": "2021-11-13T14:40:45.268068",
     "status": "completed"
    },
    "tags": []
   },
   "outputs": [],
   "source": [
    "config.class_weights = class_weights\n",
    "config.class_map = class_map\n",
    "config.initial_learning_rate = initial_learning_rate\n",
    "config.epochs = epochs\n",
    "config.model_name = model_name\n",
    "config.patience = patience\n",
    "config.decay_steps = decay_steps\n",
    "config.decay_rate = decay_rate\n",
    "config.batch_size = batch_size\n"
   ]
  },
  {
   "cell_type": "code",
   "execution_count": 11,
   "id": "9f2a48a8",
   "metadata": {
    "_cell_guid": "271759c1-5c9b-4b3a-bdfa-16c59f286164",
    "_uuid": "0d59b226-ba57-4fc5-8efe-950b96a23bcd",
    "collapsed": false,
    "execution": {
     "iopub.execute_input": "2021-11-13T14:40:46.290076Z",
     "iopub.status.busy": "2021-11-13T14:40:46.286006Z",
     "iopub.status.idle": "2021-11-13T16:24:49.372524Z",
     "shell.execute_reply": "2021-11-13T16:24:49.373279Z",
     "shell.execute_reply.started": "2021-10-30T06:39:43.428325Z"
    },
    "jupyter": {
     "outputs_hidden": false
    },
    "papermill": {
     "duration": 6243.117305,
     "end_time": "2021-11-13T16:24:49.373554",
     "exception": false,
     "start_time": "2021-11-13T14:40:46.256249",
     "status": "completed"
    },
    "tags": []
   },
   "outputs": [
    {
     "name": "stderr",
     "output_type": "stream",
     "text": [
      "2021-11-13 14:40:46.314721: I tensorflow/compiler/jit/xla_cpu_device.cc:41] Not creating XLA devices, tf_xla_enable_xla_devices not set\n",
      "2021-11-13 14:40:46.319398: I tensorflow/stream_executor/platform/default/dso_loader.cc:49] Successfully opened dynamic library libcuda.so.1\n",
      "2021-11-13 14:40:46.366934: I tensorflow/stream_executor/cuda/cuda_gpu_executor.cc:941] successful NUMA node read from SysFS had negative value (-1), but there must be at least one NUMA node, so returning NUMA node zero\n",
      "2021-11-13 14:40:46.368130: I tensorflow/core/common_runtime/gpu/gpu_device.cc:1720] Found device 0 with properties: \n",
      "pciBusID: 0000:00:04.0 name: Tesla P100-PCIE-16GB computeCapability: 6.0\n",
      "coreClock: 1.3285GHz coreCount: 56 deviceMemorySize: 15.90GiB deviceMemoryBandwidth: 681.88GiB/s\n",
      "2021-11-13 14:40:46.368236: I tensorflow/stream_executor/platform/default/dso_loader.cc:49] Successfully opened dynamic library libcudart.so.11.0\n",
      "2021-11-13 14:40:46.398853: I tensorflow/stream_executor/platform/default/dso_loader.cc:49] Successfully opened dynamic library libcublas.so.11\n",
      "2021-11-13 14:40:46.398954: I tensorflow/stream_executor/platform/default/dso_loader.cc:49] Successfully opened dynamic library libcublasLt.so.11\n",
      "2021-11-13 14:40:46.417471: I tensorflow/stream_executor/platform/default/dso_loader.cc:49] Successfully opened dynamic library libcufft.so.10\n",
      "2021-11-13 14:40:46.427552: I tensorflow/stream_executor/platform/default/dso_loader.cc:49] Successfully opened dynamic library libcurand.so.10\n",
      "2021-11-13 14:40:46.458124: I tensorflow/stream_executor/platform/default/dso_loader.cc:49] Successfully opened dynamic library libcusolver.so.10\n",
      "2021-11-13 14:40:46.467439: I tensorflow/stream_executor/platform/default/dso_loader.cc:49] Successfully opened dynamic library libcusparse.so.11\n",
      "2021-11-13 14:40:46.471980: I tensorflow/stream_executor/platform/default/dso_loader.cc:49] Successfully opened dynamic library libcudnn.so.8\n",
      "2021-11-13 14:40:46.472227: I tensorflow/stream_executor/cuda/cuda_gpu_executor.cc:941] successful NUMA node read from SysFS had negative value (-1), but there must be at least one NUMA node, so returning NUMA node zero\n",
      "2021-11-13 14:40:46.473284: I tensorflow/stream_executor/cuda/cuda_gpu_executor.cc:941] successful NUMA node read from SysFS had negative value (-1), but there must be at least one NUMA node, so returning NUMA node zero\n",
      "2021-11-13 14:40:46.475185: I tensorflow/core/common_runtime/gpu/gpu_device.cc:1862] Adding visible gpu devices: 0\n",
      "2021-11-13 14:40:46.475836: I tensorflow/core/platform/cpu_feature_guard.cc:142] This TensorFlow binary is optimized with oneAPI Deep Neural Network Library (oneDNN) to use the following CPU instructions in performance-critical operations:  AVX2 FMA\n",
      "To enable them in other operations, rebuild TensorFlow with the appropriate compiler flags.\n",
      "2021-11-13 14:40:46.476145: I tensorflow/compiler/jit/xla_gpu_device.cc:99] Not creating XLA devices, tf_xla_enable_xla_devices not set\n",
      "2021-11-13 14:40:46.476313: I tensorflow/stream_executor/cuda/cuda_gpu_executor.cc:941] successful NUMA node read from SysFS had negative value (-1), but there must be at least one NUMA node, so returning NUMA node zero\n",
      "2021-11-13 14:40:46.477315: I tensorflow/core/common_runtime/gpu/gpu_device.cc:1720] Found device 0 with properties: \n",
      "pciBusID: 0000:00:04.0 name: Tesla P100-PCIE-16GB computeCapability: 6.0\n",
      "coreClock: 1.3285GHz coreCount: 56 deviceMemorySize: 15.90GiB deviceMemoryBandwidth: 681.88GiB/s\n",
      "2021-11-13 14:40:46.477369: I tensorflow/stream_executor/platform/default/dso_loader.cc:49] Successfully opened dynamic library libcudart.so.11.0\n",
      "2021-11-13 14:40:46.477424: I tensorflow/stream_executor/platform/default/dso_loader.cc:49] Successfully opened dynamic library libcublas.so.11\n",
      "2021-11-13 14:40:46.477477: I tensorflow/stream_executor/platform/default/dso_loader.cc:49] Successfully opened dynamic library libcublasLt.so.11\n",
      "2021-11-13 14:40:46.477511: I tensorflow/stream_executor/platform/default/dso_loader.cc:49] Successfully opened dynamic library libcufft.so.10\n",
      "2021-11-13 14:40:46.477546: I tensorflow/stream_executor/platform/default/dso_loader.cc:49] Successfully opened dynamic library libcurand.so.10\n",
      "2021-11-13 14:40:46.477580: I tensorflow/stream_executor/platform/default/dso_loader.cc:49] Successfully opened dynamic library libcusolver.so.10\n",
      "2021-11-13 14:40:46.477617: I tensorflow/stream_executor/platform/default/dso_loader.cc:49] Successfully opened dynamic library libcusparse.so.11\n",
      "2021-11-13 14:40:46.477652: I tensorflow/stream_executor/platform/default/dso_loader.cc:49] Successfully opened dynamic library libcudnn.so.8\n",
      "2021-11-13 14:40:46.477802: I tensorflow/stream_executor/cuda/cuda_gpu_executor.cc:941] successful NUMA node read from SysFS had negative value (-1), but there must be at least one NUMA node, so returning NUMA node zero\n",
      "2021-11-13 14:40:46.478837: I tensorflow/stream_executor/cuda/cuda_gpu_executor.cc:941] successful NUMA node read from SysFS had negative value (-1), but there must be at least one NUMA node, so returning NUMA node zero\n",
      "2021-11-13 14:40:46.479778: I tensorflow/core/common_runtime/gpu/gpu_device.cc:1862] Adding visible gpu devices: 0\n",
      "2021-11-13 14:40:46.480561: I tensorflow/stream_executor/platform/default/dso_loader.cc:49] Successfully opened dynamic library libcudart.so.11.0\n",
      "2021-11-13 14:40:48.283677: I tensorflow/core/common_runtime/gpu/gpu_device.cc:1261] Device interconnect StreamExecutor with strength 1 edge matrix:\n",
      "2021-11-13 14:40:48.283729: I tensorflow/core/common_runtime/gpu/gpu_device.cc:1267]      0 \n",
      "2021-11-13 14:40:48.283741: I tensorflow/core/common_runtime/gpu/gpu_device.cc:1280] 0:   N \n",
      "2021-11-13 14:40:48.286538: I tensorflow/stream_executor/cuda/cuda_gpu_executor.cc:941] successful NUMA node read from SysFS had negative value (-1), but there must be at least one NUMA node, so returning NUMA node zero\n",
      "2021-11-13 14:40:48.287589: I tensorflow/stream_executor/cuda/cuda_gpu_executor.cc:941] successful NUMA node read from SysFS had negative value (-1), but there must be at least one NUMA node, so returning NUMA node zero\n",
      "2021-11-13 14:40:48.288671: I tensorflow/stream_executor/cuda/cuda_gpu_executor.cc:941] successful NUMA node read from SysFS had negative value (-1), but there must be at least one NUMA node, so returning NUMA node zero\n",
      "2021-11-13 14:40:48.289602: I tensorflow/core/common_runtime/gpu/gpu_device.cc:1406] Created TensorFlow device (/job:localhost/replica:0/task:0/device:GPU:0 with 14957 MB memory) -> physical GPU (device: 0, name: Tesla P100-PCIE-16GB, pci bus id: 0000:00:04.0, compute capability: 6.0)\n"
     ]
    },
    {
     "name": "stdout",
     "output_type": "stream",
     "text": [
      "Model: \"model\"\n",
      "_________________________________________________________________\n",
      "Layer (type)                 Output Shape              Param #   \n",
      "=================================================================\n",
      "input_1 (InputLayer)         [(None, 256, 256, 3)]     0         \n",
      "_________________________________________________________________\n",
      "conv2d (Conv2D)              (None, 256, 256, 32)      896       \n",
      "_________________________________________________________________\n",
      "max_pooling2d (MaxPooling2D) (None, 128, 128, 32)      0         \n",
      "_________________________________________________________________\n",
      "separable_conv2d (SeparableC (None, 128, 128, 64)      2400      \n",
      "_________________________________________________________________\n",
      "separable_conv2d_1 (Separabl (None, 128, 128, 64)      4736      \n",
      "_________________________________________________________________\n",
      "batch_normalization (BatchNo (None, 128, 128, 64)      256       \n",
      "_________________________________________________________________\n",
      "max_pooling2d_1 (MaxPooling2 (None, 64, 64, 64)        0         \n",
      "_________________________________________________________________\n",
      "separable_conv2d_2 (Separabl (None, 64, 64, 128)       8896      \n",
      "_________________________________________________________________\n",
      "separable_conv2d_3 (Separabl (None, 64, 64, 128)       17664     \n",
      "_________________________________________________________________\n",
      "batch_normalization_1 (Batch (None, 64, 64, 128)       512       \n",
      "_________________________________________________________________\n",
      "max_pooling2d_2 (MaxPooling2 (None, 32, 32, 128)       0         \n",
      "_________________________________________________________________\n",
      "separable_conv2d_4 (Separabl (None, 32, 32, 256)       34176     \n",
      "_________________________________________________________________\n",
      "separable_conv2d_5 (Separabl (None, 32, 32, 256)       68096     \n",
      "_________________________________________________________________\n",
      "batch_normalization_2 (Batch (None, 32, 32, 256)       1024      \n",
      "_________________________________________________________________\n",
      "max_pooling2d_3 (MaxPooling2 (None, 16, 16, 256)       0         \n",
      "_________________________________________________________________\n",
      "separable_conv2d_6 (Separabl (None, 16, 16, 512)       133888    \n",
      "_________________________________________________________________\n",
      "separable_conv2d_7 (Separabl (None, 16, 16, 512)       267264    \n",
      "_________________________________________________________________\n",
      "batch_normalization_3 (Batch (None, 16, 16, 512)       2048      \n",
      "_________________________________________________________________\n",
      "max_pooling2d_4 (MaxPooling2 (None, 8, 8, 512)         0         \n",
      "_________________________________________________________________\n",
      "global_average_pooling2d (Gl (None, 512)               0         \n",
      "_________________________________________________________________\n",
      "dense (Dense)                (None, 128)               65664     \n",
      "_________________________________________________________________\n",
      "dropout (Dropout)            (None, 128)               0         \n",
      "_________________________________________________________________\n",
      "batch_normalization_4 (Batch (None, 128)               512       \n",
      "_________________________________________________________________\n",
      "dense_1 (Dense)              (None, 64)                8256      \n",
      "_________________________________________________________________\n",
      "dropout_1 (Dropout)          (None, 64)                0         \n",
      "_________________________________________________________________\n",
      "batch_normalization_5 (Batch (None, 64)                256       \n",
      "_________________________________________________________________\n",
      "dense_2 (Dense)              (None, 3)                 195       \n",
      "=================================================================\n",
      "Total params: 616,739\n",
      "Trainable params: 614,435\n",
      "Non-trainable params: 2,304\n",
      "_________________________________________________________________\n"
     ]
    },
    {
     "name": "stderr",
     "output_type": "stream",
     "text": [
      "2021-11-13 14:40:49.731167: I tensorflow/compiler/mlir/mlir_graph_optimization_pass.cc:116] None of the MLIR optimization passes are enabled (registered 2)\n",
      "2021-11-13 14:40:49.735467: I tensorflow/core/platform/profile_utils/cpu_utils.cc:112] CPU Frequency: 2199995000 Hz\n"
     ]
    },
    {
     "name": "stdout",
     "output_type": "stream",
     "text": [
      "Epoch 1/100\n"
     ]
    },
    {
     "name": "stderr",
     "output_type": "stream",
     "text": [
      "2021-11-13 14:40:52.189945: I tensorflow/stream_executor/platform/default/dso_loader.cc:49] Successfully opened dynamic library libcublas.so.11\n",
      "2021-11-13 14:40:53.349509: I tensorflow/stream_executor/platform/default/dso_loader.cc:49] Successfully opened dynamic library libcublasLt.so.11\n",
      "2021-11-13 14:40:53.402085: I tensorflow/stream_executor/platform/default/dso_loader.cc:49] Successfully opened dynamic library libcudnn.so.8\n"
     ]
    },
    {
     "name": "stdout",
     "output_type": "stream",
     "text": [
      "427/427 [==============================] - 160s 351ms/step - loss: 0.9371 - accuracy: 0.5218 - precision: 0.5794 - recall: 0.4125 - val_loss: 1.6292 - val_accuracy: 0.3037 - val_precision: 0.2359 - val_recall: 0.1633\n",
      "Epoch 2/100\n",
      "427/427 [==============================] - 123s 286ms/step - loss: 0.6787 - accuracy: 0.7037 - precision: 0.7480 - recall: 0.6265 - val_loss: 8.6515 - val_accuracy: 0.2824 - val_precision: 0.2824 - val_recall: 0.2824\n",
      "Epoch 3/100\n",
      "427/427 [==============================] - 124s 288ms/step - loss: 0.6305 - accuracy: 0.7366 - precision: 0.7757 - recall: 0.6764 - val_loss: 1.8795 - val_accuracy: 0.5666 - val_precision: 0.5685 - val_recall: 0.5625\n",
      "Epoch 4/100\n",
      "427/427 [==============================] - 122s 285ms/step - loss: 0.5762 - accuracy: 0.7609 - precision: 0.7852 - recall: 0.7263 - val_loss: 1.3394 - val_accuracy: 0.5389 - val_precision: 0.5399 - val_recall: 0.5389\n",
      "Epoch 5/100\n",
      "427/427 [==============================] - 122s 285ms/step - loss: 0.5228 - accuracy: 0.7714 - precision: 0.7913 - recall: 0.7465 - val_loss: 0.5750 - val_accuracy: 0.7500 - val_precision: 0.7821 - val_recall: 0.7176\n",
      "Epoch 6/100\n",
      "427/427 [==============================] - 119s 279ms/step - loss: 0.4581 - accuracy: 0.7957 - precision: 0.8133 - recall: 0.7748 - val_loss: 0.7457 - val_accuracy: 0.5914 - val_precision: 0.6114 - val_recall: 0.5743\n",
      "Epoch 7/100\n",
      "427/427 [==============================] - 119s 279ms/step - loss: 0.4345 - accuracy: 0.8117 - precision: 0.8248 - recall: 0.7967 - val_loss: 0.4894 - val_accuracy: 0.8048 - val_precision: 0.8109 - val_recall: 0.7989\n",
      "Epoch 8/100\n",
      "427/427 [==============================] - 119s 279ms/step - loss: 0.4092 - accuracy: 0.8137 - precision: 0.8268 - recall: 0.8008 - val_loss: 0.5211 - val_accuracy: 0.8037 - val_precision: 0.8092 - val_recall: 0.7978\n",
      "Epoch 9/100\n",
      "427/427 [==============================] - 117s 272ms/step - loss: 0.3534 - accuracy: 0.8486 - precision: 0.8566 - recall: 0.8397 - val_loss: 0.5636 - val_accuracy: 0.7759 - val_precision: 0.7782 - val_recall: 0.7718\n",
      "Epoch 10/100\n",
      "427/427 [==============================] - 118s 277ms/step - loss: 0.3263 - accuracy: 0.8624 - precision: 0.8680 - recall: 0.8551 - val_loss: 0.3695 - val_accuracy: 0.8603 - val_precision: 0.8628 - val_recall: 0.8567\n",
      "Epoch 11/100\n",
      "427/427 [==============================] - 119s 278ms/step - loss: 0.2859 - accuracy: 0.8778 - precision: 0.8843 - recall: 0.8724 - val_loss: 0.7710 - val_accuracy: 0.7370 - val_precision: 0.7380 - val_recall: 0.7358\n",
      "Epoch 12/100\n",
      "427/427 [==============================] - 119s 278ms/step - loss: 0.3750 - accuracy: 0.8431 - precision: 0.8522 - recall: 0.8303 - val_loss: 0.4682 - val_accuracy: 0.7170 - val_precision: 0.7238 - val_recall: 0.7093\n",
      "Epoch 13/100\n",
      "427/427 [==============================] - 115s 270ms/step - loss: 0.3945 - accuracy: 0.8301 - precision: 0.8450 - recall: 0.8156 - val_loss: 1.0618 - val_accuracy: 0.5136 - val_precision: 0.5471 - val_recall: 0.4935\n",
      "Epoch 14/100\n",
      "427/427 [==============================] - 120s 280ms/step - loss: 0.3500 - accuracy: 0.8440 - precision: 0.8521 - recall: 0.8355 - val_loss: 0.4676 - val_accuracy: 0.8502 - val_precision: 0.8577 - val_recall: 0.8461\n",
      "Epoch 15/100\n",
      "427/427 [==============================] - 117s 273ms/step - loss: 0.2766 - accuracy: 0.8810 - precision: 0.8853 - recall: 0.8759 - val_loss: 0.3857 - val_accuracy: 0.8361 - val_precision: 0.8414 - val_recall: 0.8290\n",
      "Epoch 16/100\n",
      "427/427 [==============================] - 117s 273ms/step - loss: 0.2496 - accuracy: 0.8905 - precision: 0.8944 - recall: 0.8852 - val_loss: 0.3427 - val_accuracy: 0.8632 - val_precision: 0.8641 - val_recall: 0.8620\n",
      "Epoch 17/100\n",
      "427/427 [==============================] - 117s 273ms/step - loss: 0.2294 - accuracy: 0.9050 - precision: 0.9073 - recall: 0.9019 - val_loss: 0.5860 - val_accuracy: 0.7795 - val_precision: 0.7801 - val_recall: 0.7783\n",
      "Epoch 18/100\n",
      "427/427 [==============================] - 118s 276ms/step - loss: 0.2055 - accuracy: 0.9091 - precision: 0.9112 - recall: 0.9074 - val_loss: 0.2512 - val_accuracy: 0.9068 - val_precision: 0.9077 - val_recall: 0.9051\n",
      "Epoch 19/100\n",
      "427/427 [==============================] - 118s 276ms/step - loss: 0.2291 - accuracy: 0.9024 - precision: 0.9043 - recall: 0.8991 - val_loss: 0.5441 - val_accuracy: 0.8231 - val_precision: 0.8298 - val_recall: 0.8166\n",
      "Epoch 20/100\n",
      "427/427 [==============================] - 120s 278ms/step - loss: 0.1975 - accuracy: 0.9164 - precision: 0.9184 - recall: 0.9146 - val_loss: 0.2182 - val_accuracy: 0.9051 - val_precision: 0.9055 - val_recall: 0.9045\n",
      "Epoch 21/100\n",
      "427/427 [==============================] - 118s 275ms/step - loss: 0.2012 - accuracy: 0.9128 - precision: 0.9145 - recall: 0.9105 - val_loss: 0.3368 - val_accuracy: 0.8809 - val_precision: 0.8826 - val_recall: 0.8774\n",
      "Epoch 22/100\n",
      "427/427 [==============================] - 120s 280ms/step - loss: 0.1549 - accuracy: 0.9301 - precision: 0.9311 - recall: 0.9282 - val_loss: 0.3257 - val_accuracy: 0.8809 - val_precision: 0.8808 - val_recall: 0.8803\n",
      "Epoch 23/100\n",
      "427/427 [==============================] - 117s 273ms/step - loss: 0.1426 - accuracy: 0.9371 - precision: 0.9376 - recall: 0.9362 - val_loss: 0.7447 - val_accuracy: 0.8284 - val_precision: 0.8308 - val_recall: 0.8278\n",
      "Epoch 24/100\n",
      "427/427 [==============================] - 118s 275ms/step - loss: 0.1687 - accuracy: 0.9311 - precision: 0.9320 - recall: 0.9289 - val_loss: 63.8281 - val_accuracy: 0.9304 - val_precision: 0.9336 - val_recall: 0.9287\n",
      "Epoch 25/100\n",
      "427/427 [==============================] - 118s 274ms/step - loss: 0.1738 - accuracy: 0.9232 - precision: 0.9245 - recall: 0.9218 - val_loss: 1.3224 - val_accuracy: 0.8131 - val_precision: 0.8129 - val_recall: 0.8119\n",
      "Epoch 26/100\n",
      "427/427 [==============================] - 117s 275ms/step - loss: 0.1284 - accuracy: 0.9412 - precision: 0.9425 - recall: 0.9396 - val_loss: 0.2728 - val_accuracy: 0.9340 - val_precision: 0.9345 - val_recall: 0.9340\n",
      "Epoch 27/100\n",
      "427/427 [==============================] - 117s 272ms/step - loss: 0.1296 - accuracy: 0.9432 - precision: 0.9434 - recall: 0.9426 - val_loss: 0.7795 - val_accuracy: 0.7370 - val_precision: 0.7417 - val_recall: 0.7347\n",
      "Epoch 28/100\n",
      "427/427 [==============================] - 120s 280ms/step - loss: 0.1559 - accuracy: 0.9301 - precision: 0.9320 - recall: 0.9286 - val_loss: 36.3515 - val_accuracy: 0.9522 - val_precision: 0.9522 - val_recall: 0.9522\n",
      "Epoch 29/100\n",
      "427/427 [==============================] - 117s 272ms/step - loss: 0.1056 - accuracy: 0.9548 - precision: 0.9556 - recall: 0.9543 - val_loss: 0.1436 - val_accuracy: 0.9458 - val_precision: 0.9458 - val_recall: 0.9458\n",
      "Epoch 30/100\n",
      "427/427 [==============================] - 117s 274ms/step - loss: 0.0979 - accuracy: 0.9559 - precision: 0.9559 - recall: 0.9553 - val_loss: 0.1629 - val_accuracy: 0.9410 - val_precision: 0.9410 - val_recall: 0.9410\n",
      "Epoch 31/100\n",
      "427/427 [==============================] - 116s 271ms/step - loss: 0.1124 - accuracy: 0.9542 - precision: 0.9555 - recall: 0.9539 - val_loss: 0.0992 - val_accuracy: 0.9682 - val_precision: 0.9682 - val_recall: 0.9682\n",
      "Epoch 32/100\n",
      "427/427 [==============================] - 121s 282ms/step - loss: 0.1450 - accuracy: 0.9414 - precision: 0.9434 - recall: 0.9401 - val_loss: 1.2743 - val_accuracy: 0.8267 - val_precision: 0.8267 - val_recall: 0.8267\n",
      "Epoch 33/100\n",
      "427/427 [==============================] - 117s 274ms/step - loss: 0.1381 - accuracy: 0.9411 - precision: 0.9419 - recall: 0.9405 - val_loss: 0.3477 - val_accuracy: 0.9387 - val_precision: 0.9386 - val_recall: 0.9369\n",
      "Epoch 34/100\n",
      "427/427 [==============================] - 120s 281ms/step - loss: 0.0985 - accuracy: 0.9597 - precision: 0.9601 - recall: 0.9595 - val_loss: 162.1462 - val_accuracy: 0.8833 - val_precision: 0.8891 - val_recall: 0.8791\n",
      "Epoch 35/100\n",
      "427/427 [==============================] - 118s 275ms/step - loss: 0.0708 - accuracy: 0.9696 - precision: 0.9699 - recall: 0.9693 - val_loss: 0.1183 - val_accuracy: 0.9558 - val_precision: 0.9558 - val_recall: 0.9558\n",
      "Epoch 36/100\n",
      "427/427 [==============================] - 119s 278ms/step - loss: 0.0689 - accuracy: 0.9702 - precision: 0.9705 - recall: 0.9701 - val_loss: 0.3992 - val_accuracy: 0.9587 - val_precision: 0.9587 - val_recall: 0.9581\n",
      "Epoch 37/100\n",
      "427/427 [==============================] - 118s 276ms/step - loss: 0.0876 - accuracy: 0.9633 - precision: 0.9640 - recall: 0.9631 - val_loss: 0.0803 - val_accuracy: 0.9699 - val_precision: 0.9699 - val_recall: 0.9699\n",
      "Epoch 38/100\n",
      "427/427 [==============================] - 118s 275ms/step - loss: 0.0754 - accuracy: 0.9688 - precision: 0.9695 - recall: 0.9682 - val_loss: 0.1316 - val_accuracy: 0.9629 - val_precision: 0.9629 - val_recall: 0.9629\n",
      "Epoch 39/100\n",
      "427/427 [==============================] - 119s 278ms/step - loss: 0.0879 - accuracy: 0.9659 - precision: 0.9664 - recall: 0.9650 - val_loss: 0.1751 - val_accuracy: 0.9487 - val_precision: 0.9487 - val_recall: 0.9487\n",
      "Epoch 40/100\n",
      "427/427 [==============================] - 120s 281ms/step - loss: 0.0685 - accuracy: 0.9741 - precision: 0.9743 - recall: 0.9738 - val_loss: 0.6679 - val_accuracy: 0.9652 - val_precision: 0.9652 - val_recall: 0.9652\n",
      "Epoch 41/100\n",
      "427/427 [==============================] - 119s 279ms/step - loss: 0.0705 - accuracy: 0.9741 - precision: 0.9743 - recall: 0.9739 - val_loss: 0.1257 - val_accuracy: 0.9611 - val_precision: 0.9611 - val_recall: 0.9605\n",
      "Epoch 42/100\n",
      "427/427 [==============================] - 118s 275ms/step - loss: 0.0548 - accuracy: 0.9783 - precision: 0.9787 - recall: 0.9777 - val_loss: 0.0688 - val_accuracy: 0.9746 - val_precision: 0.9746 - val_recall: 0.9746\n",
      "Epoch 43/100\n",
      "427/427 [==============================] - 122s 283ms/step - loss: 0.0560 - accuracy: 0.9765 - precision: 0.9767 - recall: 0.9762 - val_loss: 0.1047 - val_accuracy: 0.9688 - val_precision: 0.9688 - val_recall: 0.9688\n",
      "Epoch 44/100\n",
      "427/427 [==============================] - 119s 278ms/step - loss: 0.0618 - accuracy: 0.9745 - precision: 0.9751 - recall: 0.9743 - val_loss: 0.1523 - val_accuracy: 0.9682 - val_precision: 0.9687 - val_recall: 0.9676\n",
      "Epoch 45/100\n",
      "427/427 [==============================] - 120s 279ms/step - loss: 0.0372 - accuracy: 0.9851 - precision: 0.9853 - recall: 0.9850 - val_loss: 175.3108 - val_accuracy: 0.9469 - val_precision: 0.9469 - val_recall: 0.9469\n",
      "Epoch 46/100\n",
      "427/427 [==============================] - 120s 280ms/step - loss: 0.0415 - accuracy: 0.9833 - precision: 0.9833 - recall: 0.9831 - val_loss: 0.1394 - val_accuracy: 0.9634 - val_precision: 0.9634 - val_recall: 0.9634\n",
      "Epoch 47/100\n",
      "427/427 [==============================] - 121s 282ms/step - loss: 0.0463 - accuracy: 0.9808 - precision: 0.9809 - recall: 0.9808 - val_loss: 0.0947 - val_accuracy: 0.9729 - val_precision: 0.9729 - val_recall: 0.9729\n",
      "Epoch 48/100\n",
      "427/427 [==============================] - 123s 286ms/step - loss: 0.0448 - accuracy: 0.9814 - precision: 0.9817 - recall: 0.9814 - val_loss: 2.1941 - val_accuracy: 0.8886 - val_precision: 0.8885 - val_recall: 0.8880\n",
      "Epoch 49/100\n",
      "427/427 [==============================] - 118s 276ms/step - loss: 0.0387 - accuracy: 0.9837 - precision: 0.9838 - recall: 0.9835 - val_loss: 0.1393 - val_accuracy: 0.9646 - val_precision: 0.9646 - val_recall: 0.9646\n",
      "Epoch 50/100\n",
      "427/427 [==============================] - 120s 281ms/step - loss: 0.0399 - accuracy: 0.9841 - precision: 0.9844 - recall: 0.9840 - val_loss: 0.4613 - val_accuracy: 0.8620 - val_precision: 0.8620 - val_recall: 0.8620\n",
      "Epoch 51/100\n",
      "427/427 [==============================] - 120s 281ms/step - loss: 0.0573 - accuracy: 0.9785 - precision: 0.9791 - recall: 0.9778 - val_loss: 0.3641 - val_accuracy: 0.9676 - val_precision: 0.9676 - val_recall: 0.9670\n",
      "Epoch 52/100\n",
      "427/427 [==============================] - 120s 281ms/step - loss: 0.0292 - accuracy: 0.9882 - precision: 0.9882 - recall: 0.9881 - val_loss: 1.7934 - val_accuracy: 0.9705 - val_precision: 0.9711 - val_recall: 0.9705\n"
     ]
    }
   ],
   "source": [
    "model = build_model()\n",
    "wandb.log({'model_summary': model.summary()})\n",
    "METRICS = [\n",
    "    tf.keras.metrics.CategoricalAccuracy(name=\"accuracy\"),\n",
    "    tf.keras.metrics.Precision(name=\"precision\"),\n",
    "    tf.keras.metrics.Recall(name=\"recall\"),\n",
    "]\n",
    "\n",
    "model.compile(\n",
    "    optimizer=tf.keras.optimizers.Adam(learning_rate=lr_schedule),\n",
    "    loss=tf.keras.losses.CategoricalCrossentropy(),\n",
    "    metrics=METRICS\n",
    ")\n",
    "\n",
    "history = model.fit(\n",
    "    train_data,\n",
    "    epochs=epochs,\n",
    "    class_weight=class_weights,\n",
    "    verbose=1,\n",
    "    validation_data=valid_data,\n",
    "    workers=2,\n",
    "    callbacks=[checkpoint_cb, early_stopping_cb, WandbCallback()],\n",
    ")\n"
   ]
  },
  {
   "cell_type": "markdown",
   "id": "fbcf0efe",
   "metadata": {
    "papermill": {
     "duration": 7.907643,
     "end_time": "2021-11-13T16:25:05.972654",
     "exception": false,
     "start_time": "2021-11-13T16:24:58.065011",
     "status": "completed"
    },
    "tags": []
   },
   "source": [
    "## Hyper parameter Tuning\n"
   ]
  },
  {
   "cell_type": "code",
   "execution_count": 12,
   "id": "818c4937",
   "metadata": {
    "_kg_hide-input": true,
    "execution": {
     "iopub.execute_input": "2021-11-13T16:25:21.290522Z",
     "iopub.status.busy": "2021-11-13T16:25:21.284317Z",
     "iopub.status.idle": "2021-11-13T16:25:22.129747Z",
     "shell.execute_reply": "2021-11-13T16:25:22.128999Z",
     "shell.execute_reply.started": "2021-10-30T06:39:44.15943Z"
    },
    "papermill": {
     "duration": 8.628319,
     "end_time": "2021-11-13T16:25:22.129894",
     "exception": false,
     "start_time": "2021-11-13T16:25:13.501575",
     "status": "completed"
    },
    "tags": []
   },
   "outputs": [],
   "source": [
    "# sweep_config = {\n",
    "#   \"name\" : \"custom_cnn sweep\",\n",
    "#   \"method\" : \"random\",\n",
    "#   \"parameters\" : {\n",
    "#     \"epochs\" : {\n",
    "#       \"min\" : 25,\n",
    "#       \"max\" : 100\n",
    "#     },\n",
    "#     \"learning_rate\" :{\n",
    "#       \"min\": 0.00001,\n",
    "#       \"max\": 0.1\n",
    "#     },\n",
    "#     \"batch_size\":{\n",
    "#         \"values\":[2,4,8,16,32,64,128,256]\n",
    "#     },\n",
    "#     \"decay_steps\":{\n",
    "#         \"min\":100,\n",
    "#         \"max\":100000\n",
    "#     },\n",
    "#     \"decay_rate\":{\n",
    "#         \"min\":0.7,\n",
    "#         \"max\":0.96\n",
    "#     },\n",
    "#   },\n",
    "#   \"metric\":{\n",
    "#       \"name\":\"valid_accuracy\",\n",
    "#       \"goal\":\"maximize\"\n",
    "#   }\n",
    "# }\n",
    "\n",
    "# sweep_id = wandb.sweep(sweep_config)\n",
    "# i = 0\n",
    "# def train():\n",
    "#     global i\n",
    "#     i += 1\n",
    "#     with wandb.init(project='covid19', entity='ashuto7h') as run:\n",
    "#         config = run.config\n",
    "#         train_data = DataGenerator(df[:9000].reset_index(drop=True),batch_size=config.batch_size)  # 80%\n",
    "#         valid_data = DataGenerator(df[9000:11000].reset_index(drop=True),batch_size=config.batch_size)  # 80 - 90%\n",
    "#         lr_schedule = tf.keras.optimizers.schedules.ExponentialDecay(\n",
    "#             config.learning_rate,\n",
    "#             decay_steps=config.decay_steps,\n",
    "#             decay_rate=config.decay_rate,\n",
    "#             staircase=True)\n",
    "#         checkpoint_cb = tf.keras.callbacks.ModelCheckpoint(\n",
    "#             f'custom_sweep_{i}',\n",
    "#             save_best_only=True)\n",
    "#         early_stopping_cb = tf.keras.callbacks.EarlyStopping(\n",
    "#             patience=10,\n",
    "#             restore_best_weights=True)\n",
    "#         history = model.fit(\n",
    "#             train_data,\n",
    "#             epochs=config.epochs,\n",
    "#             class_weight=class_weights,\n",
    "#             verbose=0,\n",
    "#             validation_data=valid_data,\n",
    "#             workers=2,\n",
    "#             callbacks=[checkpoint_cb, early_stopping_cb],\n",
    "#         )\n",
    "#         wandb.log({\"loss\": history.history['loss'][-1]})\n",
    "#         wandb.log({\"accuracy\":history.history['accuracy'][-1]})\n",
    "#         wandb.log({\"valid_accuracy\":history.history['val_accuracy'][-1]})\n",
    "#         wandb.log({\"precision\":history.history['precision'][-1]})\n",
    "#         wandb.log({\"recall\":history.history['recall'][-1]})\n",
    "#         wandb.log({\"val_loss\":history.history['val_loss'][-1]})\n",
    "#         wandb.log({\"val_precision\":history.history['val_precision'][-1]})\n",
    "#         wandb.log({\"val_recall\":history.history['val_recall'][-1]})\n",
    "\n",
    "# count = 10\n",
    "# wandb.agent(sweep_id, function=train, count=count)\n"
   ]
  },
  {
   "cell_type": "code",
   "execution_count": 13,
   "id": "15e170ff",
   "metadata": {
    "_cell_guid": "af3f19f2-bbfa-47ac-8e50-7f7c03ef1e95",
    "_uuid": "49629a4c-6797-4c3c-8dc6-9dfd1735382c",
    "collapsed": false,
    "execution": {
     "iopub.execute_input": "2021-11-13T16:25:39.164440Z",
     "iopub.status.busy": "2021-11-13T16:25:39.163322Z",
     "iopub.status.idle": "2021-11-13T16:25:41.333293Z",
     "shell.execute_reply": "2021-11-13T16:25:41.334222Z",
     "shell.execute_reply.started": "2021-10-30T06:44:44.737121Z"
    },
    "jupyter": {
     "outputs_hidden": false
    },
    "papermill": {
     "duration": 10.564047,
     "end_time": "2021-11-13T16:25:41.334518",
     "exception": false,
     "start_time": "2021-11-13T16:25:30.770471",
     "status": "completed"
    },
    "tags": []
   },
   "outputs": [
    {
     "data": {
      "image/png": "[encoded data removed]",
      "text/plain": [
       "<Figure size 1080x1080 with 4 Axes>"
      ]
     },
     "metadata": {},
     "output_type": "display_data"
    }
   ],
   "source": [
    "pyplot.style.use('fivethirtyeight')\n",
    "fig, ax = pyplot.subplots(2, 2, figsize=(15, 15))\n",
    "ax = ax.ravel()\n",
    "\n",
    "for i, met in enumerate([\"precision\", \"recall\", \"accuracy\", \"loss\"]):\n",
    "    ax[i].plot(history.history[met])\n",
    "    ax[i].plot(history.history[\"val_\" + met])\n",
    "    ax[i].set_title(\"Model {}\".format(met))\n",
    "    ax[i].set_xlabel(\"epochs\")\n",
    "    ax[i].set_ylabel(met)\n",
    "    ax[i].legend([\"train\", \"val\"])\n",
    "try:\n",
    "    wandb.log({'training log img': wandb.Image(fig)})\n",
    "except:\n",
    "    pass\n"
   ]
  },
  {
   "cell_type": "code",
   "execution_count": 14,
   "id": "1c79432b",
   "metadata": {
    "_cell_guid": "b47b0d29-2a37-4654-8b32-ca1e9bc28eb5",
    "_uuid": "c4683d82-91ff-4ed4-949b-0f06d65a6ce8",
    "collapsed": false,
    "execution": {
     "iopub.execute_input": "2021-11-13T16:25:56.819743Z",
     "iopub.status.busy": "2021-11-13T16:25:56.818732Z",
     "iopub.status.idle": "2021-11-13T16:28:17.898284Z",
     "shell.execute_reply": "2021-11-13T16:28:17.897641Z",
     "shell.execute_reply.started": "2021-10-30T06:44:45.27911Z"
    },
    "jupyter": {
     "outputs_hidden": false
    },
    "papermill": {
     "duration": 148.582255,
     "end_time": "2021-11-13T16:28:17.898470",
     "exception": false,
     "start_time": "2021-11-13T16:25:49.316215",
     "status": "completed"
    },
    "tags": []
   },
   "outputs": [
    {
     "name": "stdout",
     "output_type": "stream",
     "text": [
      "427/427 [==============================] - 99s 232ms/step - loss: 0.0438 - accuracy: 0.9908 - precision: 0.9909 - recall: 0.9907\n"
     ]
    },
    {
     "data": {
      "text/plain": [
       "'train evaluation\\n'"
      ]
     },
     "metadata": {},
     "output_type": "display_data"
    },
    {
     "data": {
      "text/plain": [
       "{'loss': 0.04380442947149277,\n",
       " 'accuracy': 0.9907786846160889,\n",
       " 'precision': 0.9908505082130432,\n",
       " 'recall': 0.9907054901123047}"
      ]
     },
     "metadata": {},
     "output_type": "display_data"
    },
    {
     "name": "stdout",
     "output_type": "stream",
     "text": [
      "53/53 [==============================] - 13s 239ms/step - loss: 0.0688 - accuracy: 0.9746 - precision: 0.9746 - recall: 0.9746\n"
     ]
    },
    {
     "data": {
      "text/plain": [
       "'valid evaluation\\n'"
      ]
     },
     "metadata": {},
     "output_type": "display_data"
    },
    {
     "data": {
      "text/plain": [
       "{'loss': 0.06876692920923233,\n",
       " 'accuracy': 0.9746462106704712,\n",
       " 'precision': 0.9746462106704712,\n",
       " 'recall': 0.9746462106704712}"
      ]
     },
     "metadata": {},
     "output_type": "display_data"
    },
    {
     "name": "stdout",
     "output_type": "stream",
     "text": [
      "53/53 [==============================] - 27s 518ms/step - loss: 5.4632 - accuracy: 0.9764 - precision: 0.9764 - recall: 0.9764\n"
     ]
    },
    {
     "data": {
      "text/plain": [
       "'test evaluation\\n'"
      ]
     },
     "metadata": {},
     "output_type": "display_data"
    },
    {
     "data": {
      "text/plain": [
       "{'loss': 5.463168144226074,\n",
       " 'accuracy': 0.9764150977134705,\n",
       " 'precision': 0.9764150977134705,\n",
       " 'recall': 0.9764150977134705}"
      ]
     },
     "metadata": {},
     "output_type": "display_data"
    }
   ],
   "source": [
    "train_eval = model.evaluate(train_data, return_dict=True)\n",
    "wandb.log({'train evaluation': train_eval})\n",
    "display('train evaluation\\n', train_eval)\n",
    "\n",
    "valid_eval = model.evaluate(valid_data, return_dict=True)\n",
    "wandb.log({'valid evaluation': valid_eval})\n",
    "display('valid evaluation\\n', valid_eval)\n",
    "\n",
    "test_eval = model.evaluate(test_data, return_dict=True)\n",
    "wandb.log({'test evaluation': test_eval})\n",
    "display('test evaluation\\n', test_eval)\n"
   ]
  },
  {
   "cell_type": "code",
   "execution_count": 15,
   "id": "a68b782e",
   "metadata": {
    "_cell_guid": "84f4c07d-beb0-482e-80b5-9628dfb85b12",
    "_uuid": "de7faf8a-cadd-414f-8bcf-a11b448324ca",
    "collapsed": false,
    "execution": {
     "iopub.execute_input": "2021-11-13T16:28:34.063596Z",
     "iopub.status.busy": "2021-11-13T16:28:34.062602Z",
     "iopub.status.idle": "2021-11-13T16:28:34.893334Z",
     "shell.execute_reply": "2021-11-13T16:28:34.893994Z",
     "shell.execute_reply.started": "2021-10-30T06:44:45.81169Z"
    },
    "jupyter": {
     "outputs_hidden": false
    },
    "papermill": {
     "duration": 8.891548,
     "end_time": "2021-11-13T16:28:34.894240",
     "exception": false,
     "start_time": "2021-11-13T16:28:26.002692",
     "status": "completed"
    },
    "tags": []
   },
   "outputs": [
    {
     "data": {
      "text/plain": [
       "'3CAP'"
      ]
     },
     "execution_count": 15,
     "metadata": {},
     "output_type": "execute_result"
    }
   ],
   "source": [
    "\n",
    "\n",
    "def get_class(value):\n",
    "    for key in class_map.keys():\n",
    "        if class_map[key] == value:\n",
    "            return key\n",
    "\n",
    "\n",
    "get_class(2)\n"
   ]
  },
  {
   "cell_type": "markdown",
   "id": "750acaed",
   "metadata": {
    "papermill": {
     "duration": 8.769283,
     "end_time": "2021-11-13T16:28:51.386901",
     "exception": false,
     "start_time": "2021-11-13T16:28:42.617618",
     "status": "completed"
    },
    "tags": []
   },
   "source": [
    "### Confusion matrix - validation\n"
   ]
  },
  {
   "cell_type": "code",
   "execution_count": 16,
   "id": "62a0d14c",
   "metadata": {
    "execution": {
     "iopub.execute_input": "2021-11-13T16:29:07.397621Z",
     "iopub.status.busy": "2021-11-13T16:29:07.396168Z",
     "iopub.status.idle": "2021-11-13T16:29:33.076928Z",
     "shell.execute_reply": "2021-11-13T16:29:33.077608Z",
     "shell.execute_reply.started": "2021-10-30T06:44:46.362068Z"
    },
    "papermill": {
     "duration": 33.700763,
     "end_time": "2021-11-13T16:29:33.077795",
     "exception": false,
     "start_time": "2021-11-13T16:28:59.377032",
     "status": "completed"
    },
    "tags": []
   },
   "outputs": [
    {
     "name": "stdout",
     "output_type": "stream",
     "text": [
      "53/53 [==============================] - 13s 236ms/step\n",
      "              precision    recall  f1-score   support\n",
      "\n",
      "           0       0.97      0.96      0.97       666\n",
      "           1       0.97      0.98      0.97       743\n",
      "           2       1.00      1.00      1.00       287\n",
      "\n",
      "    accuracy                           0.97      1696\n",
      "   macro avg       0.98      0.98      0.98      1696\n",
      "weighted avg       0.97      0.97      0.97      1696\n",
      "\n"
     ]
    },
    {
     "data": {
      "text/plain": [
       "<AxesSubplot:>"
      ]
     },
     "metadata": {},
     "output_type": "display_data"
    },
    {
     "data": {
      "image/png": "[encoded data removed]",
      "text/plain": [
       "<Figure size 432x288 with 2 Axes>"
      ]
     },
     "metadata": {},
     "output_type": "display_data"
    }
   ],
   "source": [
    "\n",
    "labels = []\n",
    "for image, label in valid_data:\n",
    "    labels.append(label)\n",
    "\n",
    "labels = numpy.array(labels).reshape(-1, 3)\n",
    "predictions = model.predict(valid_data, verbose=1)\n",
    "labels = numpy.argmax(labels, axis=-1)\n",
    "y_pred = numpy.argmax(predictions, axis=-1)\n",
    "\n",
    "# get the classification report\n",
    "cr = classification_report(labels, y_pred)\n",
    "print(cr)\n",
    "cm = confusion_matrix(labels, y_pred)\n",
    "x = seaborn.heatmap(cm, cmap='winter', annot=True, fmt='d')\n",
    "try:\n",
    "    wandb.log({'confusion matrix valid img': wandb.Image(x)})\n",
    "except:\n",
    "    pass\n",
    "display(x)\n"
   ]
  },
  {
   "cell_type": "code",
   "execution_count": 17,
   "id": "11dbf97a",
   "metadata": {
    "_cell_guid": "9d19a9f5-7e2b-4d99-af8e-9e6d7cfe0321",
    "_uuid": "bf8967ab-1485-4178-a8b4-0efd801bb181",
    "collapsed": false,
    "execution": {
     "iopub.execute_input": "2021-11-13T16:29:49.027921Z",
     "iopub.status.busy": "2021-11-13T16:29:49.026786Z",
     "iopub.status.idle": "2021-11-13T16:30:14.614039Z",
     "shell.execute_reply": "2021-11-13T16:30:14.614638Z",
     "shell.execute_reply.started": "2021-10-30T06:44:46.890574Z"
    },
    "jupyter": {
     "outputs_hidden": false
    },
    "papermill": {
     "duration": 33.306342,
     "end_time": "2021-11-13T16:30:14.614820",
     "exception": false,
     "start_time": "2021-11-13T16:29:41.308478",
     "status": "completed"
    },
    "tags": []
   },
   "outputs": [
    {
     "name": "stdout",
     "output_type": "stream",
     "text": [
      "53/53 [==============================] - 13s 242ms/step\n",
      "              precision    recall  f1-score   support\n",
      "\n",
      "           0       0.98      0.97      0.97       707\n",
      "           1       0.97      0.98      0.97       735\n",
      "           2       1.00      0.99      1.00       254\n",
      "\n",
      "    accuracy                           0.98      1696\n",
      "   macro avg       0.98      0.98      0.98      1696\n",
      "weighted avg       0.98      0.98      0.98      1696\n",
      "\n"
     ]
    },
    {
     "data": {
      "text/plain": [
       "<AxesSubplot:>"
      ]
     },
     "metadata": {},
     "output_type": "display_data"
    },
    {
     "data": {
      "image/png": "[encoded data removed]",
      "text/plain": [
       "<Figure size 432x288 with 2 Axes>"
      ]
     },
     "metadata": {},
     "output_type": "display_data"
    }
   ],
   "source": [
    "labels = []\n",
    "for image, label in test_data:\n",
    "    labels.append(label)\n",
    "\n",
    "labels = numpy.array(labels).reshape(-1, 3)\n",
    "predictions = model.predict(test_data, verbose=1)\n",
    "labels = numpy.argmax(labels, axis=-1)\n",
    "y_pred = numpy.argmax(predictions, axis=-1)\n",
    "\n",
    "# get the classification report\n",
    "cr = classification_report(labels, y_pred)\n",
    "print(cr)\n",
    "cm = confusion_matrix(labels, y_pred)\n",
    "x = seaborn.heatmap(cm, cmap='winter', annot=True, fmt='d')\n",
    "try:\n",
    "    wandb.log({'confusion matrix test img': wandb.Image(x)})\n",
    "except:\n",
    "    pass\n",
    "display(x)\n"
   ]
  }
 ],
 "metadata": {
  "kernelspec": {
   "display_name": "Python 3",
   "language": "python",
   "name": "python3"
  },
  "language_info": {
   "codemirror_mode": {
    "name": "ipython",
    "version": 3
   },
   "file_extension": ".py",
   "mimetype": "text/x-python",
   "name": "python",
   "nbconvert_exporter": "python",
   "pygments_lexer": "ipython3",
   "version": "3.7.10"
  },
  "papermill": {
   "default_parameters": {},
   "duration": 6612.433542,
   "end_time": "2021-11-13T16:30:25.263396",
   "environment_variables": {},
   "exception": null,
   "input_path": "__notebook__.ipynb",
   "output_path": "__notebook__.ipynb",
   "parameters": {},
   "start_time": "2021-11-13T14:40:12.829854",
   "version": "2.3.3"
  },
  "widgets": {
   "application/vnd.jupyter.widget-state+json": {
    "state": {
     "13d6e8f7eca8480f8c0609e2a9c31eef": {
      "model_module": "@jupyter-widgets/controls",
      "model_module_version": "1.5.0",
      "model_name": "FloatProgressModel",
      "state": {
       "_dom_classes": [],
       "_model_module": "@jupyter-widgets/controls",
       "_model_module_version": "1.5.0",
       "_model_name": "FloatProgressModel",
       "_view_count": null,
       "_view_module": "@jupyter-widgets/controls",
       "_view_module_version": "1.5.0",
       "_view_name": "ProgressView",
       "bar_style": "",
       "description": "",
       "description_tooltip": null,
       "layout": "IPY_MODEL_6834193634824d04bde5da7317064d11",
       "max": 1,
       "min": 0,
       "orientation": "horizontal",
       "style": "IPY_MODEL_83546aa9374f4e1e90e2f77f2fb0f325",
       "value": 0
      }
     },
     "3fc7d11e116348beab75d4932debaadc": {
      "model_module": "@jupyter-widgets/base",
      "model_module_version": "1.2.0",
      "model_name": "LayoutModel",
      "state": {
       "_model_module": "@jupyter-widgets/base",
       "_model_module_version": "1.2.0",
       "_model_name": "LayoutModel",
       "_view_count": null,
       "_view_module": "@jupyter-widgets/base",
       "_view_module_version": "1.2.0",
       "_view_name": "LayoutView",
       "align_content": null,
       "align_items": null,
       "align_self": null,
       "border": null,
       "bottom": null,
       "display": null,
       "flex": null,
       "flex_flow": null,
       "grid_area": null,
       "grid_auto_columns": null,
       "grid_auto_flow": null,
       "grid_auto_rows": null,
       "grid_column": null,
       "grid_gap": null,
       "grid_row": null,
       "grid_template_areas": null,
       "grid_template_columns": null,
       "grid_template_rows": null,
       "height": null,
       "justify_content": null,
       "justify_items": null,
       "left": null,
       "margin": null,
       "max_height": null,
       "max_width": null,
       "min_height": null,
       "min_width": null,
       "object_fit": null,
       "object_position": null,
       "order": null,
       "overflow": null,
       "overflow_x": null,
       "overflow_y": null,
       "padding": null,
       "right": null,
       "top": null,
       "visibility": null,
       "width": null
      }
     },
     "4fcbed0fa6804406bfe11b71c0ea7e0a": {
      "model_module": "@jupyter-widgets/base",
      "model_module_version": "1.2.0",
      "model_name": "LayoutModel",
      "state": {
       "_model_module": "@jupyter-widgets/base",
       "_model_module_version": "1.2.0",
       "_model_name": "LayoutModel",
       "_view_count": null,
       "_view_module": "@jupyter-widgets/base",
       "_view_module_version": "1.2.0",
       "_view_name": "LayoutView",
       "align_content": null,
       "align_items": null,
       "align_self": null,
       "border": null,
       "bottom": null,
       "display": null,
       "flex": null,
       "flex_flow": null,
       "grid_area": null,
       "grid_auto_columns": null,
       "grid_auto_flow": null,
       "grid_auto_rows": null,
       "grid_column": null,
       "grid_gap": null,
       "grid_row": null,
       "grid_template_areas": null,
       "grid_template_columns": null,
       "grid_template_rows": null,
       "height": null,
       "justify_content": null,
       "justify_items": null,
       "left": null,
       "margin": null,
       "max_height": null,
       "max_width": null,
       "min_height": null,
       "min_width": null,
       "object_fit": null,
       "object_position": null,
       "order": null,
       "overflow": null,
       "overflow_x": null,
       "overflow_y": null,
       "padding": null,
       "right": null,
       "top": null,
       "visibility": null,
       "width": null
      }
     },
     "550cc51d9c6e4b5c932230941eebeecf": {
      "model_module": "@jupyter-widgets/controls",
      "model_module_version": "1.5.0",
      "model_name": "VBoxModel",
      "state": {
       "_dom_classes": [],
       "_model_module": "@jupyter-widgets/controls",
       "_model_module_version": "1.5.0",
       "_model_name": "VBoxModel",
       "_view_count": null,
       "_view_module": "@jupyter-widgets/controls",
       "_view_module_version": "1.5.0",
       "_view_name": "VBoxView",
       "box_style": "",
       "children": [
        "IPY_MODEL_7c5237db36de40678d851cf787653eab",
        "IPY_MODEL_13d6e8f7eca8480f8c0609e2a9c31eef"
       ],
       "layout": "IPY_MODEL_3fc7d11e116348beab75d4932debaadc"
      }
     },
     "6834193634824d04bde5da7317064d11": {
      "model_module": "@jupyter-widgets/base",
      "model_module_version": "1.2.0",
      "model_name": "LayoutModel",
      "state": {
       "_model_module": "@jupyter-widgets/base",
       "_model_module_version": "1.2.0",
       "_model_name": "LayoutModel",
       "_view_count": null,
       "_view_module": "@jupyter-widgets/base",
       "_view_module_version": "1.2.0",
       "_view_name": "LayoutView",
       "align_content": null,
       "align_items": null,
       "align_self": null,
       "border": null,
       "bottom": null,
       "display": null,
       "flex": null,
       "flex_flow": null,
       "grid_area": null,
       "grid_auto_columns": null,
       "grid_auto_flow": null,
       "grid_auto_rows": null,
       "grid_column": null,
       "grid_gap": null,
       "grid_row": null,
       "grid_template_areas": null,
       "grid_template_columns": null,
       "grid_template_rows": null,
       "height": null,
       "justify_content": null,
       "justify_items": null,
       "left": null,
       "margin": null,
       "max_height": null,
       "max_width": null,
       "min_height": null,
       "min_width": null,
       "object_fit": null,
       "object_position": null,
       "order": null,
       "overflow": null,
       "overflow_x": null,
       "overflow_y": null,
       "padding": null,
       "right": null,
       "top": null,
       "visibility": null,
       "width": null
      }
     },
     "7c5237db36de40678d851cf787653eab": {
      "model_module": "@jupyter-widgets/controls",
      "model_module_version": "1.5.0",
      "model_name": "LabelModel",
      "state": {
       "_dom_classes": [],
       "_model_module": "@jupyter-widgets/controls",
       "_model_module_version": "1.5.0",
       "_model_name": "LabelModel",
       "_view_count": null,
       "_view_module": "@jupyter-widgets/controls",
       "_view_module_version": "1.5.0",
       "_view_name": "LabelView",
       "description": "",
       "description_tooltip": null,
       "layout": "IPY_MODEL_4fcbed0fa6804406bfe11b71c0ea7e0a",
       "placeholder": "​",
       "style": "IPY_MODEL_ea821d3952164abc8506ee913397ba3b",
       "value": ""
      }
     },
     "83546aa9374f4e1e90e2f77f2fb0f325": {
      "model_module": "@jupyter-widgets/controls",
      "model_module_version": "1.5.0",
      "model_name": "ProgressStyleModel",
      "state": {
       "_model_module": "@jupyter-widgets/controls",
       "_model_module_version": "1.5.0",
       "_model_name": "ProgressStyleModel",
       "_view_count": null,
       "_view_module": "@jupyter-widgets/base",
       "_view_module_version": "1.2.0",
       "_view_name": "StyleView",
       "bar_color": null,
       "description_width": ""
      }
     },
     "ea821d3952164abc8506ee913397ba3b": {
      "model_module": "@jupyter-widgets/controls",
      "model_module_version": "1.5.0",
      "model_name": "DescriptionStyleModel",
      "state": {
       "_model_module": "@jupyter-widgets/controls",
       "_model_module_version": "1.5.0",
       "_model_name": "DescriptionStyleModel",
       "_view_count": null,
       "_view_module": "@jupyter-widgets/base",
       "_view_module_version": "1.2.0",
       "_view_name": "StyleView",
       "description_width": ""
      }
     }
    },
    "version_major": 2,
    "version_minor": 0
   }
  }
 },
 "nbformat": 4,
 "nbformat_minor": 5
}
